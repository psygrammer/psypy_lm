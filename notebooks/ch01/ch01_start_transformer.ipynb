{
  "nbformat": 4,
  "nbformat_minor": 0,
  "metadata": {
    "colab": {
      "name": "ch01_start_transformer.ipynb",
      "provenance": [],
      "authorship_tag": "ABX9TyN//fQJioKwg9rFH8CQY0Jx",
      "include_colab_link": true
    },
    "kernelspec": {
      "name": "python3",
      "display_name": "Python 3"
    },
    "accelerator": "GPU"
  },
  "cells": [
    {
      "cell_type": "markdown",
      "metadata": {
        "id": "view-in-github",
        "colab_type": "text"
      },
      "source": [
        "<a href=\"https://colab.research.google.com/github/psygrammer/psypy_lm/blob/main/notebooks/ch01/ch01_start_transformer.ipynb\" target=\"_parent\"><img src=\"https://colab.research.google.com/assets/colab-badge.svg\" alt=\"Open In Colab\"/></a>"
      ]
    },
    {
      "cell_type": "markdown",
      "metadata": {
        "id": "IXlLT63Zt6Ep"
      },
      "source": [
        "# 1. Getting Started with the Model Architecture of the Transformer"
      ]
    },
    {
      "cell_type": "markdown",
      "metadata": {
        "id": "1M81DmIa7idz"
      },
      "source": [
        "* 싸이그래머 / 싸이파이 [1]\n",
        "* 김무성"
      ]
    },
    {
      "cell_type": "markdown",
      "metadata": {
        "id": "bhoBDIF1rY92"
      },
      "source": [
        "----------------"
      ]
    },
    {
      "cell_type": "markdown",
      "metadata": {
        "id": "L74LPx4qpdXs"
      },
      "source": [
        "# Contents\n",
        "* The background of the Transformer\n",
        "* The rise of the Tranformer : Attention is All You Need\n",
        "  - The encoder stack\n",
        "    - Input embedding\n",
        "    - Positional encoding\n",
        "    - Sub-layer 1 : Multi-head attention\n",
        "    - Sub-layer 2 : Feedforward network\n",
        "  - The decoder stack\n",
        "    - Output embedding and position encoding\n",
        "    - The attention layers\n",
        "    - The FFN sub-layer, the Post-LN, and the linear layer\n",
        "* Training and performance\n",
        "  - Before we end the chapter\n",
        "* Summary"
      ]
    },
    {
      "cell_type": "markdown",
      "metadata": {
        "id": "goxmkqEvrank"
      },
      "source": [
        "----------------"
      ]
    },
    {
      "cell_type": "markdown",
      "metadata": {
        "id": "uQcWmmEqqM62"
      },
      "source": [
        "# The background of the Transformer"
      ]
    },
    {
      "cell_type": "code",
      "metadata": {
        "id": "Lz-jy_kAt37V"
      },
      "source": [
        ""
      ],
      "execution_count": null,
      "outputs": []
    },
    {
      "cell_type": "markdown",
      "metadata": {
        "id": "LDGDj-ZgrfvH"
      },
      "source": [
        "----------------"
      ]
    },
    {
      "cell_type": "markdown",
      "metadata": {
        "id": "KfPJonPNqh8b"
      },
      "source": [
        "# The rise of the Tranformer : Attention is All You Need\n",
        "* The encoder stack\n",
        "* The decoder stack\n"
      ]
    },
    {
      "cell_type": "markdown",
      "metadata": {
        "id": "v0q0ZDT3rddE"
      },
      "source": [
        "--------------------"
      ]
    },
    {
      "cell_type": "markdown",
      "metadata": {
        "id": "D6X_vrlwqqsx"
      },
      "source": [
        "## The encoder stack\n",
        "* Input embedding\n",
        "* Positional encoding\n",
        "* Sub-layer 1 : Multi-head attention\n",
        "* Sub-layer 2 : Feedforward network\n"
      ]
    },
    {
      "cell_type": "code",
      "metadata": {
        "colab": {
          "base_uri": "https://localhost:8080/"
        },
        "id": "Pfi8ReXEuK2n",
        "outputId": "c301a588-6ede-40ad-bdf1-80059167fe95"
      },
      "source": [
        "!git clone https://github.com/psygrammer/psypy_lm.git"
      ],
      "execution_count": 1,
      "outputs": [
        {
          "output_type": "stream",
          "text": [
            "Cloning into 'psypy_lm'...\n",
            "remote: Enumerating objects: 63, done.\u001b[K\n",
            "remote: Counting objects: 100% (63/63), done.\u001b[K\n",
            "remote: Compressing objects: 100% (53/53), done.\u001b[K\n",
            "remote: Total 63 (delta 21), reused 13 (delta 2), pack-reused 0\u001b[K\n",
            "Unpacking objects: 100% (63/63), done.\n"
          ],
          "name": "stdout"
        }
      ]
    },
    {
      "cell_type": "code",
      "metadata": {
        "id": "8wOtJp6vvUtq",
        "colab": {
          "base_uri": "https://localhost:8080/"
        },
        "outputId": "2eacae9d-8918-48c4-e21d-59444f99ab25"
      },
      "source": [
        "!ls"
      ],
      "execution_count": 2,
      "outputs": [
        {
          "output_type": "stream",
          "text": [
            "psypy_lm  sample_data\n"
          ],
          "name": "stdout"
        }
      ]
    },
    {
      "cell_type": "code",
      "metadata": {
        "colab": {
          "base_uri": "https://localhost:8080/"
        },
        "id": "WsB8tbxVuGBf",
        "outputId": "9b3294b2-51c1-47bf-8df9-5ef2cd42193c"
      },
      "source": [
        "# change work_dir\n",
        "%cd /content/psypy_lm/notebooks/ch01/"
      ],
      "execution_count": 3,
      "outputs": [
        {
          "output_type": "stream",
          "text": [
            "/content/psypy_lm/notebooks/ch01\n"
          ],
          "name": "stdout"
        }
      ]
    },
    {
      "cell_type": "code",
      "metadata": {
        "id": "E5xpMBqSvcCl",
        "colab": {
          "base_uri": "https://localhost:8080/"
        },
        "outputId": "c96404e8-5b6b-470c-e20a-a57ef1b89565"
      },
      "source": [
        "!ls"
      ],
      "execution_count": 4,
      "outputs": [
        {
          "output_type": "stream",
          "text": [
            "ch01_start_transformer.ipynb  text.txt\n"
          ],
          "name": "stdout"
        }
      ]
    },
    {
      "cell_type": "code",
      "metadata": {
        "colab": {
          "base_uri": "https://localhost:8080/"
        },
        "id": "MotCa3y2rKAB",
        "outputId": "344b2ac5-7f68-46fd-9112-165f59b82f1e"
      },
      "source": [
        "#!pip install --upgrade gensim\n",
        "import torch\n",
        "import nltk\n",
        "nltk.download('punkt')"
      ],
      "execution_count": 5,
      "outputs": [
        {
          "output_type": "stream",
          "text": [
            "[nltk_data] Downloading package punkt to /root/nltk_data...\n",
            "[nltk_data]   Unzipping tokenizers/punkt.zip.\n"
          ],
          "name": "stdout"
        },
        {
          "output_type": "execute_result",
          "data": {
            "text/plain": [
              "True"
            ]
          },
          "metadata": {
            "tags": []
          },
          "execution_count": 5
        }
      ]
    },
    {
      "cell_type": "code",
      "metadata": {
        "id": "uhQxFJhHtXHR"
      },
      "source": [
        "import math\n",
        "import numpy as np\n",
        "from nltk.tokenize import sent_tokenize, word_tokenize \n",
        "import gensim \n",
        "from gensim.models import Word2Vec \n",
        "from sklearn.metrics.pairwise import cosine_similarity\n",
        "import matplotlib.pyplot as plt\n",
        "import warnings \n",
        "warnings.filterwarnings(action = 'ignore') "
      ],
      "execution_count": 6,
      "outputs": []
    },
    {
      "cell_type": "markdown",
      "metadata": {
        "id": "-1ouFHvzq2Dn"
      },
      "source": [
        "### Input embedding\n"
      ]
    },
    {
      "cell_type": "code",
      "metadata": {
        "id": "-GrjGWyHrKpR"
      },
      "source": [
        "input_str = \"the Transformer is an innovative NLP model!\""
      ],
      "execution_count": 7,
      "outputs": []
    },
    {
      "cell_type": "code",
      "metadata": {
        "colab": {
          "base_uri": "https://localhost:8080/"
        },
        "id": "ozxspHBotnh6",
        "outputId": "021aa3d4-2577-4f9a-f89e-108e55915117"
      },
      "source": [
        "tokens = word_tokenize(input_str)\n",
        "tokens"
      ],
      "execution_count": 8,
      "outputs": [
        {
          "output_type": "execute_result",
          "data": {
            "text/plain": [
              "['the', 'Transformer', 'is', 'an', 'innovative', 'NLP', 'model', '!']"
            ]
          },
          "metadata": {
            "tags": []
          },
          "execution_count": 8
        }
      ]
    },
    {
      "cell_type": "code",
      "metadata": {
        "id": "GOx325pFt4wM",
        "colab": {
          "base_uri": "https://localhost:8080/"
        },
        "outputId": "eaeb9026-5511-4f40-c1b4-2a55d9ad8121"
      },
      "source": [
        "# word2vec을 사용하기 위해 학습을 해보자. \n",
        "# 아래처럼 코퍼스 파일이 있는 상황.\n",
        "!ls"
      ],
      "execution_count": 9,
      "outputs": [
        {
          "output_type": "stream",
          "text": [
            "ch01_start_transformer.ipynb  text.txt\n"
          ],
          "name": "stdout"
        }
      ]
    },
    {
      "cell_type": "code",
      "metadata": {
        "id": "7FRiP6gxWsn2"
      },
      "source": [
        "with open('text.txt', 'r') as sample:\n",
        "  s = sample.read()"
      ],
      "execution_count": 10,
      "outputs": []
    },
    {
      "cell_type": "code",
      "metadata": {
        "id": "O9nbumtExzRj",
        "outputId": "8fcc6da0-b770-47ab-822d-85dc7cef4401",
        "colab": {
          "base_uri": "https://localhost:8080/",
          "height": 222
        }
      },
      "source": [
        "s"
      ],
      "execution_count": 11,
      "outputs": [
        {
          "output_type": "execute_result",
          "data": {
            "application/vnd.google.colaboratory.intrinsic+json": {
              "type": "string"
            },
            "text/plain": [
              "'The black cat sat on the couch and the brown dog slept on the rug.The cat did not cross the street because it was too wet.The dog sat on the couch near the rug.The black cat sat on the couch and the brown dog slept on the rug.The cat did not cross the street because it was too wet.The dog sat on the couch near the rug.\\nThe black cat sat on the couch and the brown dog slept on the rug.The cat did not cross the street because it was too wet.The dog sat on the couch near the rug.\\nThe black cat sat on the couch and the brown dog slept on the rug.The cat did not cross the street because it was too wet.The dog sat on the couch near the rug.\\nThe black cat sat on the couch and the brown dog slept on the rug.The cat did not cross the street because it was too wet.The dog sat on the couch near the rug.\\nThe black cat sat on the couch and the brown dog slept on the rug.The cat did not cross the street because it was too wet.The dog sat on the couch near the rug.\\nThe black cat sat on the couch and the brown dog slept on the rug.The cat did not cross the street because it was too wet.The dog sat on the couch near the rug.\\nThe black cat sat on the couch and the brown dog slept on the rug.The cat did not cross the street because it was too wet.The dog sat on the couch near the rug.\\nThe black cat sat on the couch and the brown dog slept on the rug.The cat did not cross the street because it was too wet.The dog sat on the couch near the rug.\\nThe black cat sat on the couch and the brown dog slept on the rug.The cat did not cross the street because it was too wet.The dog sat on the couch near the rug.\\nThe black cat sat on the couch and the brown dog slept on the rug.The cat did not cross the street because it was too wet.The dog sat on the couch near the rug.\\nThe black cat sat on the couch and the brown dog slept on the rug.The cat did not cross the street because it was too wet.The dog sat on the couch near the rug.\\nThe black cat sat on the couch and the brown dog slept on the rug.The cat did not cross the street because it was too wet.The dog sat on the couch near the rug.\\nThe black cat sat on the couch and the brown dog slept on the rug.The cat did not cross the street because it was too wet.The dog sat on the couch near the rug.\\nThe black cat sat on the couch and the brown dog slept on the rug.The cat did not cross the street because it was too wet.The dog sat on the couch near the rug.\\nThe black cat sat on the couch and the brown dog slept on the rug.The cat did not cross the street because it was too wet.The dog sat on the couch near the rug.\\nThe black cat sat on the couch and the brown dog slept on the rug.The cat did not cross the street because it was too wet.The dog sat on the couch near the rug.\\nThe black cat sat on the couch and the brown dog slept on the rug.The cat did not cross the street because it was too wet.The dog sat on the couch near the rug.\\nThe black cat sat on the couch and the brown dog slept on the rug.The cat did not cross the street because it was too wet.The dog sat on the couch near the rug.\\nThe black cat sat on the couch and the brown dog slept on the rug.The cat did not cross the street because it was too wet.The dog sat on the couch near the rug.\\nThe black cat sat on the couch and the brown dog slept on the rug.The cat did not cross the street because it was too wet.The dog sat on the couch near the rug.\\nThe black cat sat on the couch and the brown dog slept on the rug.The cat did not cross the street because it was too wet.The dog sat on the couch near the rug.\\nThe black cat sat on the couch and the brown dog slept on the rug.The cat did not cross the street because it was too wet.The dog sat on the couch near the rug.\\nThe black cat sat on the couch and the brown dog slept on the rug.The cat did not cross the street because it was too wet.The dog sat on the couch near the rug.\\nThe black cat sat on the couch and the brown dog slept on the rug.The cat did not cross the street because it was too wet.The dog sat on the couch near the rug.\\nThe black cat sat on the couch and the brown dog slept on the rug.The cat did not cross the street because it was too wet.The dog sat on the couch near the rug.\\nThe black cat sat on the couch and the brown dog slept on the rug.The cat did not cross the street because it was too wet.The dog sat on the couch near the rug.\\nThe black cat sat on the couch and the brown dog slept on the rug.The cat did not cross the street because it was too wet.The dog sat on the couch near the rug.\\nThe black cat sat on the couch and the brown dog slept on the rug.The cat did not cross the street because it was too wet.The dog sat on the couch near the rug.\\nThe black cat sat on the couch and the brown dog slept on the rug.The cat did not cross the street because it was too wet.The dog sat on the couch near the rug.\\nThe black cat sat on the couch and the brown dog slept on the rug.The cat did not cross the street because it was too wet.The dog sat on the couch near the rug.\\nThe black cat sat on the couch and the brown dog slept on the rug.The cat did not cross the street because it was too wet.The dog sat on the couch near the rug.\\nThe black cat sat on the couch and the brown dog slept on the rug.The cat did not cross the street because it was too wet.The dog sat on the couch near the rug.\\nThe black cat sat on the couch and the brown dog slept on the rug.The cat did not cross the street because it was too wet.The dog sat on the couch near the rug.\\nThe black cat sat on the couch and the brown dog slept on the rug.The cat did not cross the street because it was too wet.The dog sat on the couch near the rug.\\nThe black cat sat on the couch and the brown dog slept on the rug.The cat did not cross the street because it was too wet.The dog sat on the couch near the rug.\\nThe black cat sat on the couch and the brown dog slept on the rug.The cat did not cross the street because it was too wet.The dog sat on the couch near the rug.\\nThe black cat sat on the couch and the brown dog slept on the rug.The cat did not cross the street because it was too wet.The dog sat on the couch near the rug.\\nThe black cat sat on the couch and the brown dog slept on the rug.The cat did not cross the street because it was too wet.The dog sat on the couch near the rug.\\nThe black cat sat on the couch and the brown dog slept on the rug.The cat did not cross the street because it was too wet.The dog sat on the couch near the rug.\\nThe black cat sat on the couch and the brown dog slept on the rug.The cat did not cross the street because it was too wet.The dog sat on the couch near the rug.\\nThe black cat sat on the couch and the brown dog slept on the rug.The cat did not cross the street because it was too wet.The dog sat on the couch near the rug.\\nThe black cat sat on the couch and the brown dog slept on the rug.The cat did not cross the street because it was too wet.The dog sat on the couch near the rug.\\nThe black cat sat on the couch and the brown dog slept on the rug.The cat did not cross the street because it was too wet.The dog sat on the couch near the rug.\\nThe black cat sat on the couch and the brown dog slept on the rug.The cat did not cross the street because it was too wet.The dog sat on the couch near the rug.\\nThe black cat sat on the couch and the brown dog slept on the rug.The cat did not cross the street because it was too wet.The dog sat on the couch near the rug.\\nThe black cat sat on the couch and the brown dog slept on the rug.The cat did not cross the street because it was too wet.The dog sat on the couch near the rug.\\nThe black cat sat on the couch and the brown dog slept on the rug.The cat did not cross the street because it was too wet.The dog sat on the couch near the rug.\\nThe black cat sat on the couch and the brown dog slept on the rug.The cat did not cross the street because it was too wet.The dog sat on the couch near the rug.\\nThe black cat sat on the couch and the brown dog slept on the rug.The cat did not cross the street because it was too wet.The dog sat on the couch near the rug.\\nThe black cat sat on the couch and the brown dog slept on the rug.The cat did not cross the street because it was too wet.The dog sat on the couch near the rug.\\nThe black cat sat on the couch and the brown dog slept on the rug.The cat did not cross the street because it was too wet.The dog sat on the couch near the rug.\\nThe black cat sat on the couch and the brown dog slept on the rug.The cat did not cross the street because it was too wet.The dog sat on the couch near the rug.\\nThe black cat sat on the couch and the brown dog slept on the rug.The cat did not cross the street because it was too wet.The dog sat on the couch near the rug.\\nThe black cat sat on the couch and the brown dog slept on the rug.The cat did not cross the street because it was too wet.The dog sat on the couch near the rug.\\nThe black cat sat on the couch and the brown dog slept on the rug.The cat did not cross the street because it was too wet.The dog sat on the couch near the rug.\\nThe black cat sat on the couch and the brown dog slept on the rug.The cat did not cross the street because it was too wet.The dog sat on the couch near the rug.\\nThe black cat sat on the couch and the brown dog slept on the rug.The cat did not cross the street because it was too wet.The dog sat on the couch near the rug.\\nThe black cat sat on the couch and the brown dog slept on the rug.The cat did not cross the street because it was too wet.The dog sat on the couch near the rug.\\nThe black cat sat on the couch and the brown dog slept on the rug.The cat did not cross the street because it was too wet.The dog sat on the couch near the rug.\\nThe black cat sat on the couch and the brown dog slept on the rug.The cat did not cross the street because it was too wet.The dog sat on the couch near the rug.\\nThe black cat sat on the couch and the brown dog slept on the rug.The cat did not cross the street because it was too wet.The dog sat on the couch near the rug.\\nThe black cat sat on the couch and the brown dog slept on the rug.The cat did not cross the street because it was too wet.The dog sat on the couch near the rug.\\nThe black cat sat on the couch and the brown dog slept on the rug.The cat did not cross the street because it was too wet.The dog sat on the couch near the rug.\\nThe black cat sat on the couch and the brown dog slept on the rug.The cat did not cross the street because it was too wet.The dog sat on the couch near the rug.\\nThe black cat sat on the couch and the brown dog slept on the rug.The cat did not cross the street because it was too wet.The dog sat on the couch near the rug.\\nThe black cat sat on the couch and the brown dog slept on the rug.The cat did not cross the street because it was too wet.The dog sat on the couch near the rug.\\nThe black cat sat on the couch and the brown dog slept on the rug.The cat did not cross the street because it was too wet.The dog sat on the couch near the rug.\\nThe black cat sat on the couch and the brown dog slept on the rug.The cat did not cross the street because it was too wet.The dog sat on the couch near the rug.\\nThe black cat sat on the couch and the brown dog slept on the rug.The cat did not cross the street because it was too wet.The dog sat on the couch near the rug.\\nThe black cat sat on the couch and the brown dog slept on the rug.The cat did not cross the street because it was too wet.The dog sat on the couch near the rug.\\nThe black cat sat on the couch and the brown dog slept on the rug.The cat did not cross the street because it was too wet.The dog sat on the couch near the rug.\\nThe black cat sat on the couch and the brown dog slept on the rug.The cat did not cross the street because it was too wet.The dog sat on the couch near the rug.\\nThe black cat sat on the couch and the brown dog slept on the rug.The cat did not cross the street because it was too wet.The dog sat on the couch near the rug.\\nThe black cat sat on the couch and the brown dog slept on the rug.The cat did not cross the street because it was too wet.The dog sat on the couch near the rug.\\nThe black cat sat on the couch and the brown dog slept on the rug.The cat did not cross the street because it was too wet.The dog sat on the couch near the rug.\\nThe black cat sat on the couch and the brown dog slept on the rug.The cat did not cross the street because it was too wet.The dog sat on the couch near the rug.\\nThe black cat sat on the couch and the brown dog slept on the rug.The cat did not cross the street because it was too wet.The dog sat on the couch near the rug.\\nThe black cat sat on the couch and the brown dog slept on the rug.The cat did not cross the street because it was too wet.The dog sat on the couch near the rug.\\nThe black cat sat on the couch and the brown dog slept on the rug.The cat did not cross the street because it was too wet.The dog sat on the couch near the rug.\\nThe black cat sat on the couch and the brown dog slept on the rug.The cat did not cross the street because it was too wet.The dog sat on the couch near the rug.\\nThe black cat sat on the couch and the brown dog slept on the rug.The cat did not cross the street because it was too wet.The dog sat on the couch near the rug.\\nThe black cat sat on the couch and the brown dog slept on the rug.The cat did not cross the street because it was too wet.The dog sat on the couch near the rug.\\nThe black cat sat on the couch and the brown dog slept on the rug.The cat did not cross the street because it was too wet.The dog sat on the couch near the rug.\\nThe black cat sat on the couch and the brown dog slept on the rug.The cat did not cross the street because it was too wet.The dog sat on the couch near the rug.\\nThe black cat sat on the couch and the brown dog slept on the rug.The cat did not cross the street because it was too wet.The dog sat on the couch near the rug.\\nThe black cat sat on the couch and the brown dog slept on the rug.The cat did not cross the street because it was too wet.The dog sat on the couch near the rug.\\nThe black cat sat on the couch and the brown dog slept on the rug.The cat did not cross the street because it was too wet.The dog sat on the couch near the rug.\\nThe black cat sat on the couch and the brown dog slept on the rug.The cat did not cross the street because it was too wet.The dog sat on the couch near the rug.\\nThe black cat sat on the couch and the brown dog slept on the rug.The cat did not cross the street because it was too wet.The dog sat on the couch near the rug.\\nThe black cat sat on the couch and the brown dog slept on the rug.The cat did not cross the street because it was too wet.The dog sat on the couch near the rug.\\nThe black cat sat on the couch and the brown dog slept on the rug.The cat did not cross the street because it was too wet.The dog sat on the couch near the rug.\\nThe black cat sat on the couch and the brown dog slept on the rug.The cat did not cross the street because it was too wet.The dog sat on the couch near the rug.\\nThe black cat sat on the couch and the brown dog slept on the rug.The cat did not cross the street because it was too wet.The dog sat on the couch near the rug.\\nThe black cat sat on the couch and the brown dog slept on the rug.The cat did not cross the street because it was too wet.The dog sat on the couch near the rug.\\nThe black cat sat on the couch and the brown dog slept on the rug.The cat did not cross the street because it was too wet.The dog sat on the couch near the rug.\\nThe black cat sat on the couch and the brown dog slept on the rug.The cat did not cross the street because it was too wet.The dog sat on the couch near the rug.\\nThe black cat sat on the couch and the brown dog slept on the rug.The cat did not cross the street because it was too wet.The dog sat on the couch near the rug.\\nThe black cat sat on the couch and the brown dog slept on the rug.The cat did not cross the street because it was too wet.The dog sat on the couch near the rug.\\nThe black cat sat on the couch and the brown dog slept on the rug.The cat did not cross the street because it was too wet.The dog sat on the couch near the rug.\\nThe black cat sat on the couch and the brown dog slept on the rug.The cat did not cross the street because it was too wet.The dog sat on the couch near the rug.\\nThe black cat sat on the couch and the brown dog slept on the rug.The cat did not cross the street because it was too wet.The dog sat on the couch near the rug.\\nThe black cat sat on the couch and the brown dog slept on the rug.The cat did not cross the street because it was too wet.The dog sat on the couch near the rug.\\nThe black cat sat on the couch and the brown dog slept on the rug.The cat did not cross the street because it was too wet.The dog sat on the couch near the rug.\\nThe black cat sat on the couch and the brown dog slept on the rug.The cat did not cross the street because it was too wet.The dog sat on the couch near the rug.\\nThe black cat sat on the couch and the brown dog slept on the rug.The cat did not cross the street because it was too wet.The dog sat on the couch near the rug.\\nThe black cat sat on the couch and the brown dog slept on the rug.The cat did not cross the street because it was too wet.The dog sat on the couch near the rug.\\nThe black cat sat on the couch and the brown dog slept on the rug.The cat did not cross the street because it was too wet.The dog sat on the couch near the rug.\\nThe black cat sat on the couch and the brown dog slept on the rug.The cat did not cross the street because it was too wet.The dog sat on the couch near the rug.\\nThe black cat sat on the couch and the brown dog slept on the rug.The cat did not cross the street because it was too wet.The dog sat on the couch near the rug.\\nThe black cat sat on the couch and the brown dog slept on the rug.The cat did not cross the street because it was too wet.The dog sat on the couch near the rug.\\nThe black cat sat on the couch and the brown dog slept on the rug.The cat did not cross the street because it was too wet.The dog sat on the couch near the rug.\\nThe black cat sat on the couch and the brown dog slept on the rug.The cat did not cross the street because it was too wet.The dog sat on the couch near the rug.\\nThe black cat sat on the couch and the brown dog slept on the rug.The cat did not cross the street because it was too wet.The dog sat on the couch near the rug.\\nThe black cat sat on the couch and the brown dog slept on the rug.The cat did not cross the street because it was too wet.The dog sat on the couch near the rug.\\nThe black cat sat on the couch and the brown dog slept on the rug.The cat did not cross the street because it was too wet.The dog sat on the couch near the rug.\\nThe black cat sat on the couch and the brown dog slept on the rug.The cat did not cross the street because it was too wet.The dog sat on the couch near the rug.\\nThe black cat sat on the couch and the brown dog slept on the rug.The cat did not cross the street because it was too wet.The dog sat on the couch near the rug.\\nThe black cat sat on the couch and the brown dog slept on the rug.The cat did not cross the street because it was too wet.The dog sat on the couch near the rug.\\nThe black cat sat on the couch and the brown dog slept on the rug.The cat did not cross the street because it was too wet.The dog sat on the couch near the rug.\\nThe black cat sat on the couch and the brown dog slept on the rug.The cat did not cross the street because it was too wet.The dog sat on the couch near the rug.\\nThe black cat sat on the couch and the brown dog slept on the rug.The cat did not cross the street because it was too wet.The dog sat on the couch near the rug.\\nThe black cat sat on the couch and the brown dog slept on the rug.The cat did not cross the street because it was too wet.The dog sat on the couch near the rug.\\nThe black cat sat on the couch and the brown dog slept on the rug.The cat did not cross the street because it was too wet.The dog sat on the couch near the rug.\\nThe black cat sat on the couch and the brown dog slept on the rug.The cat did not cross the street because it was too wet.The dog sat on the couch near the rug.\\nThe black cat sat on the couch and the brown dog slept on the rug.The cat did not cross the street because it was too wet.The dog sat on the couch near the rug.\\nThe black cat sat on the couch and the brown dog slept on the rug.The cat did not cross the street because it was too wet.The dog sat on the couch near the rug.\\nThe black cat sat on the couch and the brown dog slept on the rug.The cat did not cross the street because it was too wet.The dog sat on the couch near the rug.\\nThe black cat sat on the couch and the brown dog slept on the rug.The cat did not cross the street because it was too wet.The dog sat on the couch near the rug.\\nThe black cat sat on the couch and the brown dog slept on the rug.The cat did not cross the street because it was too wet.The dog sat on the couch near the rug.\\nThe black cat sat on the couch and the brown dog slept on the rug.The cat did not cross the street because it was too wet.The dog sat on the couch near the rug.\\nThe black cat sat on the couch and the brown dog slept on the rug.The cat did not cross the street because it was too wet.The dog sat on the couch near the rug.\\nThe black cat sat on the couch and the brown dog slept on the rug.The cat did not cross the street because it was too wet.The dog sat on the couch near the rug.\\nThe black cat sat on the couch and the brown dog slept on the rug.The cat did not cross the street because it was too wet.The dog sat on the couch near the rug.\\nThe black cat sat on the couch and the brown dog slept on the rug.The cat did not cross the street because it was too wet.The dog sat on the couch near the rug.\\nThe black cat sat on the couch and the brown dog slept on the rug.The cat did not cross the street because it was too wet.The dog sat on the couch near the rug.\\nThe black cat sat on the couch and the brown dog slept on the rug.The cat did not cross the street because it was too wet.The dog sat on the couch near the rug.\\nThe black cat sat on the couch and the brown dog slept on the rug.The cat did not cross the street because it was too wet.The dog sat on the couch near the rug.\\nThe black cat sat on the couch and the brown dog slept on the rug.The cat did not cross the street because it was too wet.The dog sat on the couch near the rug.\\nThe black cat sat on the couch and the brown dog slept on the rug.The cat did not cross the street because it was too wet.The dog sat on the couch near the rug.\\nThe black cat sat on the couch and the brown dog slept on the rug.The cat did not cross the street because it was too wet.The dog sat on the couch near the rug.\\nThe black cat sat on the couch and the brown dog slept on the rug.The cat did not cross the street because it was too wet.The dog sat on the couch near the rug.\\nThe black cat sat on the couch and the brown dog slept on the rug.The cat did not cross the street because it was too wet.The dog sat on the couch near the rug.\\nThe black cat sat on the couch and the brown dog slept on the rug.The cat did not cross the street because it was too wet.The dog sat on the couch near the rug.\\nThe black cat sat on the couch and the brown dog slept on the rug.The cat did not cross the street because it was too wet.The dog sat on the couch near the rug.\\nThe black cat sat on the couch and the brown dog slept on the rug.The cat did not cross the street because it was too wet.The dog sat on the couch near the rug.\\nThe black cat sat on the couch and the brown dog slept on the rug.The cat did not cross the street because it was too wet.The dog sat on the couch near the rug.\\nThe black cat sat on the couch and the brown dog slept on the rug.The cat did not cross the street because it was too wet.The dog sat on the couch near the rug.\\nThe black cat sat on the couch and the brown dog slept on the rug.The cat did not cross the street because it was too wet.The dog sat on the couch near the rug.\\nThe black cat sat on the couch and the brown dog slept on the rug.The cat did not cross the street because it was too wet.The dog sat on the couch near the rug.\\n\\n\\n'"
            ]
          },
          "metadata": {
            "tags": []
          },
          "execution_count": 11
        }
      ]
    },
    {
      "cell_type": "code",
      "metadata": {
        "id": "9SxbVbORW-Hg"
      },
      "source": [
        "# processing escape characters \n",
        "f = s.replace(\"\\n\", \" \")"
      ],
      "execution_count": 12,
      "outputs": []
    },
    {
      "cell_type": "code",
      "metadata": {
        "id": "fNO7vAkhXLUH"
      },
      "source": [
        "data = []\n",
        "\n",
        "# sentence parsing \n",
        "for i in sent_tokenize(f): \n",
        "\ttemp = [] \n",
        "\t# tokenize the sentence into words \n",
        "\tfor j in word_tokenize(i): \n",
        "\t\ttemp.append(j.lower()) \n",
        "\tdata.append(temp) "
      ],
      "execution_count": 13,
      "outputs": []
    },
    {
      "cell_type": "code",
      "metadata": {
        "colab": {
          "base_uri": "https://localhost:8080/"
        },
        "id": "CiZ47t-WXQ50",
        "outputId": "20744af8-0826-4c22-ed67-1f00df16cfbd"
      },
      "source": [
        "data[:2]"
      ],
      "execution_count": 14,
      "outputs": [
        {
          "output_type": "execute_result",
          "data": {
            "text/plain": [
              "[['the',\n",
              "  'black',\n",
              "  'cat',\n",
              "  'sat',\n",
              "  'on',\n",
              "  'the',\n",
              "  'couch',\n",
              "  'and',\n",
              "  'the',\n",
              "  'brown',\n",
              "  'dog',\n",
              "  'slept',\n",
              "  'on',\n",
              "  'the',\n",
              "  'rug.the',\n",
              "  'cat',\n",
              "  'did',\n",
              "  'not',\n",
              "  'cross',\n",
              "  'the',\n",
              "  'street',\n",
              "  'because',\n",
              "  'it',\n",
              "  'was',\n",
              "  'too',\n",
              "  'wet.the',\n",
              "  'dog',\n",
              "  'sat',\n",
              "  'on',\n",
              "  'the',\n",
              "  'couch',\n",
              "  'near',\n",
              "  'the',\n",
              "  'rug.the',\n",
              "  'black',\n",
              "  'cat',\n",
              "  'sat',\n",
              "  'on',\n",
              "  'the',\n",
              "  'couch',\n",
              "  'and',\n",
              "  'the',\n",
              "  'brown',\n",
              "  'dog',\n",
              "  'slept',\n",
              "  'on',\n",
              "  'the',\n",
              "  'rug.the',\n",
              "  'cat',\n",
              "  'did',\n",
              "  'not',\n",
              "  'cross',\n",
              "  'the',\n",
              "  'street',\n",
              "  'because',\n",
              "  'it',\n",
              "  'was',\n",
              "  'too',\n",
              "  'wet.the',\n",
              "  'dog',\n",
              "  'sat',\n",
              "  'on',\n",
              "  'the',\n",
              "  'couch',\n",
              "  'near',\n",
              "  'the',\n",
              "  'rug',\n",
              "  '.'],\n",
              " ['the',\n",
              "  'black',\n",
              "  'cat',\n",
              "  'sat',\n",
              "  'on',\n",
              "  'the',\n",
              "  'couch',\n",
              "  'and',\n",
              "  'the',\n",
              "  'brown',\n",
              "  'dog',\n",
              "  'slept',\n",
              "  'on',\n",
              "  'the',\n",
              "  'rug.the',\n",
              "  'cat',\n",
              "  'did',\n",
              "  'not',\n",
              "  'cross',\n",
              "  'the',\n",
              "  'street',\n",
              "  'because',\n",
              "  'it',\n",
              "  'was',\n",
              "  'too',\n",
              "  'wet.the',\n",
              "  'dog',\n",
              "  'sat',\n",
              "  'on',\n",
              "  'the',\n",
              "  'couch',\n",
              "  'near',\n",
              "  'the',\n",
              "  'rug',\n",
              "  '.']]"
            ]
          },
          "metadata": {
            "tags": []
          },
          "execution_count": 14
        }
      ]
    },
    {
      "cell_type": "code",
      "metadata": {
        "id": "6_O_ZvwPXWMA"
      },
      "source": [
        "# Creating Skip Gram model \n",
        "model2 = gensim.models.Word2Vec(data, min_count = 1, size = 512,window = 5, sg = 1) "
      ],
      "execution_count": 15,
      "outputs": []
    },
    {
      "cell_type": "code",
      "metadata": {
        "id": "OK_Uz9FwXd0C"
      },
      "source": [
        "# 1-The 2-black 3-cat 4-sat 5-on 6-the 7-couch 8-and 9-the 10-brown 11-dog 12-slept 13-on 14-the 15-rug.\n",
        "word1='black'\n",
        "word2='brown'\n",
        "pos1=2\n",
        "pos2=10"
      ],
      "execution_count": 16,
      "outputs": []
    },
    {
      "cell_type": "code",
      "metadata": {
        "colab": {
          "base_uri": "https://localhost:8080/"
        },
        "id": "tK0XrGm2f0_C",
        "outputId": "45ff9dae-1a59-4a2b-dbb6-b756796adc8c"
      },
      "source": [
        "a=model2[word1]\n",
        "a"
      ],
      "execution_count": 17,
      "outputs": [
        {
          "output_type": "execute_result",
          "data": {
            "text/plain": [
              "array([ 0.05094784, -0.1194302 , -0.01305547,  0.04961686,  0.0010808 ,\n",
              "        0.03239628,  0.03873453,  0.03194608,  0.00582984, -0.06031943,\n",
              "       -0.01661889, -0.05935328,  0.02509349, -0.0413798 , -0.02748247,\n",
              "        0.04381291,  0.05036264, -0.09866952,  0.02364658,  0.03341468,\n",
              "       -0.0993137 , -0.05040878, -0.04516822,  0.02754081, -0.07625183,\n",
              "        0.11011225, -0.00776107,  0.04898146, -0.00616252,  0.01729531,\n",
              "        0.01331398, -0.04029948,  0.09127349,  0.04529446, -0.03115183,\n",
              "       -0.02364399, -0.04764993, -0.10479593,  0.03877261, -0.06110352,\n",
              "       -0.01739862, -0.02384081, -0.00138791, -0.04493561,  0.0623336 ,\n",
              "        0.00536566,  0.05302285,  0.00665313,  0.1257884 , -0.00639011,\n",
              "       -0.08840448, -0.01504067, -0.08169718,  0.05542751,  0.02467211,\n",
              "        0.00269305,  0.04367587,  0.04461711,  0.05469487,  0.03485423,\n",
              "        0.12378426,  0.13468914, -0.05267326,  0.00861393,  0.00605997,\n",
              "       -0.01199449,  0.02924055, -0.074156  ,  0.12336732, -0.02915745,\n",
              "       -0.02962208,  0.08576041,  0.06050992, -0.04313795, -0.03156101,\n",
              "       -0.04592148,  0.04085413,  0.01844241, -0.02559156,  0.02241063,\n",
              "       -0.03206031,  0.1348517 ,  0.00218227, -0.09272987, -0.01433868,\n",
              "        0.04307288,  0.09432194, -0.04382521,  0.05888585,  0.08685398,\n",
              "       -0.0030098 ,  0.0103928 ,  0.024874  , -0.06629597,  0.03388118,\n",
              "       -0.03280658, -0.03034816, -0.10607339, -0.02808353, -0.00266169,\n",
              "       -0.03855915,  0.05222507,  0.00153905,  0.0156062 ,  0.01250247,\n",
              "       -0.05957888, -0.07708723, -0.00874471,  0.03262606, -0.08315203,\n",
              "       -0.06615095,  0.00741095,  0.14623699,  0.00092437,  0.01825199,\n",
              "        0.03919563,  0.02214953,  0.02513857,  0.03632547, -0.09736595,\n",
              "       -0.03464707, -0.0003104 ,  0.0352772 ,  0.07435668,  0.01553134,\n",
              "        0.03331587,  0.02141342, -0.00733849, -0.02894738, -0.05701826,\n",
              "        0.00061516, -0.01970929, -0.06447097, -0.11295382, -0.03736423,\n",
              "        0.07937458, -0.00843424,  0.00636425,  0.01741324, -0.00589929,\n",
              "       -0.0231761 , -0.07120999,  0.11635928,  0.07526486,  0.00579744,\n",
              "       -0.05564936,  0.01334809, -0.02840802,  0.0375832 , -0.01912354,\n",
              "        0.03259065, -0.01516485, -0.10000002, -0.02590915,  0.03208398,\n",
              "        0.04501842,  0.01823611,  0.01223869,  0.03595559, -0.04714368,\n",
              "       -0.02663762,  0.00065635,  0.01510887,  0.00186445,  0.05505065,\n",
              "        0.01072031,  0.02849235, -0.04292104,  0.01047452,  0.01994027,\n",
              "       -0.04120866, -0.12571234, -0.03605956,  0.00480013, -0.01698198,\n",
              "       -0.02442593, -0.06453917, -0.00826823, -0.01477022,  0.0583947 ,\n",
              "       -0.03313816,  0.02158506, -0.03542455,  0.01257552,  0.00066217,\n",
              "       -0.00356247,  0.0395675 , -0.05483329, -0.01498415,  0.01054822,\n",
              "       -0.00058318,  0.01103059,  0.02836654, -0.0279328 ,  0.10102355,\n",
              "       -0.03378597,  0.01729463,  0.01987041, -0.04969574,  0.04012268,\n",
              "        0.03653421, -0.05141962,  0.01090451,  0.04013398,  0.01153103,\n",
              "        0.09335031,  0.04058159,  0.00374328,  0.05931865,  0.0013145 ,\n",
              "        0.00726819, -0.02423348, -0.01084797, -0.04808208, -0.00553828,\n",
              "       -0.08659449,  0.02419077, -0.01998369, -0.03141503,  0.10145092,\n",
              "        0.00530405, -0.00689769, -0.01227945,  0.08789928, -0.11914449,\n",
              "       -0.05141028,  0.01714398,  0.11590645, -0.12082055, -0.01652079,\n",
              "       -0.0088493 , -0.00162986,  0.00700002, -0.07071832,  0.03386368,\n",
              "       -0.02433529, -0.04311756, -0.02582008,  0.01222555, -0.01617087,\n",
              "       -0.0117377 , -0.02614547, -0.03690767,  0.07023834, -0.02501649,\n",
              "       -0.02825077,  0.05422781, -0.0558078 , -0.0211793 , -0.01309238,\n",
              "        0.066988  ,  0.05258337, -0.09476315, -0.02553193, -0.04390205,\n",
              "       -0.00105725,  0.05212492, -0.00225364,  0.03866809, -0.03825834,\n",
              "       -0.02113008,  0.08162009, -0.03204256,  0.03535042,  0.00185176,\n",
              "        0.12044512, -0.03850958, -0.0423868 ,  0.02864435,  0.03139386,\n",
              "        0.0002288 ,  0.09747624, -0.04175899,  0.05140601, -0.05548604,\n",
              "        0.0448049 ,  0.04670467,  0.08509324, -0.03584858, -0.04578244,\n",
              "       -0.01383673, -0.00267261, -0.02790925, -0.02661446,  0.01324618,\n",
              "        0.02661475, -0.05734578, -0.00108261, -0.00119736, -0.04886641,\n",
              "       -0.03754525,  0.03412498, -0.00117954, -0.06250966,  0.04782093,\n",
              "       -0.00688152,  0.03695006,  0.04790718,  0.07522039,  0.00353893,\n",
              "       -0.07376631, -0.06729371,  0.04463782, -0.02298186, -0.03250783,\n",
              "       -0.02198054, -0.01788255,  0.07187586,  0.08523602,  0.00498972,\n",
              "        0.00198296,  0.0995844 ,  0.03328602,  0.03753313,  0.00551297,\n",
              "        0.09112635, -0.07234131,  0.02240633,  0.04197711,  0.01426536,\n",
              "        0.01966622, -0.12804829,  0.04191589,  0.03013202,  0.02062734,\n",
              "       -0.05931066,  0.06343752,  0.07824682, -0.04143428,  0.06872177,\n",
              "        0.00422125,  0.01801538,  0.09655278, -0.01034639,  0.07678643,\n",
              "        0.04922101, -0.08117287,  0.02939275,  0.04118511,  0.06974351,\n",
              "       -0.07813613,  0.00595077, -0.07421089, -0.03089981,  0.0137396 ,\n",
              "       -0.05778846, -0.04389972, -0.13377224,  0.03206245,  0.05583116,\n",
              "        0.01115833, -0.06464142,  0.04737547,  0.01858247,  0.02164874,\n",
              "       -0.01551069, -0.00365925, -0.04117593, -0.00255007,  0.00430342,\n",
              "       -0.07289001, -0.0052586 , -0.05028332,  0.03059196,  0.00721646,\n",
              "        0.06180057,  0.03009644,  0.03555243, -0.03822833, -0.0400967 ,\n",
              "       -0.06272308,  0.01605841,  0.03822886, -0.08574764,  0.02257067,\n",
              "        0.06718858, -0.05301963, -0.02978891, -0.1224504 , -0.02261353,\n",
              "       -0.0406032 , -0.03379878, -0.01945362,  0.00817047, -0.00722203,\n",
              "        0.07216813,  0.03761702,  0.06979278,  0.0156218 ,  0.00428475,\n",
              "       -0.00873424,  0.0364682 , -0.01526296,  0.04645511, -0.04437743,\n",
              "       -0.00020068,  0.03881984, -0.0913939 , -0.09750434,  0.0439156 ,\n",
              "       -0.03955186, -0.00376187, -0.0228453 ,  0.0281262 , -0.04103385,\n",
              "       -0.04310314,  0.00331873,  0.10977808,  0.0887338 , -0.11972366,\n",
              "       -0.04122586, -0.08184099,  0.02862128, -0.04230407, -0.00308046,\n",
              "       -0.06252975,  0.06910351,  0.02699201,  0.02743155, -0.00529135,\n",
              "       -0.05315287,  0.01813448, -0.04484021,  0.07105992, -0.01870146,\n",
              "       -0.02833113,  0.04260328,  0.00236454, -0.1198928 ,  0.02859816,\n",
              "        0.00315222, -0.09526061, -0.01425944,  0.03770821, -0.07114353,\n",
              "       -0.06831376,  0.00839331,  0.06654025,  0.03476366,  0.00642201,\n",
              "       -0.02551456,  0.00535349, -0.05605528, -0.00155661,  0.04745719,\n",
              "       -0.02588923,  0.01787574,  0.07273389,  0.04378167, -0.01316549,\n",
              "        0.00994   ,  0.04814593,  0.00340449, -0.00661713,  0.06696038,\n",
              "        0.09028067,  0.03350118, -0.06831057,  0.0845759 , -0.02006305,\n",
              "        0.03846602,  0.04658961,  0.08491512,  0.0163767 , -0.07503828,\n",
              "        0.03503955,  0.020912  ,  0.01607883,  0.06979106,  0.04115585,\n",
              "       -0.00144215, -0.00535621,  0.099981  ,  0.0298956 ,  0.15765475,\n",
              "       -0.0434408 ,  0.11376192, -0.05782431, -0.03382547,  0.02365618,\n",
              "        0.0505778 ,  0.03957696,  0.03032023,  0.14649977, -0.0538933 ,\n",
              "       -0.04990564, -0.05593954,  0.05890206,  0.01642376, -0.01495167,\n",
              "       -0.08160907,  0.05874432,  0.03822966,  0.00264673,  0.06210072,\n",
              "       -0.02538275,  0.03985597, -0.13615642,  0.02853187,  0.05974606,\n",
              "        0.05359326,  0.0536029 ,  0.04251303,  0.03020027, -0.0836298 ,\n",
              "       -0.0895882 ,  0.02652357,  0.06507709, -0.03083978, -0.11132739,\n",
              "       -0.02103544,  0.05363993], dtype=float32)"
            ]
          },
          "metadata": {
            "tags": []
          },
          "execution_count": 17
        }
      ]
    },
    {
      "cell_type": "code",
      "metadata": {
        "colab": {
          "base_uri": "https://localhost:8080/"
        },
        "id": "0lUAPRYuf4w_",
        "outputId": "d37cb6d5-5924-49b2-f82a-e16c47dd8974"
      },
      "source": [
        "b=model2[word2]\n",
        "b"
      ],
      "execution_count": 18,
      "outputs": [
        {
          "output_type": "execute_result",
          "data": {
            "text/plain": [
              "array([ 0.0509727 , -0.11916501, -0.0135867 ,  0.05009186,  0.00088694,\n",
              "        0.03348342,  0.03898058,  0.03166577,  0.0067538 , -0.0604352 ,\n",
              "       -0.01778465, -0.0591553 ,  0.02561564, -0.04118758, -0.02612484,\n",
              "        0.04252522,  0.05060094, -0.0998862 ,  0.02287019,  0.03346855,\n",
              "       -0.09849545, -0.05042516, -0.04646672,  0.02835454, -0.07562537,\n",
              "        0.1091126 , -0.00833838,  0.04912784, -0.00696082,  0.01576121,\n",
              "        0.01306915, -0.04080422,  0.09144068,  0.04443427, -0.03103787,\n",
              "       -0.0219572 , -0.04711007, -0.10483744,  0.03959152, -0.06153628,\n",
              "       -0.01602719, -0.02380065, -0.00152218, -0.04545695,  0.0633172 ,\n",
              "        0.0042417 ,  0.05314684,  0.00689458,  0.12504321, -0.00660356,\n",
              "       -0.08878986, -0.01425187, -0.08189036,  0.05547153,  0.02559732,\n",
              "        0.00352398,  0.04273253,  0.04436868,  0.05621254,  0.03374501,\n",
              "        0.12457498,  0.13435008, -0.05270749,  0.00940662,  0.0051468 ,\n",
              "       -0.01135553,  0.02909545, -0.07415076,  0.12196563, -0.02874941,\n",
              "       -0.03040332,  0.0862442 ,  0.05960938, -0.0431693 , -0.03184703,\n",
              "       -0.04516923,  0.04041295,  0.01816699, -0.02598043,  0.02329618,\n",
              "       -0.03142536,  0.13446757,  0.00294754, -0.09318786, -0.0147193 ,\n",
              "        0.04236722,  0.09323543, -0.04524814,  0.05891331,  0.08727223,\n",
              "       -0.00233719,  0.01002115,  0.02491004, -0.06743158,  0.03388154,\n",
              "       -0.03342611, -0.03198558, -0.10615005, -0.028395  , -0.00370887,\n",
              "       -0.03819161,  0.05355819,  0.00181672,  0.01479107,  0.01284527,\n",
              "       -0.06039735, -0.0771785 , -0.00735624,  0.0331897 , -0.08203573,\n",
              "       -0.06517451,  0.0066377 ,  0.14680241, -0.00061926,  0.01913362,\n",
              "        0.03844512,  0.021771  ,  0.02464065,  0.03561473, -0.09764889,\n",
              "       -0.03358779, -0.00151282,  0.03456863,  0.07459329,  0.01527017,\n",
              "        0.03368223,  0.02178751, -0.00818445, -0.02742158, -0.05775196,\n",
              "       -0.000321  , -0.01933325, -0.06420159, -0.11314204, -0.0383254 ,\n",
              "        0.07963853, -0.00860992,  0.00673655,  0.0175749 , -0.00668948,\n",
              "       -0.02289803, -0.07125879,  0.1156209 ,  0.07575855,  0.00572791,\n",
              "       -0.05522745,  0.0125352 , -0.02950417,  0.03716873, -0.01930545,\n",
              "        0.03114091, -0.01536079, -0.10055931, -0.02669775,  0.03260821,\n",
              "        0.04334784,  0.01740753,  0.01184694,  0.03491543, -0.04581925,\n",
              "       -0.0267319 ,  0.00096136,  0.01592188,  0.00138156,  0.05502876,\n",
              "        0.0118896 ,  0.02810146, -0.0420138 ,  0.01053538,  0.02118147,\n",
              "       -0.04043331, -0.12571873, -0.03646959,  0.00486386, -0.01546048,\n",
              "       -0.02523426, -0.06488092, -0.00854155, -0.01319768,  0.05695359,\n",
              "       -0.03296501,  0.02121266, -0.03561858,  0.01262147,  0.0002276 ,\n",
              "       -0.00231633,  0.0399408 , -0.05346701, -0.01495734,  0.01059702,\n",
              "       -0.00076901,  0.011127  ,  0.02860333, -0.02761826,  0.10252594,\n",
              "       -0.03281958,  0.01647348,  0.0208785 , -0.04988886,  0.04009896,\n",
              "        0.03572132, -0.05212742,  0.01168774,  0.04014416,  0.01082199,\n",
              "        0.09231476,  0.04162312,  0.00343185,  0.06055648,  0.00305173,\n",
              "        0.00672218, -0.0230357 , -0.01005336, -0.04964427, -0.00624704,\n",
              "       -0.08779892,  0.02269466, -0.01986086, -0.03166255,  0.10211601,\n",
              "        0.00584803, -0.00597702, -0.0124891 ,  0.08748411, -0.11989164,\n",
              "       -0.05147605,  0.01704542,  0.11535691, -0.12029714, -0.01616221,\n",
              "       -0.00840385, -0.00204336,  0.00766966, -0.06943195,  0.03271862,\n",
              "       -0.02383798, -0.04293666, -0.02441201,  0.01228855, -0.01739355,\n",
              "       -0.01209018, -0.02541564, -0.03639491,  0.07044888, -0.02475885,\n",
              "       -0.02928664,  0.05444172, -0.05425714, -0.02043535, -0.01319748,\n",
              "        0.06661765,  0.05347427, -0.09618685, -0.02674181, -0.04417663,\n",
              "       -0.00233151,  0.05197495, -0.00246374,  0.03920247, -0.03887731,\n",
              "       -0.01981025,  0.08268224, -0.03181053,  0.0347897 ,  0.00144342,\n",
              "        0.12141164, -0.03809056, -0.04327637,  0.03007976,  0.03276202,\n",
              "        0.00055121,  0.09750252, -0.04127291,  0.0518975 , -0.0556558 ,\n",
              "        0.04453229,  0.04628271,  0.0847323 , -0.03718948, -0.04530519,\n",
              "       -0.01329694, -0.00261796, -0.02726872, -0.0269759 ,  0.01413843,\n",
              "        0.02730742, -0.05753611, -0.00078991, -0.00082544, -0.04809897,\n",
              "       -0.03775408,  0.03539844, -0.00170585, -0.06302596,  0.04630575,\n",
              "       -0.00597172,  0.03743004,  0.04739925,  0.07550807,  0.00290832,\n",
              "       -0.07462507, -0.06621484,  0.04423173, -0.0223781 , -0.03205376,\n",
              "       -0.0209596 , -0.01803666,  0.07223942,  0.08665627,  0.00479074,\n",
              "        0.00345164,  0.09907062,  0.03449368,  0.03700384,  0.00624727,\n",
              "        0.08986368, -0.07235248,  0.02267053,  0.04239256,  0.01489543,\n",
              "        0.01959518, -0.12649865,  0.04261532,  0.03064751,  0.02208935,\n",
              "       -0.05937073,  0.06342675,  0.07713547, -0.04070998,  0.06820692,\n",
              "        0.00573201,  0.0175568 ,  0.09629013, -0.01011412,  0.07628157,\n",
              "        0.05022701, -0.08268765,  0.03001594,  0.04048569,  0.06868049,\n",
              "       -0.07731421,  0.00573674, -0.07442296, -0.03039717,  0.01341355,\n",
              "       -0.05832373, -0.04426879, -0.13440186,  0.03197228,  0.05664244,\n",
              "        0.0112049 , -0.06431955,  0.04746277,  0.01820328,  0.0221656 ,\n",
              "       -0.01649263, -0.00450569, -0.04214508, -0.0029247 ,  0.00301263,\n",
              "       -0.07276659, -0.00542948, -0.05031947,  0.02973322,  0.00732272,\n",
              "        0.06099837,  0.02979377,  0.03533069, -0.03654095, -0.03916936,\n",
              "       -0.06244883,  0.01716547,  0.03667686, -0.08552069,  0.0230604 ,\n",
              "        0.06844994, -0.0534683 , -0.03091913, -0.12359201, -0.02212266,\n",
              "       -0.04089827, -0.03293459, -0.02062082,  0.00686391, -0.00815322,\n",
              "        0.07133055,  0.03808169,  0.0696273 ,  0.01537071,  0.00492195,\n",
              "       -0.00929866,  0.03660371, -0.0148367 ,  0.04769626, -0.04447717,\n",
              "        0.00118999,  0.0381701 , -0.09118799, -0.09804861,  0.04398601,\n",
              "       -0.03889664, -0.00424321, -0.02350388,  0.02928447, -0.04114068,\n",
              "       -0.04317096,  0.00327376,  0.11072141,  0.09032789, -0.11994494,\n",
              "       -0.04075622, -0.082316  ,  0.02766167, -0.04399611, -0.00391188,\n",
              "       -0.06306255,  0.06988871,  0.02727986,  0.02782468, -0.00507703,\n",
              "       -0.05372515,  0.0191335 , -0.04612295,  0.07091387, -0.01876419,\n",
              "       -0.02896954,  0.04173574,  0.00170486, -0.11839841,  0.02923225,\n",
              "        0.00467645, -0.09683246, -0.01479829,  0.03892336, -0.06957161,\n",
              "       -0.06785826,  0.00863106,  0.0669266 ,  0.03398065,  0.00717162,\n",
              "       -0.02540854,  0.00490805, -0.05485689, -0.00137258,  0.0471313 ,\n",
              "       -0.02629554,  0.0177067 ,  0.07278109,  0.04286513, -0.01269109,\n",
              "        0.01031506,  0.04816271,  0.0046379 , -0.0055776 ,  0.06668914,\n",
              "        0.09128202,  0.03386425, -0.06809226,  0.08398189, -0.02048289,\n",
              "        0.03803098,  0.04648911,  0.08561003,  0.01486772, -0.07360598,\n",
              "        0.03672931,  0.0219544 ,  0.0160733 ,  0.06867345,  0.04086287,\n",
              "       -0.00205325, -0.00616299,  0.10075079,  0.0303914 ,  0.1578428 ,\n",
              "       -0.04407366,  0.11412713, -0.05660661, -0.03391095,  0.02341666,\n",
              "        0.04977112,  0.04014796,  0.02967162,  0.14756535, -0.05463142,\n",
              "       -0.04896656, -0.05579387,  0.05950087,  0.01593055, -0.01317394,\n",
              "       -0.0814339 ,  0.05970146,  0.03768517,  0.0015579 ,  0.06251656,\n",
              "       -0.02470671,  0.03997667, -0.13583535,  0.02861029,  0.06052559,\n",
              "        0.05326139,  0.0535941 ,  0.04107684,  0.03160147, -0.08192023,\n",
              "       -0.08989378,  0.02611959,  0.06674983, -0.03201571, -0.11282104,\n",
              "       -0.01944266,  0.05494812], dtype=float32)"
            ]
          },
          "metadata": {
            "tags": []
          },
          "execution_count": 18
        }
      ]
    },
    {
      "cell_type": "code",
      "metadata": {
        "id": "bZBmYXHorLLd",
        "colab": {
          "base_uri": "https://localhost:8080/"
        },
        "outputId": "ed8b34b2-190e-4725-debc-40156c5d88b5"
      },
      "source": [
        "# compute cosine similarity\n",
        "dot = np.dot(a, b)\n",
        "norma = np.linalg.norm(a)\n",
        "normb = np.linalg.norm(b)\n",
        "cos = dot / (norma * normb)\n",
        "cos"
      ],
      "execution_count": 19,
      "outputs": [
        {
          "output_type": "execute_result",
          "data": {
            "text/plain": [
              "0.99988705"
            ]
          },
          "metadata": {
            "tags": []
          },
          "execution_count": 19
        }
      ]
    },
    {
      "cell_type": "code",
      "metadata": {
        "colab": {
          "base_uri": "https://localhost:8080/"
        },
        "id": "I7Ns44tcgZkf",
        "outputId": "9ce29ede-b20f-4493-fe94-ef23388588b6"
      },
      "source": [
        "a.shape"
      ],
      "execution_count": 20,
      "outputs": [
        {
          "output_type": "execute_result",
          "data": {
            "text/plain": [
              "(512,)"
            ]
          },
          "metadata": {
            "tags": []
          },
          "execution_count": 20
        }
      ]
    },
    {
      "cell_type": "code",
      "metadata": {
        "colab": {
          "base_uri": "https://localhost:8080/"
        },
        "id": "FHvsX0SLgkSF",
        "outputId": "a2f2201c-3b25-4296-d0a0-3ed74a0af298"
      },
      "source": [
        "a"
      ],
      "execution_count": 21,
      "outputs": [
        {
          "output_type": "execute_result",
          "data": {
            "text/plain": [
              "array([ 0.05094784, -0.1194302 , -0.01305547,  0.04961686,  0.0010808 ,\n",
              "        0.03239628,  0.03873453,  0.03194608,  0.00582984, -0.06031943,\n",
              "       -0.01661889, -0.05935328,  0.02509349, -0.0413798 , -0.02748247,\n",
              "        0.04381291,  0.05036264, -0.09866952,  0.02364658,  0.03341468,\n",
              "       -0.0993137 , -0.05040878, -0.04516822,  0.02754081, -0.07625183,\n",
              "        0.11011225, -0.00776107,  0.04898146, -0.00616252,  0.01729531,\n",
              "        0.01331398, -0.04029948,  0.09127349,  0.04529446, -0.03115183,\n",
              "       -0.02364399, -0.04764993, -0.10479593,  0.03877261, -0.06110352,\n",
              "       -0.01739862, -0.02384081, -0.00138791, -0.04493561,  0.0623336 ,\n",
              "        0.00536566,  0.05302285,  0.00665313,  0.1257884 , -0.00639011,\n",
              "       -0.08840448, -0.01504067, -0.08169718,  0.05542751,  0.02467211,\n",
              "        0.00269305,  0.04367587,  0.04461711,  0.05469487,  0.03485423,\n",
              "        0.12378426,  0.13468914, -0.05267326,  0.00861393,  0.00605997,\n",
              "       -0.01199449,  0.02924055, -0.074156  ,  0.12336732, -0.02915745,\n",
              "       -0.02962208,  0.08576041,  0.06050992, -0.04313795, -0.03156101,\n",
              "       -0.04592148,  0.04085413,  0.01844241, -0.02559156,  0.02241063,\n",
              "       -0.03206031,  0.1348517 ,  0.00218227, -0.09272987, -0.01433868,\n",
              "        0.04307288,  0.09432194, -0.04382521,  0.05888585,  0.08685398,\n",
              "       -0.0030098 ,  0.0103928 ,  0.024874  , -0.06629597,  0.03388118,\n",
              "       -0.03280658, -0.03034816, -0.10607339, -0.02808353, -0.00266169,\n",
              "       -0.03855915,  0.05222507,  0.00153905,  0.0156062 ,  0.01250247,\n",
              "       -0.05957888, -0.07708723, -0.00874471,  0.03262606, -0.08315203,\n",
              "       -0.06615095,  0.00741095,  0.14623699,  0.00092437,  0.01825199,\n",
              "        0.03919563,  0.02214953,  0.02513857,  0.03632547, -0.09736595,\n",
              "       -0.03464707, -0.0003104 ,  0.0352772 ,  0.07435668,  0.01553134,\n",
              "        0.03331587,  0.02141342, -0.00733849, -0.02894738, -0.05701826,\n",
              "        0.00061516, -0.01970929, -0.06447097, -0.11295382, -0.03736423,\n",
              "        0.07937458, -0.00843424,  0.00636425,  0.01741324, -0.00589929,\n",
              "       -0.0231761 , -0.07120999,  0.11635928,  0.07526486,  0.00579744,\n",
              "       -0.05564936,  0.01334809, -0.02840802,  0.0375832 , -0.01912354,\n",
              "        0.03259065, -0.01516485, -0.10000002, -0.02590915,  0.03208398,\n",
              "        0.04501842,  0.01823611,  0.01223869,  0.03595559, -0.04714368,\n",
              "       -0.02663762,  0.00065635,  0.01510887,  0.00186445,  0.05505065,\n",
              "        0.01072031,  0.02849235, -0.04292104,  0.01047452,  0.01994027,\n",
              "       -0.04120866, -0.12571234, -0.03605956,  0.00480013, -0.01698198,\n",
              "       -0.02442593, -0.06453917, -0.00826823, -0.01477022,  0.0583947 ,\n",
              "       -0.03313816,  0.02158506, -0.03542455,  0.01257552,  0.00066217,\n",
              "       -0.00356247,  0.0395675 , -0.05483329, -0.01498415,  0.01054822,\n",
              "       -0.00058318,  0.01103059,  0.02836654, -0.0279328 ,  0.10102355,\n",
              "       -0.03378597,  0.01729463,  0.01987041, -0.04969574,  0.04012268,\n",
              "        0.03653421, -0.05141962,  0.01090451,  0.04013398,  0.01153103,\n",
              "        0.09335031,  0.04058159,  0.00374328,  0.05931865,  0.0013145 ,\n",
              "        0.00726819, -0.02423348, -0.01084797, -0.04808208, -0.00553828,\n",
              "       -0.08659449,  0.02419077, -0.01998369, -0.03141503,  0.10145092,\n",
              "        0.00530405, -0.00689769, -0.01227945,  0.08789928, -0.11914449,\n",
              "       -0.05141028,  0.01714398,  0.11590645, -0.12082055, -0.01652079,\n",
              "       -0.0088493 , -0.00162986,  0.00700002, -0.07071832,  0.03386368,\n",
              "       -0.02433529, -0.04311756, -0.02582008,  0.01222555, -0.01617087,\n",
              "       -0.0117377 , -0.02614547, -0.03690767,  0.07023834, -0.02501649,\n",
              "       -0.02825077,  0.05422781, -0.0558078 , -0.0211793 , -0.01309238,\n",
              "        0.066988  ,  0.05258337, -0.09476315, -0.02553193, -0.04390205,\n",
              "       -0.00105725,  0.05212492, -0.00225364,  0.03866809, -0.03825834,\n",
              "       -0.02113008,  0.08162009, -0.03204256,  0.03535042,  0.00185176,\n",
              "        0.12044512, -0.03850958, -0.0423868 ,  0.02864435,  0.03139386,\n",
              "        0.0002288 ,  0.09747624, -0.04175899,  0.05140601, -0.05548604,\n",
              "        0.0448049 ,  0.04670467,  0.08509324, -0.03584858, -0.04578244,\n",
              "       -0.01383673, -0.00267261, -0.02790925, -0.02661446,  0.01324618,\n",
              "        0.02661475, -0.05734578, -0.00108261, -0.00119736, -0.04886641,\n",
              "       -0.03754525,  0.03412498, -0.00117954, -0.06250966,  0.04782093,\n",
              "       -0.00688152,  0.03695006,  0.04790718,  0.07522039,  0.00353893,\n",
              "       -0.07376631, -0.06729371,  0.04463782, -0.02298186, -0.03250783,\n",
              "       -0.02198054, -0.01788255,  0.07187586,  0.08523602,  0.00498972,\n",
              "        0.00198296,  0.0995844 ,  0.03328602,  0.03753313,  0.00551297,\n",
              "        0.09112635, -0.07234131,  0.02240633,  0.04197711,  0.01426536,\n",
              "        0.01966622, -0.12804829,  0.04191589,  0.03013202,  0.02062734,\n",
              "       -0.05931066,  0.06343752,  0.07824682, -0.04143428,  0.06872177,\n",
              "        0.00422125,  0.01801538,  0.09655278, -0.01034639,  0.07678643,\n",
              "        0.04922101, -0.08117287,  0.02939275,  0.04118511,  0.06974351,\n",
              "       -0.07813613,  0.00595077, -0.07421089, -0.03089981,  0.0137396 ,\n",
              "       -0.05778846, -0.04389972, -0.13377224,  0.03206245,  0.05583116,\n",
              "        0.01115833, -0.06464142,  0.04737547,  0.01858247,  0.02164874,\n",
              "       -0.01551069, -0.00365925, -0.04117593, -0.00255007,  0.00430342,\n",
              "       -0.07289001, -0.0052586 , -0.05028332,  0.03059196,  0.00721646,\n",
              "        0.06180057,  0.03009644,  0.03555243, -0.03822833, -0.0400967 ,\n",
              "       -0.06272308,  0.01605841,  0.03822886, -0.08574764,  0.02257067,\n",
              "        0.06718858, -0.05301963, -0.02978891, -0.1224504 , -0.02261353,\n",
              "       -0.0406032 , -0.03379878, -0.01945362,  0.00817047, -0.00722203,\n",
              "        0.07216813,  0.03761702,  0.06979278,  0.0156218 ,  0.00428475,\n",
              "       -0.00873424,  0.0364682 , -0.01526296,  0.04645511, -0.04437743,\n",
              "       -0.00020068,  0.03881984, -0.0913939 , -0.09750434,  0.0439156 ,\n",
              "       -0.03955186, -0.00376187, -0.0228453 ,  0.0281262 , -0.04103385,\n",
              "       -0.04310314,  0.00331873,  0.10977808,  0.0887338 , -0.11972366,\n",
              "       -0.04122586, -0.08184099,  0.02862128, -0.04230407, -0.00308046,\n",
              "       -0.06252975,  0.06910351,  0.02699201,  0.02743155, -0.00529135,\n",
              "       -0.05315287,  0.01813448, -0.04484021,  0.07105992, -0.01870146,\n",
              "       -0.02833113,  0.04260328,  0.00236454, -0.1198928 ,  0.02859816,\n",
              "        0.00315222, -0.09526061, -0.01425944,  0.03770821, -0.07114353,\n",
              "       -0.06831376,  0.00839331,  0.06654025,  0.03476366,  0.00642201,\n",
              "       -0.02551456,  0.00535349, -0.05605528, -0.00155661,  0.04745719,\n",
              "       -0.02588923,  0.01787574,  0.07273389,  0.04378167, -0.01316549,\n",
              "        0.00994   ,  0.04814593,  0.00340449, -0.00661713,  0.06696038,\n",
              "        0.09028067,  0.03350118, -0.06831057,  0.0845759 , -0.02006305,\n",
              "        0.03846602,  0.04658961,  0.08491512,  0.0163767 , -0.07503828,\n",
              "        0.03503955,  0.020912  ,  0.01607883,  0.06979106,  0.04115585,\n",
              "       -0.00144215, -0.00535621,  0.099981  ,  0.0298956 ,  0.15765475,\n",
              "       -0.0434408 ,  0.11376192, -0.05782431, -0.03382547,  0.02365618,\n",
              "        0.0505778 ,  0.03957696,  0.03032023,  0.14649977, -0.0538933 ,\n",
              "       -0.04990564, -0.05593954,  0.05890206,  0.01642376, -0.01495167,\n",
              "       -0.08160907,  0.05874432,  0.03822966,  0.00264673,  0.06210072,\n",
              "       -0.02538275,  0.03985597, -0.13615642,  0.02853187,  0.05974606,\n",
              "        0.05359326,  0.0536029 ,  0.04251303,  0.03020027, -0.0836298 ,\n",
              "       -0.0895882 ,  0.02652357,  0.06507709, -0.03083978, -0.11132739,\n",
              "       -0.02103544,  0.05363993], dtype=float32)"
            ]
          },
          "metadata": {
            "tags": []
          },
          "execution_count": 21
        }
      ]
    },
    {
      "cell_type": "code",
      "metadata": {
        "colab": {
          "base_uri": "https://localhost:8080/"
        },
        "id": "D7U_ObIpgfXO",
        "outputId": "1c4e9b98-7ea0-4b44-c7a7-0288221abee2"
      },
      "source": [
        "aa = a.reshape(1,512)\n",
        "aa "
      ],
      "execution_count": 22,
      "outputs": [
        {
          "output_type": "execute_result",
          "data": {
            "text/plain": [
              "array([[ 0.05094784, -0.1194302 , -0.01305547,  0.04961686,  0.0010808 ,\n",
              "         0.03239628,  0.03873453,  0.03194608,  0.00582984, -0.06031943,\n",
              "        -0.01661889, -0.05935328,  0.02509349, -0.0413798 , -0.02748247,\n",
              "         0.04381291,  0.05036264, -0.09866952,  0.02364658,  0.03341468,\n",
              "        -0.0993137 , -0.05040878, -0.04516822,  0.02754081, -0.07625183,\n",
              "         0.11011225, -0.00776107,  0.04898146, -0.00616252,  0.01729531,\n",
              "         0.01331398, -0.04029948,  0.09127349,  0.04529446, -0.03115183,\n",
              "        -0.02364399, -0.04764993, -0.10479593,  0.03877261, -0.06110352,\n",
              "        -0.01739862, -0.02384081, -0.00138791, -0.04493561,  0.0623336 ,\n",
              "         0.00536566,  0.05302285,  0.00665313,  0.1257884 , -0.00639011,\n",
              "        -0.08840448, -0.01504067, -0.08169718,  0.05542751,  0.02467211,\n",
              "         0.00269305,  0.04367587,  0.04461711,  0.05469487,  0.03485423,\n",
              "         0.12378426,  0.13468914, -0.05267326,  0.00861393,  0.00605997,\n",
              "        -0.01199449,  0.02924055, -0.074156  ,  0.12336732, -0.02915745,\n",
              "        -0.02962208,  0.08576041,  0.06050992, -0.04313795, -0.03156101,\n",
              "        -0.04592148,  0.04085413,  0.01844241, -0.02559156,  0.02241063,\n",
              "        -0.03206031,  0.1348517 ,  0.00218227, -0.09272987, -0.01433868,\n",
              "         0.04307288,  0.09432194, -0.04382521,  0.05888585,  0.08685398,\n",
              "        -0.0030098 ,  0.0103928 ,  0.024874  , -0.06629597,  0.03388118,\n",
              "        -0.03280658, -0.03034816, -0.10607339, -0.02808353, -0.00266169,\n",
              "        -0.03855915,  0.05222507,  0.00153905,  0.0156062 ,  0.01250247,\n",
              "        -0.05957888, -0.07708723, -0.00874471,  0.03262606, -0.08315203,\n",
              "        -0.06615095,  0.00741095,  0.14623699,  0.00092437,  0.01825199,\n",
              "         0.03919563,  0.02214953,  0.02513857,  0.03632547, -0.09736595,\n",
              "        -0.03464707, -0.0003104 ,  0.0352772 ,  0.07435668,  0.01553134,\n",
              "         0.03331587,  0.02141342, -0.00733849, -0.02894738, -0.05701826,\n",
              "         0.00061516, -0.01970929, -0.06447097, -0.11295382, -0.03736423,\n",
              "         0.07937458, -0.00843424,  0.00636425,  0.01741324, -0.00589929,\n",
              "        -0.0231761 , -0.07120999,  0.11635928,  0.07526486,  0.00579744,\n",
              "        -0.05564936,  0.01334809, -0.02840802,  0.0375832 , -0.01912354,\n",
              "         0.03259065, -0.01516485, -0.10000002, -0.02590915,  0.03208398,\n",
              "         0.04501842,  0.01823611,  0.01223869,  0.03595559, -0.04714368,\n",
              "        -0.02663762,  0.00065635,  0.01510887,  0.00186445,  0.05505065,\n",
              "         0.01072031,  0.02849235, -0.04292104,  0.01047452,  0.01994027,\n",
              "        -0.04120866, -0.12571234, -0.03605956,  0.00480013, -0.01698198,\n",
              "        -0.02442593, -0.06453917, -0.00826823, -0.01477022,  0.0583947 ,\n",
              "        -0.03313816,  0.02158506, -0.03542455,  0.01257552,  0.00066217,\n",
              "        -0.00356247,  0.0395675 , -0.05483329, -0.01498415,  0.01054822,\n",
              "        -0.00058318,  0.01103059,  0.02836654, -0.0279328 ,  0.10102355,\n",
              "        -0.03378597,  0.01729463,  0.01987041, -0.04969574,  0.04012268,\n",
              "         0.03653421, -0.05141962,  0.01090451,  0.04013398,  0.01153103,\n",
              "         0.09335031,  0.04058159,  0.00374328,  0.05931865,  0.0013145 ,\n",
              "         0.00726819, -0.02423348, -0.01084797, -0.04808208, -0.00553828,\n",
              "        -0.08659449,  0.02419077, -0.01998369, -0.03141503,  0.10145092,\n",
              "         0.00530405, -0.00689769, -0.01227945,  0.08789928, -0.11914449,\n",
              "        -0.05141028,  0.01714398,  0.11590645, -0.12082055, -0.01652079,\n",
              "        -0.0088493 , -0.00162986,  0.00700002, -0.07071832,  0.03386368,\n",
              "        -0.02433529, -0.04311756, -0.02582008,  0.01222555, -0.01617087,\n",
              "        -0.0117377 , -0.02614547, -0.03690767,  0.07023834, -0.02501649,\n",
              "        -0.02825077,  0.05422781, -0.0558078 , -0.0211793 , -0.01309238,\n",
              "         0.066988  ,  0.05258337, -0.09476315, -0.02553193, -0.04390205,\n",
              "        -0.00105725,  0.05212492, -0.00225364,  0.03866809, -0.03825834,\n",
              "        -0.02113008,  0.08162009, -0.03204256,  0.03535042,  0.00185176,\n",
              "         0.12044512, -0.03850958, -0.0423868 ,  0.02864435,  0.03139386,\n",
              "         0.0002288 ,  0.09747624, -0.04175899,  0.05140601, -0.05548604,\n",
              "         0.0448049 ,  0.04670467,  0.08509324, -0.03584858, -0.04578244,\n",
              "        -0.01383673, -0.00267261, -0.02790925, -0.02661446,  0.01324618,\n",
              "         0.02661475, -0.05734578, -0.00108261, -0.00119736, -0.04886641,\n",
              "        -0.03754525,  0.03412498, -0.00117954, -0.06250966,  0.04782093,\n",
              "        -0.00688152,  0.03695006,  0.04790718,  0.07522039,  0.00353893,\n",
              "        -0.07376631, -0.06729371,  0.04463782, -0.02298186, -0.03250783,\n",
              "        -0.02198054, -0.01788255,  0.07187586,  0.08523602,  0.00498972,\n",
              "         0.00198296,  0.0995844 ,  0.03328602,  0.03753313,  0.00551297,\n",
              "         0.09112635, -0.07234131,  0.02240633,  0.04197711,  0.01426536,\n",
              "         0.01966622, -0.12804829,  0.04191589,  0.03013202,  0.02062734,\n",
              "        -0.05931066,  0.06343752,  0.07824682, -0.04143428,  0.06872177,\n",
              "         0.00422125,  0.01801538,  0.09655278, -0.01034639,  0.07678643,\n",
              "         0.04922101, -0.08117287,  0.02939275,  0.04118511,  0.06974351,\n",
              "        -0.07813613,  0.00595077, -0.07421089, -0.03089981,  0.0137396 ,\n",
              "        -0.05778846, -0.04389972, -0.13377224,  0.03206245,  0.05583116,\n",
              "         0.01115833, -0.06464142,  0.04737547,  0.01858247,  0.02164874,\n",
              "        -0.01551069, -0.00365925, -0.04117593, -0.00255007,  0.00430342,\n",
              "        -0.07289001, -0.0052586 , -0.05028332,  0.03059196,  0.00721646,\n",
              "         0.06180057,  0.03009644,  0.03555243, -0.03822833, -0.0400967 ,\n",
              "        -0.06272308,  0.01605841,  0.03822886, -0.08574764,  0.02257067,\n",
              "         0.06718858, -0.05301963, -0.02978891, -0.1224504 , -0.02261353,\n",
              "        -0.0406032 , -0.03379878, -0.01945362,  0.00817047, -0.00722203,\n",
              "         0.07216813,  0.03761702,  0.06979278,  0.0156218 ,  0.00428475,\n",
              "        -0.00873424,  0.0364682 , -0.01526296,  0.04645511, -0.04437743,\n",
              "        -0.00020068,  0.03881984, -0.0913939 , -0.09750434,  0.0439156 ,\n",
              "        -0.03955186, -0.00376187, -0.0228453 ,  0.0281262 , -0.04103385,\n",
              "        -0.04310314,  0.00331873,  0.10977808,  0.0887338 , -0.11972366,\n",
              "        -0.04122586, -0.08184099,  0.02862128, -0.04230407, -0.00308046,\n",
              "        -0.06252975,  0.06910351,  0.02699201,  0.02743155, -0.00529135,\n",
              "        -0.05315287,  0.01813448, -0.04484021,  0.07105992, -0.01870146,\n",
              "        -0.02833113,  0.04260328,  0.00236454, -0.1198928 ,  0.02859816,\n",
              "         0.00315222, -0.09526061, -0.01425944,  0.03770821, -0.07114353,\n",
              "        -0.06831376,  0.00839331,  0.06654025,  0.03476366,  0.00642201,\n",
              "        -0.02551456,  0.00535349, -0.05605528, -0.00155661,  0.04745719,\n",
              "        -0.02588923,  0.01787574,  0.07273389,  0.04378167, -0.01316549,\n",
              "         0.00994   ,  0.04814593,  0.00340449, -0.00661713,  0.06696038,\n",
              "         0.09028067,  0.03350118, -0.06831057,  0.0845759 , -0.02006305,\n",
              "         0.03846602,  0.04658961,  0.08491512,  0.0163767 , -0.07503828,\n",
              "         0.03503955,  0.020912  ,  0.01607883,  0.06979106,  0.04115585,\n",
              "        -0.00144215, -0.00535621,  0.099981  ,  0.0298956 ,  0.15765475,\n",
              "        -0.0434408 ,  0.11376192, -0.05782431, -0.03382547,  0.02365618,\n",
              "         0.0505778 ,  0.03957696,  0.03032023,  0.14649977, -0.0538933 ,\n",
              "        -0.04990564, -0.05593954,  0.05890206,  0.01642376, -0.01495167,\n",
              "        -0.08160907,  0.05874432,  0.03822966,  0.00264673,  0.06210072,\n",
              "        -0.02538275,  0.03985597, -0.13615642,  0.02853187,  0.05974606,\n",
              "         0.05359326,  0.0536029 ,  0.04251303,  0.03020027, -0.0836298 ,\n",
              "        -0.0895882 ,  0.02652357,  0.06507709, -0.03083978, -0.11132739,\n",
              "        -0.02103544,  0.05363993]], dtype=float32)"
            ]
          },
          "metadata": {
            "tags": []
          },
          "execution_count": 22
        }
      ]
    },
    {
      "cell_type": "code",
      "metadata": {
        "id": "oq7c-0DMgqPT"
      },
      "source": [
        "ba = b.reshape(1,512)"
      ],
      "execution_count": 23,
      "outputs": []
    },
    {
      "cell_type": "code",
      "metadata": {
        "colab": {
          "base_uri": "https://localhost:8080/"
        },
        "id": "6h0EjYsYgsXS",
        "outputId": "e4430f05-8c38-45ec-bf4f-03e72626d548"
      },
      "source": [
        "cos_lib = cosine_similarity(aa, ba)\n",
        "cos_lib"
      ],
      "execution_count": 24,
      "outputs": [
        {
          "output_type": "execute_result",
          "data": {
            "text/plain": [
              "array([[0.9998871]], dtype=float32)"
            ]
          },
          "metadata": {
            "tags": []
          },
          "execution_count": 24
        }
      ]
    },
    {
      "cell_type": "markdown",
      "metadata": {
        "id": "woBLoD94q7OX"
      },
      "source": [
        "### Positional encoding\n"
      ]
    },
    {
      "cell_type": "code",
      "metadata": {
        "id": "s1-aCkHsg0Z0"
      },
      "source": [
        "pe1=aa.copy()\n",
        "pe2=aa.copy()\n",
        "pe3=aa.copy()\n",
        "paa=aa.copy()\n",
        "pba=ba.copy()\n",
        "d_model=512\n",
        "max_print=d_model\n",
        "max_length=20"
      ],
      "execution_count": 32,
      "outputs": []
    },
    {
      "cell_type": "code",
      "metadata": {
        "colab": {
          "base_uri": "https://localhost:8080/"
        },
        "id": "aH1Lt2-imDcZ",
        "outputId": "5a73b8db-5179-4e2d-d13d-73f07577b800"
      },
      "source": [
        "pe1[0]"
      ],
      "execution_count": 33,
      "outputs": [
        {
          "output_type": "execute_result",
          "data": {
            "text/plain": [
              "array([ 0.05094784, -0.1194302 , -0.01305547,  0.04961686,  0.0010808 ,\n",
              "        0.03239628,  0.03873453,  0.03194608,  0.00582984, -0.06031943,\n",
              "       -0.01661889, -0.05935328,  0.02509349, -0.0413798 , -0.02748247,\n",
              "        0.04381291,  0.05036264, -0.09866952,  0.02364658,  0.03341468,\n",
              "       -0.0993137 , -0.05040878, -0.04516822,  0.02754081, -0.07625183,\n",
              "        0.11011225, -0.00776107,  0.04898146, -0.00616252,  0.01729531,\n",
              "        0.01331398, -0.04029948,  0.09127349,  0.04529446, -0.03115183,\n",
              "       -0.02364399, -0.04764993, -0.10479593,  0.03877261, -0.06110352,\n",
              "       -0.01739862, -0.02384081, -0.00138791, -0.04493561,  0.0623336 ,\n",
              "        0.00536566,  0.05302285,  0.00665313,  0.1257884 , -0.00639011,\n",
              "       -0.08840448, -0.01504067, -0.08169718,  0.05542751,  0.02467211,\n",
              "        0.00269305,  0.04367587,  0.04461711,  0.05469487,  0.03485423,\n",
              "        0.12378426,  0.13468914, -0.05267326,  0.00861393,  0.00605997,\n",
              "       -0.01199449,  0.02924055, -0.074156  ,  0.12336732, -0.02915745,\n",
              "       -0.02962208,  0.08576041,  0.06050992, -0.04313795, -0.03156101,\n",
              "       -0.04592148,  0.04085413,  0.01844241, -0.02559156,  0.02241063,\n",
              "       -0.03206031,  0.1348517 ,  0.00218227, -0.09272987, -0.01433868,\n",
              "        0.04307288,  0.09432194, -0.04382521,  0.05888585,  0.08685398,\n",
              "       -0.0030098 ,  0.0103928 ,  0.024874  , -0.06629597,  0.03388118,\n",
              "       -0.03280658, -0.03034816, -0.10607339, -0.02808353, -0.00266169,\n",
              "       -0.03855915,  0.05222507,  0.00153905,  0.0156062 ,  0.01250247,\n",
              "       -0.05957888, -0.07708723, -0.00874471,  0.03262606, -0.08315203,\n",
              "       -0.06615095,  0.00741095,  0.14623699,  0.00092437,  0.01825199,\n",
              "        0.03919563,  0.02214953,  0.02513857,  0.03632547, -0.09736595,\n",
              "       -0.03464707, -0.0003104 ,  0.0352772 ,  0.07435668,  0.01553134,\n",
              "        0.03331587,  0.02141342, -0.00733849, -0.02894738, -0.05701826,\n",
              "        0.00061516, -0.01970929, -0.06447097, -0.11295382, -0.03736423,\n",
              "        0.07937458, -0.00843424,  0.00636425,  0.01741324, -0.00589929,\n",
              "       -0.0231761 , -0.07120999,  0.11635928,  0.07526486,  0.00579744,\n",
              "       -0.05564936,  0.01334809, -0.02840802,  0.0375832 , -0.01912354,\n",
              "        0.03259065, -0.01516485, -0.10000002, -0.02590915,  0.03208398,\n",
              "        0.04501842,  0.01823611,  0.01223869,  0.03595559, -0.04714368,\n",
              "       -0.02663762,  0.00065635,  0.01510887,  0.00186445,  0.05505065,\n",
              "        0.01072031,  0.02849235, -0.04292104,  0.01047452,  0.01994027,\n",
              "       -0.04120866, -0.12571234, -0.03605956,  0.00480013, -0.01698198,\n",
              "       -0.02442593, -0.06453917, -0.00826823, -0.01477022,  0.0583947 ,\n",
              "       -0.03313816,  0.02158506, -0.03542455,  0.01257552,  0.00066217,\n",
              "       -0.00356247,  0.0395675 , -0.05483329, -0.01498415,  0.01054822,\n",
              "       -0.00058318,  0.01103059,  0.02836654, -0.0279328 ,  0.10102355,\n",
              "       -0.03378597,  0.01729463,  0.01987041, -0.04969574,  0.04012268,\n",
              "        0.03653421, -0.05141962,  0.01090451,  0.04013398,  0.01153103,\n",
              "        0.09335031,  0.04058159,  0.00374328,  0.05931865,  0.0013145 ,\n",
              "        0.00726819, -0.02423348, -0.01084797, -0.04808208, -0.00553828,\n",
              "       -0.08659449,  0.02419077, -0.01998369, -0.03141503,  0.10145092,\n",
              "        0.00530405, -0.00689769, -0.01227945,  0.08789928, -0.11914449,\n",
              "       -0.05141028,  0.01714398,  0.11590645, -0.12082055, -0.01652079,\n",
              "       -0.0088493 , -0.00162986,  0.00700002, -0.07071832,  0.03386368,\n",
              "       -0.02433529, -0.04311756, -0.02582008,  0.01222555, -0.01617087,\n",
              "       -0.0117377 , -0.02614547, -0.03690767,  0.07023834, -0.02501649,\n",
              "       -0.02825077,  0.05422781, -0.0558078 , -0.0211793 , -0.01309238,\n",
              "        0.066988  ,  0.05258337, -0.09476315, -0.02553193, -0.04390205,\n",
              "       -0.00105725,  0.05212492, -0.00225364,  0.03866809, -0.03825834,\n",
              "       -0.02113008,  0.08162009, -0.03204256,  0.03535042,  0.00185176,\n",
              "        0.12044512, -0.03850958, -0.0423868 ,  0.02864435,  0.03139386,\n",
              "        0.0002288 ,  0.09747624, -0.04175899,  0.05140601, -0.05548604,\n",
              "        0.0448049 ,  0.04670467,  0.08509324, -0.03584858, -0.04578244,\n",
              "       -0.01383673, -0.00267261, -0.02790925, -0.02661446,  0.01324618,\n",
              "        0.02661475, -0.05734578, -0.00108261, -0.00119736, -0.04886641,\n",
              "       -0.03754525,  0.03412498, -0.00117954, -0.06250966,  0.04782093,\n",
              "       -0.00688152,  0.03695006,  0.04790718,  0.07522039,  0.00353893,\n",
              "       -0.07376631, -0.06729371,  0.04463782, -0.02298186, -0.03250783,\n",
              "       -0.02198054, -0.01788255,  0.07187586,  0.08523602,  0.00498972,\n",
              "        0.00198296,  0.0995844 ,  0.03328602,  0.03753313,  0.00551297,\n",
              "        0.09112635, -0.07234131,  0.02240633,  0.04197711,  0.01426536,\n",
              "        0.01966622, -0.12804829,  0.04191589,  0.03013202,  0.02062734,\n",
              "       -0.05931066,  0.06343752,  0.07824682, -0.04143428,  0.06872177,\n",
              "        0.00422125,  0.01801538,  0.09655278, -0.01034639,  0.07678643,\n",
              "        0.04922101, -0.08117287,  0.02939275,  0.04118511,  0.06974351,\n",
              "       -0.07813613,  0.00595077, -0.07421089, -0.03089981,  0.0137396 ,\n",
              "       -0.05778846, -0.04389972, -0.13377224,  0.03206245,  0.05583116,\n",
              "        0.01115833, -0.06464142,  0.04737547,  0.01858247,  0.02164874,\n",
              "       -0.01551069, -0.00365925, -0.04117593, -0.00255007,  0.00430342,\n",
              "       -0.07289001, -0.0052586 , -0.05028332,  0.03059196,  0.00721646,\n",
              "        0.06180057,  0.03009644,  0.03555243, -0.03822833, -0.0400967 ,\n",
              "       -0.06272308,  0.01605841,  0.03822886, -0.08574764,  0.02257067,\n",
              "        0.06718858, -0.05301963, -0.02978891, -0.1224504 , -0.02261353,\n",
              "       -0.0406032 , -0.03379878, -0.01945362,  0.00817047, -0.00722203,\n",
              "        0.07216813,  0.03761702,  0.06979278,  0.0156218 ,  0.00428475,\n",
              "       -0.00873424,  0.0364682 , -0.01526296,  0.04645511, -0.04437743,\n",
              "       -0.00020068,  0.03881984, -0.0913939 , -0.09750434,  0.0439156 ,\n",
              "       -0.03955186, -0.00376187, -0.0228453 ,  0.0281262 , -0.04103385,\n",
              "       -0.04310314,  0.00331873,  0.10977808,  0.0887338 , -0.11972366,\n",
              "       -0.04122586, -0.08184099,  0.02862128, -0.04230407, -0.00308046,\n",
              "       -0.06252975,  0.06910351,  0.02699201,  0.02743155, -0.00529135,\n",
              "       -0.05315287,  0.01813448, -0.04484021,  0.07105992, -0.01870146,\n",
              "       -0.02833113,  0.04260328,  0.00236454, -0.1198928 ,  0.02859816,\n",
              "        0.00315222, -0.09526061, -0.01425944,  0.03770821, -0.07114353,\n",
              "       -0.06831376,  0.00839331,  0.06654025,  0.03476366,  0.00642201,\n",
              "       -0.02551456,  0.00535349, -0.05605528, -0.00155661,  0.04745719,\n",
              "       -0.02588923,  0.01787574,  0.07273389,  0.04378167, -0.01316549,\n",
              "        0.00994   ,  0.04814593,  0.00340449, -0.00661713,  0.06696038,\n",
              "        0.09028067,  0.03350118, -0.06831057,  0.0845759 , -0.02006305,\n",
              "        0.03846602,  0.04658961,  0.08491512,  0.0163767 , -0.07503828,\n",
              "        0.03503955,  0.020912  ,  0.01607883,  0.06979106,  0.04115585,\n",
              "       -0.00144215, -0.00535621,  0.099981  ,  0.0298956 ,  0.15765475,\n",
              "       -0.0434408 ,  0.11376192, -0.05782431, -0.03382547,  0.02365618,\n",
              "        0.0505778 ,  0.03957696,  0.03032023,  0.14649977, -0.0538933 ,\n",
              "       -0.04990564, -0.05593954,  0.05890206,  0.01642376, -0.01495167,\n",
              "       -0.08160907,  0.05874432,  0.03822966,  0.00264673,  0.06210072,\n",
              "       -0.02538275,  0.03985597, -0.13615642,  0.02853187,  0.05974606,\n",
              "        0.05359326,  0.0536029 ,  0.04251303,  0.03020027, -0.0836298 ,\n",
              "       -0.0895882 ,  0.02652357,  0.06507709, -0.03083978, -0.11132739,\n",
              "       -0.02103544,  0.05363993], dtype=float32)"
            ]
          },
          "metadata": {
            "tags": []
          },
          "execution_count": 33
        }
      ]
    },
    {
      "cell_type": "code",
      "metadata": {
        "colab": {
          "base_uri": "https://localhost:8080/"
        },
        "id": "s8eGUkwGl9On",
        "outputId": "1c53090a-ca78-421e-bc44-7f1ae208ee79"
      },
      "source": [
        "for i in range(0, max_print,2):\n",
        "  pe1[0][i] = math.sin(pos1 / (10000 ** ((2 * i)/d_model)))\n",
        "  paa[0][i] = (paa[0][i]*math.sqrt(d_model))+ pe1[0][i]\n",
        "  pe1[0][i+1] = math.cos(pos1 / (10000 ** ((2 * i)/d_model)))\n",
        "  paa[0][i+1] = (paa[0][i+1]*math.sqrt(d_model))+pe1[0][i+1]\n",
        "  print(i,pe1[0][i],i+1,pe1[0][i+1])\n",
        "  print(i,paa[0][i],i+1,paa[0][i+1])\n",
        "  print(\"\\n\")"
      ],
      "execution_count": 34,
      "outputs": [
        {
          "output_type": "stream",
          "text": [
            "0 0.9092974 1 -0.41614684\n",
            "0 2.0621154 1 -3.1185439\n",
            "\n",
            "\n",
            "2 0.95814437 3 -0.28628543\n",
            "2 0.6627328 3 0.836416\n",
            "\n",
            "\n",
            "4 0.98704624 5 -0.16043596\n",
            "4 1.0115019 5 0.57260823\n",
            "\n",
            "\n",
            "6 0.9991642 7 -0.040876657\n",
            "6 1.8756264 7 0.68198067\n",
            "\n",
            "\n",
            "8 0.99748 9 0.07094825\n",
            "8 1.1293943 9 -1.2939247\n",
            "\n",
            "\n",
            "10 0.984703 11 0.17424123\n",
            "10 0.60866046 11 -1.1687702\n",
            "\n",
            "\n",
            "12 0.9632266 13 0.2686903\n",
            "12 1.5310274 13 -0.66762775\n",
            "\n",
            "\n",
            "14 0.9351183 15 0.35433567\n",
            "14 0.313261 15 1.3457086\n",
            "\n",
            "\n",
            "16 0.9021307 17 0.43146282\n",
            "16 2.041707 17 -1.8011736\n",
            "\n",
            "\n",
            "18 0.8657256 19 0.5005189\n",
            "18 1.4007865 19 1.2566069\n",
            "\n",
            "\n",
            "20 0.8271038 21 0.5620492\n",
            "20 -1.4201087 21 -0.57857126\n",
            "\n",
            "\n",
            "22 0.7872378 23 0.6166495\n",
            "22 -0.23480235 23 1.2398268\n",
            "\n",
            "\n",
            "24 0.74690354 25 0.6649324\n",
            "24 -0.9784785 25 3.1564882\n",
            "\n",
            "\n",
            "26 0.7067105 27 0.7075028\n",
            "26 0.53109753 27 1.8158268\n",
            "\n",
            "\n",
            "28 0.6671291 29 0.7449421\n",
            "28 0.5276871 29 1.1362903\n",
            "\n",
            "\n",
            "30 0.62851435 31 0.777798\n",
            "30 0.92977536 31 -0.13407512\n",
            "\n",
            "\n",
            "32 0.5911271 33 0.8065784\n",
            "32 2.6564105 33 1.8314749\n",
            "\n",
            "\n",
            "34 0.55515176 35 0.8317491\n",
            "34 -0.14973363 35 0.29674655\n",
            "\n",
            "\n",
            "36 0.5207113 37 0.8537328\n",
            "36 -0.5574837 37 -1.5175283\n",
            "\n",
            "\n",
            "38 0.48787993 39 0.87291074\n",
            "38 1.365204 39 -0.5097042\n",
            "\n",
            "\n",
            "40 0.45669335 41 0.8896242\n",
            "40 0.06300761 41 0.3501683\n",
            "\n",
            "\n",
            "42 0.4271576 43 0.9041772\n",
            "42 0.3957528 43 -0.112599686\n",
            "\n",
            "\n",
            "44 0.3992558 45 0.9168396\n",
            "44 1.8097041 45 1.0382507\n",
            "\n",
            "\n",
            "46 0.3729539 47 0.9278499\n",
            "46 1.572724 47 1.0783931\n",
            "\n",
            "\n",
            "48 0.34820527 49 0.9374183\n",
            "48 3.194472 49 0.7928265\n",
            "\n",
            "\n",
            "50 0.3249543 51 0.94572973\n",
            "50 -1.6754106 51 0.60539824\n",
            "\n",
            "\n",
            "52 0.30313936 53 0.95294625\n",
            "52 -1.5454568 53 2.2071276\n",
            "\n",
            "\n",
            "54 0.28269497 55 0.95920986\n",
            "54 0.840961 55 1.0201467\n",
            "\n",
            "\n",
            "56 0.26355368 57 0.96464473\n",
            "56 1.2518259 57 1.9742148\n",
            "\n",
            "\n",
            "58 0.24564745 59 0.9693592\n",
            "58 1.4832511 59 1.7580203\n",
            "\n",
            "\n",
            "60 0.22890863 61 0.9734479\n",
            "60 3.0298266 61 4.0211153\n",
            "\n",
            "\n",
            "62 0.2132708 63 0.97699314\n",
            "62 -0.97858906 63 1.1719041\n",
            "\n",
            "\n",
            "64 0.19866933 65 0.9800666\n",
            "64 0.3357909 65 0.7086622\n",
            "\n",
            "\n",
            "66 0.18504182 67 0.9827306\n",
            "66 0.84667987 67 -0.69522816\n",
            "\n",
            "\n",
            "68 0.17232832 69 0.9850396\n",
            "68 2.963812 69 0.32528186\n",
            "\n",
            "\n",
            "70 0.16047162 71 0.98704046\n",
            "70 -0.5097996 71 2.927577\n",
            "\n",
            "\n",
            "72 0.1494172 73 0.98877424\n",
            "72 1.5186003 73 0.012673796\n",
            "\n",
            "\n",
            "74 0.13911347 75 0.99027646\n",
            "74 -0.57503074 75 -0.048807986\n",
            "\n",
            "\n",
            "76 0.1295115 77 0.9915779\n",
            "76 1.0539348 77 1.4088819\n",
            "\n",
            "\n",
            "78 0.12056526 79 0.9927054\n",
            "78 -0.45850554 79 1.4998001\n",
            "\n",
            "\n",
            "80 0.112231314 81 0.9936821\n",
            "80 -0.6132108 81 4.0450277\n",
            "\n",
            "\n",
            "82 0.10446886 83 0.9945282\n",
            "82 0.15384802 83 -1.1037093\n",
            "\n",
            "\n",
            "84 0.097239606 85 0.995261\n",
            "84 -0.22720759 85 1.969889\n",
            "\n",
            "\n",
            "86 0.09050765 87 0.99589574\n",
            "86 2.2247694 87 0.004244377\n",
            "\n",
            "\n",
            "88 0.08423935 89 0.99644554\n",
            "88 1.4166741 89 2.9617267\n",
            "\n",
            "\n",
            "90 0.07840325 91 0.9969217\n",
            "90 0.010299252 91 1.2320839\n",
            "\n",
            "\n",
            "92 0.07296991 93 0.9973341\n",
            "92 0.63580424 93 -0.5027725\n",
            "\n",
            "\n",
            "94 0.067911856 95 0.99769133\n",
            "94 0.8345555 95 0.2553632\n",
            "\n",
            "\n",
            "96 0.063203394 97 0.9980007\n",
            "96 -0.62349695 97 -1.4021661\n",
            "\n",
            "\n",
            "98 0.05882057 99 0.99826854\n",
            "98 -0.57663715 99 0.9380413\n",
            "\n",
            "\n",
            "100 0.054741018 101 0.9985006\n",
            "100 -0.81775296 101 2.1802192\n",
            "\n",
            "\n",
            "102 0.050943874 103 0.9987015\n",
            "102 0.08576865 103 1.3518295\n",
            "\n",
            "\n",
            "104 0.047409695 105 0.9988755\n",
            "104 0.3303084 105 -0.3492406\n",
            "\n",
            "\n",
            "106 0.044120356 107 0.99902624\n",
            "106 -1.7001646 107 0.801156\n",
            "\n",
            "\n",
            "108 0.041058954 109 0.9991567\n",
            "108 0.7793024 109 -0.88235885\n",
            "\n",
            "\n",
            "110 0.038209755 111 0.9992697\n",
            "110 -1.4586153 111 1.1669604\n",
            "\n",
            "\n",
            "112 0.03555809 113 0.9993676\n",
            "112 3.3445234 113 1.0202837\n",
            "\n",
            "\n",
            "114 0.0330903 115 0.99945235\n",
            "114 0.44608557 115 1.8863481\n",
            "\n",
            "\n",
            "116 0.030793661 117 0.9995258\n",
            "116 0.5319803 117 1.5683467\n",
            "\n",
            "\n",
            "118 0.028656328 119 0.9995893\n",
            "118 0.8506079 119 -1.2035507\n",
            "\n",
            "\n",
            "120 0.026667267 121 0.99964434\n",
            "120 -0.7573065 121 0.9926208\n",
            "\n",
            "\n",
            "122 0.024816208 123 0.999692\n",
            "122 0.823048 123 2.6821916\n",
            "\n",
            "\n",
            "124 0.023093587 125 0.9997333\n",
            "124 0.37452766 125 1.7535855\n",
            "\n",
            "\n",
            "126 0.021490501 127 0.99976903\n",
            "126 0.50602084 127 0.8337179\n",
            "\n",
            "\n",
            "128 0.019998666 129 0.9998\n",
            "128 -0.6350057 129 -0.29037586\n",
            "\n",
            "\n",
            "130 0.018610366 131 0.9998268\n",
            "130 0.03252974 131 0.55385655\n",
            "\n",
            "\n",
            "132 0.01731842 133 0.99985003\n",
            "132 -1.441493 133 -1.5560031\n",
            "\n",
            "\n",
            "134 0.016116146 135 0.9998701\n",
            "134 -0.8293399 135 2.7959118\n",
            "\n",
            "\n",
            "136 0.014997322 137 0.9998875\n",
            "136 -0.17584783 137 1.1438941\n",
            "\n",
            "\n",
            "138 0.013956158 139 0.9999026\n",
            "138 0.40797272 139 0.866417\n",
            "\n",
            "\n",
            "140 0.012987267 141 0.99991566\n",
            "140 -0.511428 141 -0.6113825\n",
            "\n",
            "\n",
            "142 0.012085633 143 0.999927\n",
            "142 2.6449955 143 2.7029762\n",
            "\n",
            "\n",
            "144 0.011246589 145 0.99993676\n",
            "144 0.14242771 145 -0.2592644\n",
            "\n",
            "\n",
            "146 0.010465791 147 0.9999452\n",
            "146 0.31249854 147 0.35714504\n",
            "\n",
            "\n",
            "148 0.009739197 149 0.99995255\n",
            "148 0.8601499 149 0.5672362\n",
            "\n",
            "\n",
            "150 0.009063044 151 0.99995893\n",
            "150 0.7465054 151 0.65681744\n",
            "\n",
            "\n",
            "152 0.00843383 153 0.9999644\n",
            "152 -2.2543082 153 0.41370735\n",
            "\n",
            "\n",
            "154 0.007848299 155 0.9999692\n",
            "154 0.7338259 155 2.0186198\n",
            "\n",
            "\n",
            "156 0.0073034177 157 0.99997336\n",
            "156 0.41993943 157 1.2769033\n",
            "\n",
            "\n",
            "158 0.006796364 159 0.99997693\n",
            "158 0.8203785 159 -0.06676267\n",
            "\n",
            "\n",
            "160 0.0063245133 161 0.99998\n",
            "160 -0.59641594 161 1.0148315\n",
            "\n",
            "\n",
            "162 0.0058854204 163 0.99998266\n",
            "162 0.34776005 163 1.0421704\n",
            "\n",
            "\n",
            "164 0.005476812 165 0.999985\n",
            "164 1.2511307 165 1.2425578\n",
            "\n",
            "\n",
            "166 0.0050965715 167 0.999987\n",
            "166 0.6498048 167 0.028794732\n",
            "\n",
            "\n",
            "168 0.0047427295 169 0.99998873\n",
            "168 0.24175401 169 1.4511856\n",
            "\n",
            "\n",
            "170 0.004413454 171 0.9999903\n",
            "170 -0.9280321 171 -1.8445551\n",
            "\n",
            "\n",
            "172 0.0041070385 173 0.9999916\n",
            "172 -0.8118277 173 1.108606\n",
            "\n",
            "\n",
            "174 0.0038218966 175 0.99999267\n",
            "174 -0.38043636 175 0.447297\n",
            "\n",
            "\n",
            "176 0.0035565514 177 0.9999937\n",
            "176 -1.4567982 177 0.8129049\n",
            "\n",
            "\n",
            "178 0.0033096282 179 0.9999945\n",
            "178 -0.3309023 179 2.3213158\n",
            "\n",
            "\n",
            "180 0.0030798481 181 0.99999523\n",
            "180 -0.746751 181 1.4884094\n",
            "\n",
            "\n",
            "182 0.0028660211 183 0.9999959\n",
            "182 -0.7986999 183 1.2845476\n",
            "\n",
            "\n",
            "184 0.0026670396 185 0.9999964\n",
            "184 0.017650293 185 0.91938686\n",
            "\n",
            "\n",
            "186 0.002481873 187 0.9999969\n",
            "186 0.8977921 187 -0.24073872\n",
            "\n",
            "\n",
            "188 0.002309562 189 0.9999973\n",
            "188 -0.3367431 189 1.2386763\n",
            "\n",
            "\n",
            "190 0.002149214 191 0.9999977\n",
            "190 -0.011046739 191 1.2495915\n",
            "\n",
            "\n",
            "192 0.0019999987 193 0.999998\n",
            "192 0.6438616 193 0.3679509\n",
            "\n",
            "\n",
            "194 0.001861143 195 0.9999983\n",
            "194 2.2877634 195 0.23550914\n",
            "\n",
            "\n",
            "196 0.0017319277 197 0.9999985\n",
            "196 0.39306483 197 1.4496145\n",
            "\n",
            "\n",
            "198 0.0016116836 199 0.9999987\n",
            "198 -1.1228746 199 1.9078714\n",
            "\n",
            "\n",
            "200 0.0014997879 201 0.99999887\n",
            "200 0.8281745 201 -0.1634943\n",
            "\n",
            "\n",
            "202 0.0013956607 203 0.99999905\n",
            "202 0.2481366 203 1.9081273\n",
            "\n",
            "\n",
            "204 0.0012987629 205 0.99999917\n",
            "204 0.26221615 205 3.1122756\n",
            "\n",
            "\n",
            "206 0.0012085924 207 0.9999993\n",
            "206 0.9194652 207 1.0847\n",
            "\n",
            "\n",
            "208 0.0011246824 209 0.99999934\n",
            "208 1.3433524 209 1.0297431\n",
            "\n",
            "\n",
            "210 0.0010465981 211 0.99999946\n",
            "210 0.16550703 211 0.45165846\n",
            "\n",
            "\n",
            "212 0.0009739349 213 0.9999995\n",
            "212 -0.2444875 213 -0.08797374\n",
            "\n",
            "\n",
            "214 0.0009063166 215 0.9999996\n",
            "214 -0.124410555 215 -0.95941013\n",
            "\n",
            "\n",
            "216 0.0008433929 217 0.99999964\n",
            "216 0.5482181 217 0.54782027\n",
            "\n",
            "\n",
            "218 0.0007848379 219 0.9999997\n",
            "218 -0.7100561 219 3.295572\n",
            "\n",
            "\n",
            "220 0.00073034817 221 0.99999976\n",
            "220 0.12074728 221 0.84392285\n",
            "\n",
            "\n",
            "222 0.0006796416 223 0.99999976\n",
            "222 -0.2771726 223 2.9889333\n",
            "\n",
            "\n",
            "224 0.0006324555 225 0.9999998\n",
            "224 -2.6952996 225 -0.16328211\n",
            "\n",
            "\n",
            "226 0.0005885454 227 0.9999998\n",
            "226 0.38851255 227 3.6226635\n",
            "\n",
            "\n",
            "228 0.0005476839 229 0.9999998\n",
            "228 -2.7333093 229 0.626177\n",
            "\n",
            "\n",
            "230 0.00050965935 231 0.9999999\n",
            "230 -0.19972722 231 0.96312034\n",
            "\n",
            "\n",
            "232 0.0004742747 233 0.9999999\n",
            "232 0.15886672 233 -0.600173\n",
            "\n",
            "\n",
            "234 0.0004413468 235 0.9999999\n",
            "234 0.766689 235 0.44935516\n",
            "\n",
            "\n",
            "236 0.000410705 237 0.99999994\n",
            "236 -0.9752283 237 0.41575825\n",
            "\n",
            "\n",
            "238 0.0003821906 239 0.99999994\n",
            "238 0.2770149 239 0.63409483\n",
            "\n",
            "\n",
            "240 0.00035565588 241 0.99999994\n",
            "240 -0.26523814 241 0.4083956\n",
            "\n",
            "\n",
            "242 0.0003309634 243 0.99999994\n",
            "242 -0.8347943 243 2.589312\n",
            "\n",
            "\n",
            "244 0.0003079853 245 0.99999994\n",
            "244 -0.5657505 245 0.36075807\n",
            "\n",
            "\n",
            "246 0.0002866025 247 0.99999994\n",
            "246 1.2273219 247 -0.2627864\n",
            "\n",
            "\n",
            "248 0.00026670427 249 0.99999994\n",
            "248 -0.47896615 249 0.7037532\n",
            "\n",
            "\n",
            "250 0.00024818754 251 0.99999994\n",
            "250 1.5160136 251 2.1898258\n",
            "\n",
            "\n",
            "252 0.0002309564 253 1.0\n",
            "252 -2.1440144 253 0.42227843\n",
            "\n",
            "\n",
            "254 0.00021492156 255 1.0\n",
            "254 -0.9931751 255 0.97607726\n",
            "\n",
            "\n",
            "256 0.0002 257 1.0\n",
            "256 1.1796522 257 0.949006\n",
            "\n",
            "\n",
            "258 0.00018611441 259 1.0\n",
            "258 0.87514514 259 0.13431266\n",
            "\n",
            "\n",
            "260 0.00017319286 261 1.0\n",
            "260 -0.47794595 261 2.8468518\n",
            "\n",
            "\n",
            "262 0.00016116844 263 1.0\n",
            "262 -0.7248792 263 1.7998886\n",
            "\n",
            "\n",
            "264 0.00014997883 265 1.0\n",
            "264 0.042050418 265 3.725362\n",
            "\n",
            "\n",
            "266 0.00013956611 267 1.0\n",
            "266 -0.8712327 267 0.0408962\n",
            "\n",
            "\n",
            "268 0.00012987632 269 1.0\n",
            "268 0.6482776 269 1.7103618\n",
            "\n",
            "\n",
            "270 0.00012085928 271 1.0\n",
            "270 0.005297957 271 3.2056355\n",
            "\n",
            "\n",
            "272 0.00011246827 273 1.0\n",
            "272 -0.94478565 273 2.1631854\n",
            "\n",
            "\n",
            "274 0.000104659826 275 1.0\n",
            "274 -1.255401 275 2.013819\n",
            "\n",
            "\n",
            "276 9.73935e-05 277 1.0\n",
            "276 1.0569035 277 2.9254403\n",
            "\n",
            "\n",
            "278 9.063167e-05 279 1.0\n",
            "278 -0.81107014 279 -0.035938263\n",
            "\n",
            "\n",
            "280 8.43393e-05 281 1.0\n",
            "280 -0.31300512 281 0.93952566\n",
            "\n",
            "\n",
            "282 7.84838e-05 283 1.0\n",
            "282 -0.6314357 283 0.3977834\n",
            "\n",
            "\n",
            "284 7.3034826e-05 285 1.0\n",
            "284 0.2997998 285 1.602223\n",
            "\n",
            "\n",
            "286 6.796417e-05 287 1.0\n",
            "286 -1.297519 287 0.97550327\n",
            "\n",
            "\n",
            "288 6.3245556e-05 289 1.0\n",
            "288 -0.027029952 289 -0.10572063\n",
            "\n",
            "\n",
            "290 5.8854544e-05 291 1.0\n",
            "290 -0.84949315 291 1.7721602\n",
            "\n",
            "\n",
            "292 5.4768392e-05 293 1.0\n",
            "292 -0.026635135 293 -0.41443223\n",
            "\n",
            "\n",
            "294 5.0965937e-05 295 1.0\n",
            "294 1.0821152 295 0.844289\n",
            "\n",
            "\n",
            "296 4.7427475e-05 297 1.0\n",
            "296 0.8361318 297 2.0840158\n",
            "\n",
            "\n",
            "298 4.4134682e-05 299 1.0\n",
            "298 1.7020873 299 1.0800769\n",
            "\n",
            "\n",
            "300 4.10705e-05 301 1.0\n",
            "300 -1.6690999 301 -0.52268285\n",
            "\n",
            "\n",
            "302 3.821906e-05 303 1.0\n",
            "302 1.0100769 303 0.47997978\n",
            "\n",
            "\n",
            "304 3.5565587e-05 305 1.0\n",
            "304 -0.7355327 305 0.50263715\n",
            "\n",
            "\n",
            "306 3.309634e-05 307 1.0\n",
            "306 -0.40460292 307 2.626365\n",
            "\n",
            "\n",
            "308 3.0798532e-05 309 1.0\n",
            "308 1.9287018 309 1.1129044\n",
            "\n",
            "\n",
            "310 2.8660252e-05 311 1.0\n",
            "310 0.04489798 311 3.2533379\n",
            "\n",
            "\n",
            "312 2.6670428e-05 313 1.0\n",
            "312 0.7532034 313 1.8492777\n",
            "\n",
            "\n",
            "314 2.4818755e-05 315 1.0\n",
            "314 0.124768995 315 3.0619538\n",
            "\n",
            "\n",
            "316 2.309564e-05 317 1.0\n",
            "316 -1.6368738 317 1.5069975\n",
            "\n",
            "\n",
            "318 2.1492157e-05 319 1.0\n",
            "318 0.949855 319 1.3227884\n",
            "\n",
            "\n",
            "320 2e-05 321 1.0\n",
            "320 0.44501567 321 -1.8974019\n",
            "\n",
            "\n",
            "322 1.8611441e-05 323 1.0\n",
            "322 0.94846684 323 1.6818098\n",
            "\n",
            "\n",
            "324 1.7319286e-05 325 1.0\n",
            "324 0.46676078 325 -0.34204713\n",
            "\n",
            "\n",
            "326 1.6116845e-05 327 1.0\n",
            "326 1.4354434 327 2.7705235\n",
            "\n",
            "\n",
            "328 1.4997884e-05 329 1.0\n",
            "328 -0.93753576 329 2.5549963\n",
            "\n",
            "\n",
            "330 1.3956612e-05 331 1.0\n",
            "330 0.095529936 331 1.4076415\n",
            "\n",
            "\n",
            "332 1.29876325e-05 333 1.0\n",
            "332 2.184753 333 0.7658879\n",
            "\n",
            "\n",
            "334 1.2085928e-05 335 1.0\n",
            "334 1.7374907 335 2.1137445\n",
            "\n",
            "\n",
            "336 1.1246827e-05 337 1.0\n",
            "336 -1.8367211 337 1.665082\n",
            "\n",
            "\n",
            "338 1.0465982e-05 339 1.0\n",
            "338 0.93192315 339 2.5781155\n",
            "\n",
            "\n",
            "340 9.73935e-06 341 1.0\n",
            "340 -1.7680091 341 1.1346506\n",
            "\n",
            "\n",
            "342 9.063167e-06 343 1.0\n",
            "342 -1.6791917 343 0.30081704\n",
            "\n",
            "\n",
            "344 8.43393e-06 345 1.0\n",
            "344 0.31090012 345 -0.30760354\n",
            "\n",
            "\n",
            "346 7.84838e-06 347 1.0\n",
            "346 -0.9933294 347 -2.0269203\n",
            "\n",
            "\n",
            "348 7.3034826e-06 349 1.0\n",
            "348 0.7254977 349 2.263315\n",
            "\n",
            "\n",
            "350 6.7964165e-06 351 1.0\n",
            "350 0.2524909 351 -0.46266845\n",
            "\n",
            "\n",
            "352 6.324555e-06 353 1.0\n",
            "352 1.0719907 353 1.4204735\n",
            "\n",
            "\n",
            "354 5.8854544e-06 355 1.0\n",
            "354 0.4898609 355 0.64903307\n",
            "\n",
            "\n",
            "356 5.4768393e-06 357 1.0\n",
            "356 -0.08279379 357 0.06829511\n",
            "\n",
            "\n",
            "358 5.0965937e-06 359 1.0\n",
            "358 -0.057696357 359 1.0973752\n",
            "\n",
            "\n",
            "360 4.7427475e-06 361 1.0\n",
            "360 -1.6493078 361 0.88101137\n",
            "\n",
            "\n",
            "362 4.413468e-06 363 1.0\n",
            "362 -1.1377773 363 1.692217\n",
            "\n",
            "\n",
            "364 4.1070502e-06 365 1.0\n",
            "364 0.16329397 365 2.3983874\n",
            "\n",
            "\n",
            "366 3.821906e-06 367 1.0\n",
            "366 0.6810086 367 1.8044597\n",
            "\n",
            "\n",
            "368 3.5565588e-06 369 1.0\n",
            "368 -0.8650049 369 0.09271533\n",
            "\n",
            "\n",
            "370 3.3096342e-06 371 1.0\n",
            "370 -1.4192579 371 1.3633603\n",
            "\n",
            "\n",
            "372 3.079853e-06 373 1.0\n",
            "372 0.8650234 373 -0.9402477\n",
            "\n",
            "\n",
            "374 2.8660252e-06 375 1.0\n",
            "374 0.5107188 375 2.520304\n",
            "\n",
            "\n",
            "376 2.667043e-06 377 1.0\n",
            "376 -1.1996945 377 0.32595402\n",
            "\n",
            "\n",
            "378 2.4818755e-06 379 1.0\n",
            "378 -2.7707338 379 0.4883143\n",
            "\n",
            "\n",
            "380 2.309564e-06 381 1.0\n",
            "380 -0.91874325 381 0.23522082\n",
            "\n",
            "\n",
            "382 2.1492156e-06 383 1.0\n",
            "382 -0.44018304 383 1.1848766\n",
            "\n",
            "\n",
            "384 2e-06 385 1.0\n",
            "384 -0.16341393 385 2.6329784\n",
            "\n",
            "\n",
            "386 1.861144e-06 387 1.0\n",
            "386 0.85117775 387 2.5792305\n",
            "\n",
            "\n",
            "388 1.7319286e-06 389 1.0\n",
            "388 0.35348266 389 1.0969528\n",
            "\n",
            "\n",
            "390 1.6116844e-06 391 1.0\n",
            "390 -0.19763173 391 1.8251811\n",
            "\n",
            "\n",
            "392 1.4997884e-06 393 1.0\n",
            "392 -0.34535992 393 2.0511591\n",
            "\n",
            "\n",
            "394 1.3956611e-06 395 1.0\n",
            "394 -1.0041454 395 0.99545914\n",
            "\n",
            "\n",
            "396 1.2987632e-06 397 1.0\n",
            "396 0.87839395 397 -1.068008\n",
            "\n",
            "\n",
            "398 1.2085928e-06 399 1.0\n",
            "398 -2.2062702 399 1.9936965\n",
            "\n",
            "\n",
            "400 1.1246826e-06 401 1.0\n",
            "400 -0.89495534 401 0.91487855\n",
            "\n",
            "\n",
            "402 1.0465982e-06 403 1.0\n",
            "402 -0.516929 403 1.6364232\n",
            "\n",
            "\n",
            "404 9.73935e-07 405 1.0\n",
            "404 -0.92848915 405 0.02468728\n",
            "\n",
            "\n",
            "406 9.063167e-07 407 1.0\n",
            "406 0.07509512 407 3.4839942\n",
            "\n",
            "\n",
            "408 8.43393e-07 409 1.0\n",
            "408 2.0078175 409 -1.7090371\n",
            "\n",
            "\n",
            "410 7.8483794e-07 411 1.0\n",
            "410 -0.93283397 411 -0.8518503\n",
            "\n",
            "\n",
            "412 7.3034823e-07 413 1.0\n",
            "412 0.6476264 413 0.04276811\n",
            "\n",
            "\n",
            "414 6.796417e-07 415 1.0\n",
            "414 -0.06970228 415 -0.41488674\n",
            "\n",
            "\n",
            "416 6.324555e-07 417 1.0\n",
            "416 1.5636345 417 1.6107595\n",
            "\n",
            "\n",
            "418 5.8854545e-07 419 1.0\n",
            "418 0.6207058 419 0.8802704\n",
            "\n",
            "\n",
            "420 5.4768395e-07 421 1.0\n",
            "420 -1.2027117 421 1.4103364\n",
            "\n",
            "\n",
            "422 5.0965934e-07 423 1.0\n",
            "422 -1.0146176 423 2.6079025\n",
            "\n",
            "\n",
            "424 4.7427474e-07 425 1.0\n",
            "424 -0.42316535 425 0.35893965\n",
            "\n",
            "\n",
            "426 4.4134683e-07 427 1.0\n",
            "426 0.9640026 427 1.0535034\n",
            "\n",
            "\n",
            "428 4.10705e-07 429 1.0\n",
            "428 -2.712864 429 1.6471025\n",
            "\n",
            "\n",
            "430 3.821906e-07 431 1.0\n",
            "430 0.07132705 431 -1.1555016\n",
            "\n",
            "\n",
            "432 3.5565589e-07 433 1.0\n",
            "432 -0.32265392 433 1.8532393\n",
            "\n",
            "\n",
            "434 3.3096342e-07 435 1.0\n",
            "434 -1.609794 435 -0.54576385\n",
            "\n",
            "\n",
            "436 3.0798532e-07 437 1.0\n",
            "436 0.1899193 437 2.505634\n",
            "\n",
            "\n",
            "438 2.866025e-07 439 1.0\n",
            "438 0.78661215 439 1.1453135\n",
            "\n",
            "\n",
            "440 2.667043e-07 441 1.0\n",
            "440 -0.57732826 441 1.1211357\n",
            "\n",
            "\n",
            "442 2.4818755e-07 443 1.0\n",
            "442 -1.2683859 443 0.96477795\n",
            "\n",
            "\n",
            "444 2.309564e-07 445 1.0\n",
            "444 1.0738338 445 0.41419348\n",
            "\n",
            "\n",
            "446 2.1492157e-07 447 1.0\n",
            "446 0.4044821 447 2.64578\n",
            "\n",
            "\n",
            "448 2e-07 449 1.0\n",
            "448 0.99066633 449 0.70209897\n",
            "\n",
            "\n",
            "450 1.861144e-07 451 1.0\n",
            "450 0.2249168 451 2.0894182\n",
            "\n",
            "\n",
            "452 1.7319286e-07 453 1.0\n",
            "452 0.0770351 453 0.8502715\n",
            "\n",
            "\n",
            "454 1.6116844e-07 455 1.0\n",
            "454 1.5151405 455 3.0428183\n",
            "\n",
            "\n",
            "456 1.4997885e-07 457 1.0\n",
            "456 0.7580454 457 -0.54569185\n",
            "\n",
            "\n",
            "458 1.3956611e-07 459 1.0\n",
            "458 1.9137343 459 0.546025\n",
            "\n",
            "\n",
            "460 1.2987633e-07 461 1.0\n",
            "460 0.8703868 461 2.0542023\n",
            "\n",
            "\n",
            "462 1.2085928e-07 463 1.0\n",
            "462 1.9214098 463 1.3705624\n",
            "\n",
            "\n",
            "464 1.12468264e-07 465 1.0\n",
            "464 -1.6979222 465 1.7928544\n",
            "\n",
            "\n",
            "466 1.04659826e-07 467 1.0\n",
            "466 0.47318456 467 1.3638225\n",
            "\n",
            "\n",
            "468 9.73935e-08 469 1.0\n",
            "468 1.5791914 469 1.9312507\n",
            "\n",
            "\n",
            "470 9.063167e-08 471 1.0\n",
            "470 -0.03263208 471 0.8788027\n",
            "\n",
            "\n",
            "472 8.43393e-08 473 1.0\n",
            "472 2.262312 473 1.6764601\n",
            "\n",
            "\n",
            "474 7.8483794e-08 475 1.0\n",
            "474 3.5673199 475 0.0170469\n",
            "\n",
            "\n",
            "476 7.3034826e-08 477 1.0\n",
            "476 2.5741386 477 -0.3084147\n",
            "\n",
            "\n",
            "478 6.7964166e-08 479 1.0\n",
            "478 -0.7653829 479 1.5352782\n",
            "\n",
            "\n",
            "480 6.324555e-08 481 1.0\n",
            "480 1.1444452 481 1.8955244\n",
            "\n",
            "\n",
            "482 5.8854543e-08 483 1.0\n",
            "482 0.6860686 483 4.3149114\n",
            "\n",
            "\n",
            "484 5.4768392e-08 485 1.0\n",
            "484 -1.2194662 485 -0.12923571\n",
            "\n",
            "\n",
            "486 5.0965934e-08 487 1.0\n",
            "486 -1.2657672 487 2.3328016\n",
            "\n",
            "\n",
            "488 4.7427474e-08 489 1.0\n",
            "488 0.37162727 489 0.66168225\n",
            "\n",
            "\n",
            "490 4.413468e-08 491 1.0\n",
            "490 -1.8466024 491 2.3292322\n",
            "\n",
            "\n",
            "492 4.10705e-08 493 1.0\n",
            "492 0.8650384 493 1.0598887\n",
            "\n",
            "\n",
            "494 3.821906e-08 495 1.0\n",
            "494 1.4051788 495 0.42565402\n",
            "\n",
            "\n",
            "496 3.5565588e-08 497 1.0\n",
            "496 0.9018377 497 -2.0808682\n",
            "\n",
            "\n",
            "498 3.309634e-08 499 1.0\n",
            "498 0.6456025 499 2.3518991\n",
            "\n",
            "\n",
            "500 3.079853e-08 501 1.0\n",
            "500 1.212677 501 2.2128952\n",
            "\n",
            "\n",
            "502 2.8660251e-08 503 1.0\n",
            "502 0.96196 503 1.6833541\n",
            "\n",
            "\n",
            "504 2.667043e-08 505 1.0\n",
            "504 -1.8923264 505 -1.0271496\n",
            "\n",
            "\n",
            "506 2.4818755e-08 507 1.0\n",
            "506 0.6001599 507 2.4725263\n",
            "\n",
            "\n",
            "508 2.309564e-08 509 1.0\n",
            "508 -0.69782466 509 -1.5190512\n",
            "\n",
            "\n",
            "510 2.1492157e-08 511 1.0\n",
            "510 -0.47597775 511 2.213733\n",
            "\n",
            "\n"
          ],
          "name": "stdout"
        }
      ]
    },
    {
      "cell_type": "code",
      "metadata": {
        "id": "HTBV-4OzogNx"
      },
      "source": [
        "#print(pe1)\n",
        "# A  method in Pytorch using torch.exp and math.log :\n",
        "max_len=max_length                \n",
        "pe = torch.zeros(max_len, d_model)\n",
        "position = torch.arange(0, max_len, dtype=torch.float).unsqueeze(1)\n",
        "div_term = torch.exp(torch.arange(0, d_model, 2).float() * (-math.log(10000.0) / d_model))\n",
        "pe[:, 0::2] = torch.sin(position * div_term)\n",
        "pe[:, 1::2] = torch.cos(position * div_term)\n",
        "#print(pe[:, 0::2])"
      ],
      "execution_count": 35,
      "outputs": []
    },
    {
      "cell_type": "code",
      "metadata": {
        "id": "SoeD3HP_op_s"
      },
      "source": [
        "for i in range(0, max_print,2):\n",
        "  pe2[0][i] = math.sin(pos2 / (10000 ** ((2 * i)/d_model)))\n",
        "  pba[0][i] = (pba[0][i]*math.sqrt(d_model))+ pe2[0][i]\n",
        "            \n",
        "  pe2[0][i+1] = math.cos(pos2 / (10000 ** ((2 * i)/d_model)))\n",
        "  pba[0][i+1] = (pba[0][i+1]*math.sqrt(d_model))+ pe2[0][i+1]\n",
        "               \n",
        "  #print(i,pe2[0][i],i+1,pe2[0][i+1])\n",
        "  #print(i,paa[0][i],i+1,paa[0][i+1])\n",
        "  #print(\"\\n\")"
      ],
      "execution_count": 36,
      "outputs": []
    },
    {
      "cell_type": "code",
      "metadata": {
        "colab": {
          "base_uri": "https://localhost:8080/"
        },
        "id": "HBJa9vBqoB-a",
        "outputId": "f054bf1d-795b-48a1-ea06-43c5b76c1df7"
      },
      "source": [
        "print(word1,word2)\n",
        "cos_lib = cosine_similarity(aa, ba)\n",
        "print(cos_lib,\"word similarity\")\n",
        "cos_lib = cosine_similarity(pe1, pe2)\n",
        "print(cos_lib,\"positional similarity\")\n",
        "cos_lib = cosine_similarity(paa, pba)\n",
        "print(cos_lib,\"positional encoding similarity\")"
      ],
      "execution_count": 37,
      "outputs": [
        {
          "output_type": "stream",
          "text": [
            "black brown\n",
            "[[0.9998871]] word similarity\n",
            "[[0.8600013]] positional similarity\n",
            "[[0.96447504]] positional encoding similarity\n"
          ],
          "name": "stdout"
        }
      ]
    },
    {
      "cell_type": "code",
      "metadata": {
        "colab": {
          "base_uri": "https://localhost:8080/"
        },
        "id": "XTl7SDpPpISV",
        "outputId": "84f2560a-6deb-48af-d288-da368875d87e"
      },
      "source": [
        "print(word1)\n",
        "print(\"embedding\")\n",
        "print(aa)\n",
        "print(\"positional encoding\")\n",
        "print(pe1)\n",
        "print(\"encoded embedding\")\n",
        "print(paa)\n",
        "\n",
        "print(\"========================\")\n",
        "\n",
        "print(word2)\n",
        "print(\"embedding\")\n",
        "print(ba)\n",
        "print(\"positional encoding\")\n",
        "print(pe2)\n",
        "print(\"encoded embedding\")\n",
        "print(pba)"
      ],
      "execution_count": 38,
      "outputs": [
        {
          "output_type": "stream",
          "text": [
            "black\n",
            "embedding\n",
            "[[ 0.05094784 -0.1194302  -0.01305547  0.04961686  0.0010808   0.03239628\n",
            "   0.03873453  0.03194608  0.00582984 -0.06031943 -0.01661889 -0.05935328\n",
            "   0.02509349 -0.0413798  -0.02748247  0.04381291  0.05036264 -0.09866952\n",
            "   0.02364658  0.03341468 -0.0993137  -0.05040878 -0.04516822  0.02754081\n",
            "  -0.07625183  0.11011225 -0.00776107  0.04898146 -0.00616252  0.01729531\n",
            "   0.01331398 -0.04029948  0.09127349  0.04529446 -0.03115183 -0.02364399\n",
            "  -0.04764993 -0.10479593  0.03877261 -0.06110352 -0.01739862 -0.02384081\n",
            "  -0.00138791 -0.04493561  0.0623336   0.00536566  0.05302285  0.00665313\n",
            "   0.1257884  -0.00639011 -0.08840448 -0.01504067 -0.08169718  0.05542751\n",
            "   0.02467211  0.00269305  0.04367587  0.04461711  0.05469487  0.03485423\n",
            "   0.12378426  0.13468914 -0.05267326  0.00861393  0.00605997 -0.01199449\n",
            "   0.02924055 -0.074156    0.12336732 -0.02915745 -0.02962208  0.08576041\n",
            "   0.06050992 -0.04313795 -0.03156101 -0.04592148  0.04085413  0.01844241\n",
            "  -0.02559156  0.02241063 -0.03206031  0.1348517   0.00218227 -0.09272987\n",
            "  -0.01433868  0.04307288  0.09432194 -0.04382521  0.05888585  0.08685398\n",
            "  -0.0030098   0.0103928   0.024874   -0.06629597  0.03388118 -0.03280658\n",
            "  -0.03034816 -0.10607339 -0.02808353 -0.00266169 -0.03855915  0.05222507\n",
            "   0.00153905  0.0156062   0.01250247 -0.05957888 -0.07708723 -0.00874471\n",
            "   0.03262606 -0.08315203 -0.06615095  0.00741095  0.14623699  0.00092437\n",
            "   0.01825199  0.03919563  0.02214953  0.02513857  0.03632547 -0.09736595\n",
            "  -0.03464707 -0.0003104   0.0352772   0.07435668  0.01553134  0.03331587\n",
            "   0.02141342 -0.00733849 -0.02894738 -0.05701826  0.00061516 -0.01970929\n",
            "  -0.06447097 -0.11295382 -0.03736423  0.07937458 -0.00843424  0.00636425\n",
            "   0.01741324 -0.00589929 -0.0231761  -0.07120999  0.11635928  0.07526486\n",
            "   0.00579744 -0.05564936  0.01334809 -0.02840802  0.0375832  -0.01912354\n",
            "   0.03259065 -0.01516485 -0.10000002 -0.02590915  0.03208398  0.04501842\n",
            "   0.01823611  0.01223869  0.03595559 -0.04714368 -0.02663762  0.00065635\n",
            "   0.01510887  0.00186445  0.05505065  0.01072031  0.02849235 -0.04292104\n",
            "   0.01047452  0.01994027 -0.04120866 -0.12571234 -0.03605956  0.00480013\n",
            "  -0.01698198 -0.02442593 -0.06453917 -0.00826823 -0.01477022  0.0583947\n",
            "  -0.03313816  0.02158506 -0.03542455  0.01257552  0.00066217 -0.00356247\n",
            "   0.0395675  -0.05483329 -0.01498415  0.01054822 -0.00058318  0.01103059\n",
            "   0.02836654 -0.0279328   0.10102355 -0.03378597  0.01729463  0.01987041\n",
            "  -0.04969574  0.04012268  0.03653421 -0.05141962  0.01090451  0.04013398\n",
            "   0.01153103  0.09335031  0.04058159  0.00374328  0.05931865  0.0013145\n",
            "   0.00726819 -0.02423348 -0.01084797 -0.04808208 -0.00553828 -0.08659449\n",
            "   0.02419077 -0.01998369 -0.03141503  0.10145092  0.00530405 -0.00689769\n",
            "  -0.01227945  0.08789928 -0.11914449 -0.05141028  0.01714398  0.11590645\n",
            "  -0.12082055 -0.01652079 -0.0088493  -0.00162986  0.00700002 -0.07071832\n",
            "   0.03386368 -0.02433529 -0.04311756 -0.02582008  0.01222555 -0.01617087\n",
            "  -0.0117377  -0.02614547 -0.03690767  0.07023834 -0.02501649 -0.02825077\n",
            "   0.05422781 -0.0558078  -0.0211793  -0.01309238  0.066988    0.05258337\n",
            "  -0.09476315 -0.02553193 -0.04390205 -0.00105725  0.05212492 -0.00225364\n",
            "   0.03866809 -0.03825834 -0.02113008  0.08162009 -0.03204256  0.03535042\n",
            "   0.00185176  0.12044512 -0.03850958 -0.0423868   0.02864435  0.03139386\n",
            "   0.0002288   0.09747624 -0.04175899  0.05140601 -0.05548604  0.0448049\n",
            "   0.04670467  0.08509324 -0.03584858 -0.04578244 -0.01383673 -0.00267261\n",
            "  -0.02790925 -0.02661446  0.01324618  0.02661475 -0.05734578 -0.00108261\n",
            "  -0.00119736 -0.04886641 -0.03754525  0.03412498 -0.00117954 -0.06250966\n",
            "   0.04782093 -0.00688152  0.03695006  0.04790718  0.07522039  0.00353893\n",
            "  -0.07376631 -0.06729371  0.04463782 -0.02298186 -0.03250783 -0.02198054\n",
            "  -0.01788255  0.07187586  0.08523602  0.00498972  0.00198296  0.0995844\n",
            "   0.03328602  0.03753313  0.00551297  0.09112635 -0.07234131  0.02240633\n",
            "   0.04197711  0.01426536  0.01966622 -0.12804829  0.04191589  0.03013202\n",
            "   0.02062734 -0.05931066  0.06343752  0.07824682 -0.04143428  0.06872177\n",
            "   0.00422125  0.01801538  0.09655278 -0.01034639  0.07678643  0.04922101\n",
            "  -0.08117287  0.02939275  0.04118511  0.06974351 -0.07813613  0.00595077\n",
            "  -0.07421089 -0.03089981  0.0137396  -0.05778846 -0.04389972 -0.13377224\n",
            "   0.03206245  0.05583116  0.01115833 -0.06464142  0.04737547  0.01858247\n",
            "   0.02164874 -0.01551069 -0.00365925 -0.04117593 -0.00255007  0.00430342\n",
            "  -0.07289001 -0.0052586  -0.05028332  0.03059196  0.00721646  0.06180057\n",
            "   0.03009644  0.03555243 -0.03822833 -0.0400967  -0.06272308  0.01605841\n",
            "   0.03822886 -0.08574764  0.02257067  0.06718858 -0.05301963 -0.02978891\n",
            "  -0.1224504  -0.02261353 -0.0406032  -0.03379878 -0.01945362  0.00817047\n",
            "  -0.00722203  0.07216813  0.03761702  0.06979278  0.0156218   0.00428475\n",
            "  -0.00873424  0.0364682  -0.01526296  0.04645511 -0.04437743 -0.00020068\n",
            "   0.03881984 -0.0913939  -0.09750434  0.0439156  -0.03955186 -0.00376187\n",
            "  -0.0228453   0.0281262  -0.04103385 -0.04310314  0.00331873  0.10977808\n",
            "   0.0887338  -0.11972366 -0.04122586 -0.08184099  0.02862128 -0.04230407\n",
            "  -0.00308046 -0.06252975  0.06910351  0.02699201  0.02743155 -0.00529135\n",
            "  -0.05315287  0.01813448 -0.04484021  0.07105992 -0.01870146 -0.02833113\n",
            "   0.04260328  0.00236454 -0.1198928   0.02859816  0.00315222 -0.09526061\n",
            "  -0.01425944  0.03770821 -0.07114353 -0.06831376  0.00839331  0.06654025\n",
            "   0.03476366  0.00642201 -0.02551456  0.00535349 -0.05605528 -0.00155661\n",
            "   0.04745719 -0.02588923  0.01787574  0.07273389  0.04378167 -0.01316549\n",
            "   0.00994     0.04814593  0.00340449 -0.00661713  0.06696038  0.09028067\n",
            "   0.03350118 -0.06831057  0.0845759  -0.02006305  0.03846602  0.04658961\n",
            "   0.08491512  0.0163767  -0.07503828  0.03503955  0.020912    0.01607883\n",
            "   0.06979106  0.04115585 -0.00144215 -0.00535621  0.099981    0.0298956\n",
            "   0.15765475 -0.0434408   0.11376192 -0.05782431 -0.03382547  0.02365618\n",
            "   0.0505778   0.03957696  0.03032023  0.14649977 -0.0538933  -0.04990564\n",
            "  -0.05593954  0.05890206  0.01642376 -0.01495167 -0.08160907  0.05874432\n",
            "   0.03822966  0.00264673  0.06210072 -0.02538275  0.03985597 -0.13615642\n",
            "   0.02853187  0.05974606  0.05359326  0.0536029   0.04251303  0.03020027\n",
            "  -0.0836298  -0.0895882   0.02652357  0.06507709 -0.03083978 -0.11132739\n",
            "  -0.02103544  0.05363993]]\n",
            "positional encoding\n",
            "[[ 9.09297407e-01 -4.16146845e-01  9.58144367e-01 -2.86285430e-01\n",
            "   9.87046242e-01 -1.60435960e-01  9.99164224e-01 -4.08766568e-02\n",
            "   9.97479975e-01  7.09482506e-02  9.84703004e-01  1.74241230e-01\n",
            "   9.63226616e-01  2.68690288e-01  9.35118318e-01  3.54335666e-01\n",
            "   9.02130723e-01  4.31462824e-01  8.65725577e-01  5.00518918e-01\n",
            "   8.27103794e-01  5.62049210e-01  7.87237823e-01  6.16649508e-01\n",
            "   7.46903539e-01  6.64932430e-01  7.06710517e-01  7.07502782e-01\n",
            "   6.67129099e-01  7.44942129e-01  6.28514349e-01  7.77797997e-01\n",
            "   5.91127098e-01  8.06578398e-01  5.55151761e-01  8.31749082e-01\n",
            "   5.20711303e-01  8.53732824e-01  4.87879932e-01  8.72910738e-01\n",
            "   4.56693351e-01  8.89624178e-01  4.27157611e-01  9.04177189e-01\n",
            "   3.99255812e-01  9.16839600e-01  3.72953892e-01  9.27849889e-01\n",
            "   3.48205268e-01  9.37418282e-01  3.24954301e-01  9.45729733e-01\n",
            "   3.03139359e-01  9.52946246e-01  2.82694966e-01  9.59209859e-01\n",
            "   2.63553679e-01  9.64644730e-01  2.45647445e-01  9.69359219e-01\n",
            "   2.28908628e-01  9.73447919e-01  2.13270798e-01  9.76993144e-01\n",
            "   1.98669329e-01  9.80066597e-01  1.85041815e-01  9.82730627e-01\n",
            "   1.72328323e-01  9.85039592e-01  1.60471618e-01  9.87040460e-01\n",
            "   1.49417207e-01  9.88774240e-01  1.39113471e-01  9.90276456e-01\n",
            "   1.29511505e-01  9.91577923e-01  1.20565258e-01  9.92705405e-01\n",
            "   1.12231314e-01  9.93682086e-01  1.04468860e-01  9.94528174e-01\n",
            "   9.72396061e-02  9.95261014e-01  9.05076489e-02  9.95895743e-01\n",
            "   8.42393488e-02  9.96445537e-01  7.84032494e-02  9.96921718e-01\n",
            "   7.29699135e-02  9.97334123e-01  6.79118559e-02  9.97691333e-01\n",
            "   6.32033944e-02  9.98000681e-01  5.88205718e-02  9.98268545e-01\n",
            "   5.47410175e-02  9.98500586e-01  5.09438738e-02  9.98701513e-01\n",
            "   4.74096946e-02  9.98875499e-01  4.41203564e-02  9.99026239e-01\n",
            "   4.10589539e-02  9.99156713e-01  3.82097550e-02  9.99269724e-01\n",
            "   3.55580896e-02  9.99367595e-01  3.30903009e-02  9.99452353e-01\n",
            "   3.07936613e-02  9.99525785e-01  2.86563281e-02  9.99589324e-01\n",
            "   2.66672671e-02  9.99644339e-01  2.48162076e-02  9.99692023e-01\n",
            "   2.30935868e-02  9.99733329e-01  2.14905012e-02  9.99769032e-01\n",
            "   1.99986659e-02  9.99800026e-01  1.86103657e-02  9.99826789e-01\n",
            "   1.73184201e-02  9.99850035e-01  1.61161460e-02  9.99870121e-01\n",
            "   1.49973221e-02  9.99887526e-01  1.39561584e-02  9.99902606e-01\n",
            "   1.29872672e-02  9.99915659e-01  1.20856334e-02  9.99926984e-01\n",
            "   1.12465890e-02  9.99936759e-01  1.04657914e-02  9.99945223e-01\n",
            "   9.73919686e-03  9.99952555e-01  9.06304363e-03  9.99958932e-01\n",
            "   8.43382999e-03  9.99964416e-01  7.84829911e-03  9.99969184e-01\n",
            "   7.30341766e-03  9.99973357e-01  6.79636421e-03  9.99976933e-01\n",
            "   6.32451335e-03  9.99979973e-01  5.88542037e-03  9.99982655e-01\n",
            "   5.47681190e-03  9.99984980e-01  5.09657152e-03  9.99987006e-01\n",
            "   4.74272948e-03  9.99988735e-01  4.41345386e-03  9.99990284e-01\n",
            "   4.10703849e-03  9.99991596e-01  3.82189662e-03  9.99992669e-01\n",
            "   3.55655141e-03  9.99993682e-01  3.30962823e-03  9.99994516e-01\n",
            "   3.07984813e-03  9.99995232e-01  2.86602112e-03  9.99995887e-01\n",
            "   2.66703963e-03  9.99996424e-01  2.48187291e-03  9.99996901e-01\n",
            "   2.30956194e-03  9.99997318e-01  2.14921404e-03  9.99997675e-01\n",
            "   1.99999870e-03  9.99997973e-01  1.86114304e-03  9.99998271e-01\n",
            "   1.73192774e-03  9.99998510e-01  1.61168363e-03  9.99998689e-01\n",
            "   1.49978790e-03  9.99998868e-01  1.39566069e-03  9.99999046e-01\n",
            "   1.29876286e-03  9.99999166e-01  1.20859244e-03  9.99999285e-01\n",
            "   1.12468237e-03  9.99999344e-01  1.04659807e-03  9.99999464e-01\n",
            "   9.73934890e-04  9.99999523e-01  9.06316622e-04  9.99999583e-01\n",
            "   8.43392918e-04  9.99999642e-01  7.84837874e-04  9.99999702e-01\n",
            "   7.30348169e-04  9.99999762e-01  6.79641613e-04  9.99999762e-01\n",
            "   6.32455514e-04  9.99999821e-01  5.88545401e-04  9.99999821e-01\n",
            "   5.47683914e-04  9.99999821e-01  5.09659352e-04  9.99999881e-01\n",
            "   4.74274711e-04  9.99999881e-01  4.41346812e-04  9.99999881e-01\n",
            "   4.10704990e-04  9.99999940e-01  3.82190599e-04  9.99999940e-01\n",
            "   3.55655880e-04  9.99999940e-01  3.30963405e-04  9.99999940e-01\n",
            "   3.07985290e-04  9.99999940e-01  2.86602502e-04  9.99999940e-01\n",
            "   2.66704272e-04  9.99999940e-01  2.48187542e-04  9.99999940e-01\n",
            "   2.30956401e-04  1.00000000e+00  2.14921558e-04  1.00000000e+00\n",
            "   1.99999995e-04  1.00000000e+00  1.86114412e-04  1.00000000e+00\n",
            "   1.73192864e-04  1.00000000e+00  1.61168442e-04  1.00000000e+00\n",
            "   1.49978834e-04  1.00000000e+00  1.39566109e-04  1.00000000e+00\n",
            "   1.29876324e-04  1.00000000e+00  1.20859280e-04  1.00000000e+00\n",
            "   1.12468268e-04  1.00000000e+00  1.04659826e-04  1.00000000e+00\n",
            "   9.73935021e-05  1.00000000e+00  9.06316709e-05  1.00000000e+00\n",
            "   8.43392991e-05  1.00000000e+00  7.84837976e-05  1.00000000e+00\n",
            "   7.30348256e-05  1.00000000e+00  6.79641671e-05  1.00000000e+00\n",
            "   6.32455558e-05  1.00000000e+00  5.88545445e-05  1.00000000e+00\n",
            "   5.47683921e-05  1.00000000e+00  5.09659367e-05  1.00000000e+00\n",
            "   4.74274748e-05  1.00000000e+00  4.41346820e-05  1.00000000e+00\n",
            "   4.10704997e-05  1.00000000e+00  3.82190592e-05  1.00000000e+00\n",
            "   3.55655866e-05  1.00000000e+00  3.30963412e-05  1.00000000e+00\n",
            "   3.07985320e-05  1.00000000e+00  2.86602517e-05  1.00000000e+00\n",
            "   2.66704283e-05  1.00000000e+00  2.48187553e-05  1.00000000e+00\n",
            "   2.30956393e-05  1.00000000e+00  2.14921565e-05  1.00000000e+00\n",
            "   1.99999995e-05  1.00000000e+00  1.86114412e-05  1.00000000e+00\n",
            "   1.73192857e-05  1.00000000e+00  1.61168446e-05  1.00000000e+00\n",
            "   1.49978841e-05  1.00000000e+00  1.39566118e-05  1.00000000e+00\n",
            "   1.29876325e-05  1.00000000e+00  1.20859277e-05  1.00000000e+00\n",
            "   1.12468269e-05  1.00000000e+00  1.04659821e-05  1.00000000e+00\n",
            "   9.73935039e-06  1.00000000e+00  9.06316745e-06  1.00000000e+00\n",
            "   8.43392991e-06  1.00000000e+00  7.84837994e-06  1.00000000e+00\n",
            "   7.30348256e-06  1.00000000e+00  6.79641653e-06  1.00000000e+00\n",
            "   6.32455522e-06  1.00000000e+00  5.88545436e-06  1.00000000e+00\n",
            "   5.47683931e-06  1.00000000e+00  5.09659367e-06  1.00000000e+00\n",
            "   4.74274748e-06  1.00000000e+00  4.41346810e-06  1.00000000e+00\n",
            "   4.10705024e-06  1.00000000e+00  3.82190592e-06  1.00000000e+00\n",
            "   3.55655880e-06  1.00000000e+00  3.30963417e-06  1.00000000e+00\n",
            "   3.07985306e-06  1.00000000e+00  2.86602517e-06  1.00000000e+00\n",
            "   2.66704296e-06  1.00000000e+00  2.48187553e-06  1.00000000e+00\n",
            "   2.30956402e-06  1.00000000e+00  2.14921556e-06  1.00000000e+00\n",
            "   1.99999999e-06  1.00000000e+00  1.86114403e-06  1.00000000e+00\n",
            "   1.73192859e-06  1.00000000e+00  1.61168441e-06  1.00000000e+00\n",
            "   1.49978837e-06  1.00000000e+00  1.39566112e-06  1.00000000e+00\n",
            "   1.29876321e-06  1.00000000e+00  1.20859283e-06  1.00000000e+00\n",
            "   1.12468263e-06  1.00000000e+00  1.04659819e-06  1.00000000e+00\n",
            "   9.73935016e-07  1.00000000e+00  9.06316700e-07  1.00000000e+00\n",
            "   8.43393025e-07  1.00000000e+00  7.84837937e-07  1.00000000e+00\n",
            "   7.30348233e-07  1.00000000e+00  6.79641687e-07  1.00000000e+00\n",
            "   6.32455510e-07  1.00000000e+00  5.88545447e-07  1.00000000e+00\n",
            "   5.47683953e-07  1.00000000e+00  5.09659344e-07  1.00000000e+00\n",
            "   4.74274742e-07  1.00000000e+00  4.41346828e-07  1.00000000e+00\n",
            "   4.10705013e-07  1.00000000e+00  3.82190592e-07  1.00000000e+00\n",
            "   3.55655885e-07  1.00000000e+00  3.30963417e-07  1.00000000e+00\n",
            "   3.07985317e-07  1.00000000e+00  2.86602500e-07  1.00000000e+00\n",
            "   2.66704291e-07  1.00000000e+00  2.48187547e-07  1.00000000e+00\n",
            "   2.30956402e-07  1.00000000e+00  2.14921570e-07  1.00000000e+00\n",
            "   2.00000002e-07  1.00000000e+00  1.86114406e-07  1.00000000e+00\n",
            "   1.73192859e-07  1.00000000e+00  1.61168444e-07  1.00000000e+00\n",
            "   1.49978845e-07  1.00000000e+00  1.39566112e-07  1.00000000e+00\n",
            "   1.29876327e-07  1.00000000e+00  1.20859283e-07  1.00000000e+00\n",
            "   1.12468264e-07  1.00000000e+00  1.04659826e-07  1.00000000e+00\n",
            "   9.73935030e-08  1.00000000e+00  9.06316728e-08  1.00000000e+00\n",
            "   8.43392982e-08  1.00000000e+00  7.84837937e-08  1.00000000e+00\n",
            "   7.30348262e-08  1.00000000e+00  6.79641659e-08  1.00000000e+00\n",
            "   6.32455510e-08  1.00000000e+00  5.88545426e-08  1.00000000e+00\n",
            "   5.47683925e-08  1.00000000e+00  5.09659337e-08  1.00000000e+00\n",
            "   4.74274735e-08  1.00000000e+00  4.41346799e-08  1.00000000e+00\n",
            "   4.10704999e-08  1.00000000e+00  3.82190599e-08  1.00000000e+00\n",
            "   3.55655878e-08  1.00000000e+00  3.30963417e-08  1.00000000e+00\n",
            "   3.07985317e-08  1.00000000e+00  2.86602511e-08  1.00000000e+00\n",
            "   2.66704294e-08  1.00000000e+00  2.48187551e-08  1.00000000e+00\n",
            "   2.30956392e-08  1.00000000e+00  2.14921574e-08  1.00000000e+00]]\n",
            "encoded embedding\n",
            "[[ 2.06211543e+00 -3.11854386e+00  6.62732780e-01  8.36416006e-01\n",
            "   1.01150191e+00  5.72608232e-01  1.87562644e+00  6.81980669e-01\n",
            "   1.12939429e+00 -1.29392469e+00  6.08660460e-01 -1.16877019e+00\n",
            "   1.53102744e+00 -6.67627752e-01  3.13261002e-01  1.34570861e+00\n",
            "   2.04170704e+00 -1.80117357e+00  1.40078652e+00  1.25660694e+00\n",
            "  -1.42010868e+00 -5.78571260e-01 -2.34802350e-01  1.23982680e+00\n",
            "  -9.78478491e-01  3.15648818e+00  5.31097531e-01  1.81582677e+00\n",
            "   5.27687073e-01  1.13629031e+00  9.29775357e-01 -1.34075120e-01\n",
            "   2.65641046e+00  1.83147490e+00 -1.49733633e-01  2.96746552e-01\n",
            "  -5.57483673e-01 -1.51752830e+00  1.36520398e+00 -5.09704173e-01\n",
            "   6.30076081e-02  3.50168288e-01  3.95752788e-01 -1.12599686e-01\n",
            "   1.80970407e+00  1.03825068e+00  1.57272398e+00  1.07839310e+00\n",
            "   3.19447207e+00  7.92826474e-01 -1.67541063e+00  6.05398238e-01\n",
            "  -1.54545677e+00  2.20712757e+00  8.40960979e-01  1.02014673e+00\n",
            "   1.25182593e+00  1.97421479e+00  1.48325109e+00  1.75802028e+00\n",
            "   3.02982664e+00  4.02111530e+00 -9.78589058e-01  1.17190409e+00\n",
            "   3.35790902e-01  7.08662212e-01  8.46679866e-01 -6.95228159e-01\n",
            "   2.96381211e+00  3.25281858e-01 -5.09799600e-01  2.92757702e+00\n",
            "   1.51860034e+00  1.26737962e-02 -5.75030744e-01 -4.88079861e-02\n",
            "   1.05393481e+00  1.40888190e+00 -4.58505541e-01  1.49980009e+00\n",
            "  -6.13210797e-01  4.04502773e+00  1.53848022e-01 -1.10370934e+00\n",
            "  -2.27207586e-01  1.96988904e+00  2.22476935e+00  4.24437691e-03\n",
            "   1.41667414e+00  2.96172667e+00  1.02992523e-02  1.23208392e+00\n",
            "   6.35804236e-01 -5.02772510e-01  8.34555507e-01  2.55363196e-01\n",
            "  -6.23496950e-01 -1.40216613e+00 -5.76637149e-01  9.38041329e-01\n",
            "  -8.17752957e-01  2.18021917e+00  8.57686475e-02  1.35182953e+00\n",
            "   3.30308408e-01 -3.49240601e-01 -1.70016456e+00  8.01155984e-01\n",
            "   7.79302418e-01 -8.82358849e-01 -1.45861530e+00  1.16696036e+00\n",
            "   3.34452343e+00  1.02028370e+00  4.46085572e-01  1.88634813e+00\n",
            "   5.31980276e-01  1.56834674e+00  8.50607872e-01 -1.20355070e+00\n",
            "  -7.57306516e-01  9.92620826e-01  8.23047996e-01  2.68219161e+00\n",
            "   3.74527663e-01  1.75358546e+00  5.06020844e-01  8.33717883e-01\n",
            "  -6.35005713e-01 -2.90375859e-01  3.25297415e-02  5.53856552e-01\n",
            "  -1.44149303e+00 -1.55600309e+00 -8.29339921e-01  2.79591179e+00\n",
            "  -1.75847828e-01  1.14389408e+00  4.07972723e-01  8.66416991e-01\n",
            "  -5.11427999e-01 -6.11382484e-01  2.64499545e+00  2.70297623e+00\n",
            "   1.42427713e-01 -2.59264410e-01  3.12498540e-01  3.57145041e-01\n",
            "   8.60149920e-01  5.67236185e-01  7.46505380e-01  6.56817436e-01\n",
            "  -2.25430822e+00  4.13707346e-01  7.33825922e-01  2.01861978e+00\n",
            "   4.19939429e-01  1.27690327e+00  8.20378482e-01 -6.67626709e-02\n",
            "  -5.96415937e-01  1.01483154e+00  3.47760051e-01  1.04217041e+00\n",
            "   1.25113070e+00  1.24255776e+00  6.49804771e-01  2.87947319e-02\n",
            "   2.41754010e-01  1.45118558e+00 -9.28032100e-01 -1.84455514e+00\n",
            "  -8.11827719e-01  1.10860598e+00 -3.80436361e-01  4.47297007e-01\n",
            "  -1.45679820e+00  8.12904894e-01 -3.30902308e-01  2.32131577e+00\n",
            "  -7.46751010e-01  1.48840940e+00 -7.98699915e-01  1.28454757e+00\n",
            "   1.76502932e-02  9.19386864e-01  8.97792101e-01 -2.40738720e-01\n",
            "  -3.36743087e-01  1.23867631e+00 -1.10467393e-02  1.24959147e+00\n",
            "   6.43861592e-01  3.67950886e-01  2.28776336e+00  2.35509142e-01\n",
            "   3.93064827e-01  1.44961452e+00 -1.12287462e+00  1.90787137e+00\n",
            "   8.28174472e-01 -1.63494304e-01  2.48136595e-01  1.90812731e+00\n",
            "   2.62216151e-01  3.11227560e+00  9.19465184e-01  1.08469999e+00\n",
            "   1.34335244e+00  1.02974308e+00  1.65507033e-01  4.51658458e-01\n",
            "  -2.44487494e-01 -8.79737437e-02 -1.24410555e-01 -9.59410131e-01\n",
            "   5.48218071e-01  5.47820270e-01 -7.10056126e-01  3.29557204e+00\n",
            "   1.20747283e-01  8.43922853e-01 -2.77172595e-01  2.98893332e+00\n",
            "  -2.69529963e+00 -1.63282111e-01  3.88512552e-01  3.62266350e+00\n",
            "  -2.73330927e+00  6.26177013e-01 -1.99727222e-01  9.63120341e-01\n",
            "   1.58866718e-01 -6.00172997e-01  7.66689003e-01  4.49355155e-01\n",
            "  -9.75228310e-01  4.15758252e-01  2.77014911e-01  6.34094834e-01\n",
            "  -2.65238136e-01  4.08395588e-01 -8.34794283e-01  2.58931208e+00\n",
            "  -5.65750480e-01  3.60758066e-01  1.22732186e+00 -2.62786388e-01\n",
            "  -4.78966147e-01  7.03753173e-01  1.51601362e+00  2.18982577e+00\n",
            "  -2.14401436e+00  4.22278434e-01 -9.93175089e-01  9.76077259e-01\n",
            "   1.17965221e+00  9.49006021e-01  8.75145137e-01  1.34312660e-01\n",
            "  -4.77945954e-01  2.84685183e+00 -7.24879205e-01  1.79988861e+00\n",
            "   4.20504175e-02  3.72536206e+00 -8.71232688e-01  4.08961996e-02\n",
            "   6.48277581e-01  1.71036184e+00  5.29795699e-03  3.20563555e+00\n",
            "  -9.44785655e-01  2.16318536e+00 -1.25540102e+00  2.01381898e+00\n",
            "   1.05690348e+00  2.92544031e+00 -8.11070144e-01 -3.59382629e-02\n",
            "  -3.13005120e-01  9.39525664e-01 -6.31435692e-01  3.97783399e-01\n",
            "   2.99799800e-01  1.60222304e+00 -1.29751897e+00  9.75503266e-01\n",
            "  -2.70299520e-02 -1.05720632e-01 -8.49493146e-01  1.77216017e+00\n",
            "  -2.66351346e-02 -4.14432228e-01  1.08211517e+00  8.44289005e-01\n",
            "   8.36131811e-01  2.08401585e+00  1.70208728e+00  1.08007693e+00\n",
            "  -1.66909993e+00 -5.22682846e-01  1.01007688e+00  4.79979783e-01\n",
            "  -7.35532701e-01  5.02637148e-01 -4.04602915e-01  2.62636495e+00\n",
            "   1.92870176e+00  1.11290443e+00  4.48979810e-02  3.25333786e+00\n",
            "   7.53203392e-01  1.84927773e+00  1.24768995e-01  3.06195378e+00\n",
            "  -1.63687384e+00  1.50699747e+00  9.49855030e-01  1.32278836e+00\n",
            "   4.45015669e-01 -1.89740193e+00  9.48466837e-01  1.68180978e+00\n",
            "   4.66760784e-01 -3.42047125e-01  1.43544340e+00  2.77052355e+00\n",
            "  -9.37535763e-01  2.55499625e+00  9.55299363e-02  1.40764153e+00\n",
            "   2.18475294e+00  7.65887916e-01  1.73749065e+00  2.11374450e+00\n",
            "  -1.83672106e+00  1.66508198e+00  9.31923151e-01  2.57811546e+00\n",
            "  -1.76800907e+00  1.13465059e+00 -1.67919171e+00  3.00817043e-01\n",
            "   3.10900122e-01 -3.07603538e-01 -9.93329406e-01 -2.02692032e+00\n",
            "   7.25497723e-01  2.26331496e+00  2.52490908e-01 -4.62668449e-01\n",
            "   1.07199073e+00  1.42047346e+00  4.89860892e-01  6.49033070e-01\n",
            "  -8.27937871e-02  6.82951063e-02 -5.76963574e-02  1.09737515e+00\n",
            "  -1.64930785e+00  8.81011367e-01 -1.13777733e+00  1.69221699e+00\n",
            "   1.63293973e-01  2.39838743e+00  6.81008577e-01  1.80445969e+00\n",
            "  -8.65004897e-01  9.27153304e-02 -1.41925788e+00  1.36336029e+00\n",
            "   8.65023375e-01 -9.40247715e-01  5.10718822e-01  2.52030396e+00\n",
            "  -1.19969451e+00  3.25954020e-01 -2.77073383e+00  4.88314301e-01\n",
            "  -9.18743253e-01  2.35220820e-01 -4.40183043e-01  1.18487656e+00\n",
            "  -1.63413927e-01  2.63297844e+00  8.51177752e-01  2.57923055e+00\n",
            "   3.53482664e-01  1.09695280e+00 -1.97631732e-01  1.82518113e+00\n",
            "  -3.45359921e-01  2.05115914e+00 -1.00414538e+00  9.95459139e-01\n",
            "   8.78393948e-01 -1.06800795e+00 -2.20627022e+00  1.99369645e+00\n",
            "  -8.94955337e-01  9.14878547e-01 -5.16928971e-01  1.63642323e+00\n",
            "  -9.28489149e-01  2.46872809e-02  7.50951171e-02  3.48399425e+00\n",
            "   2.00781751e+00 -1.70903707e+00 -9.32833970e-01 -8.51850271e-01\n",
            "   6.47626400e-01  4.27681096e-02 -6.97022825e-02 -4.14886743e-01\n",
            "   1.56363451e+00  1.61075950e+00  6.20705783e-01  8.80270422e-01\n",
            "  -1.20271170e+00  1.41033638e+00 -1.01461756e+00  2.60790253e+00\n",
            "  -4.23165351e-01  3.58939648e-01  9.64002609e-01  1.05350339e+00\n",
            "  -2.71286392e+00  1.64710248e+00  7.13270530e-02 -1.15550160e+00\n",
            "  -3.22653919e-01  1.85323930e+00 -1.60979402e+00 -5.45763850e-01\n",
            "   1.89919293e-01  2.50563407e+00  7.86612153e-01  1.14531350e+00\n",
            "  -5.77328265e-01  1.12113571e+00 -1.26838589e+00  9.64777946e-01\n",
            "   1.07383382e+00  4.14193481e-01  4.04482096e-01  2.64578009e+00\n",
            "   9.90666330e-01  7.02098966e-01  2.24916801e-01  2.08941817e+00\n",
            "   7.70350993e-02  8.50271523e-01  1.51514053e+00  3.04281831e+00\n",
            "   7.58045375e-01 -5.45691848e-01  1.91373432e+00  5.46024978e-01\n",
            "   8.70386779e-01  2.05420232e+00  1.92140985e+00  1.37056243e+00\n",
            "  -1.69792223e+00  1.79285443e+00  4.73184556e-01  1.36382246e+00\n",
            "   1.57919145e+00  1.93125069e+00 -3.26320790e-02  8.78802717e-01\n",
            "   2.26231194e+00  1.67646015e+00  3.56731987e+00  1.70469005e-02\n",
            "   2.57413864e+00 -3.08414698e-01 -7.65382886e-01  1.53527820e+00\n",
            "   1.14444518e+00  1.89552438e+00  6.86068594e-01  4.31491137e+00\n",
            "  -1.21946621e+00 -1.29235715e-01 -1.26576722e+00  2.33280158e+00\n",
            "   3.71627271e-01  6.61682248e-01 -1.84660244e+00  2.32923222e+00\n",
            "   8.65038395e-01  1.05988872e+00  1.40517879e+00  4.25654024e-01\n",
            "   9.01837707e-01 -2.08086824e+00  6.45602524e-01  2.35189915e+00\n",
            "   1.21267700e+00  2.21289515e+00  9.61960018e-01  1.68335414e+00\n",
            "  -1.89232635e+00 -1.02714956e+00  6.00159883e-01  2.47252631e+00\n",
            "  -6.97824657e-01 -1.51905119e+00 -4.75977749e-01  2.21373296e+00]]\n",
            "========================\n",
            "brown\n",
            "embedding\n",
            "[[ 0.0509727  -0.11916501 -0.0135867   0.05009186  0.00088694  0.03348342\n",
            "   0.03898058  0.03166577  0.0067538  -0.0604352  -0.01778465 -0.0591553\n",
            "   0.02561564 -0.04118758 -0.02612484  0.04252522  0.05060094 -0.0998862\n",
            "   0.02287019  0.03346855 -0.09849545 -0.05042516 -0.04646672  0.02835454\n",
            "  -0.07562537  0.1091126  -0.00833838  0.04912784 -0.00696082  0.01576121\n",
            "   0.01306915 -0.04080422  0.09144068  0.04443427 -0.03103787 -0.0219572\n",
            "  -0.04711007 -0.10483744  0.03959152 -0.06153628 -0.01602719 -0.02380065\n",
            "  -0.00152218 -0.04545695  0.0633172   0.0042417   0.05314684  0.00689458\n",
            "   0.12504321 -0.00660356 -0.08878986 -0.01425187 -0.08189036  0.05547153\n",
            "   0.02559732  0.00352398  0.04273253  0.04436868  0.05621254  0.03374501\n",
            "   0.12457498  0.13435008 -0.05270749  0.00940662  0.0051468  -0.01135553\n",
            "   0.02909545 -0.07415076  0.12196563 -0.02874941 -0.03040332  0.0862442\n",
            "   0.05960938 -0.0431693  -0.03184703 -0.04516923  0.04041295  0.01816699\n",
            "  -0.02598043  0.02329618 -0.03142536  0.13446757  0.00294754 -0.09318786\n",
            "  -0.0147193   0.04236722  0.09323543 -0.04524814  0.05891331  0.08727223\n",
            "  -0.00233719  0.01002115  0.02491004 -0.06743158  0.03388154 -0.03342611\n",
            "  -0.03198558 -0.10615005 -0.028395   -0.00370887 -0.03819161  0.05355819\n",
            "   0.00181672  0.01479107  0.01284527 -0.06039735 -0.0771785  -0.00735624\n",
            "   0.0331897  -0.08203573 -0.06517451  0.0066377   0.14680241 -0.00061926\n",
            "   0.01913362  0.03844512  0.021771    0.02464065  0.03561473 -0.09764889\n",
            "  -0.03358779 -0.00151282  0.03456863  0.07459329  0.01527017  0.03368223\n",
            "   0.02178751 -0.00818445 -0.02742158 -0.05775196 -0.000321   -0.01933325\n",
            "  -0.06420159 -0.11314204 -0.0383254   0.07963853 -0.00860992  0.00673655\n",
            "   0.0175749  -0.00668948 -0.02289803 -0.07125879  0.1156209   0.07575855\n",
            "   0.00572791 -0.05522745  0.0125352  -0.02950417  0.03716873 -0.01930545\n",
            "   0.03114091 -0.01536079 -0.10055931 -0.02669775  0.03260821  0.04334784\n",
            "   0.01740753  0.01184694  0.03491543 -0.04581925 -0.0267319   0.00096136\n",
            "   0.01592188  0.00138156  0.05502876  0.0118896   0.02810146 -0.0420138\n",
            "   0.01053538  0.02118147 -0.04043331 -0.12571873 -0.03646959  0.00486386\n",
            "  -0.01546048 -0.02523426 -0.06488092 -0.00854155 -0.01319768  0.05695359\n",
            "  -0.03296501  0.02121266 -0.03561858  0.01262147  0.0002276  -0.00231633\n",
            "   0.0399408  -0.05346701 -0.01495734  0.01059702 -0.00076901  0.011127\n",
            "   0.02860333 -0.02761826  0.10252594 -0.03281958  0.01647348  0.0208785\n",
            "  -0.04988886  0.04009896  0.03572132 -0.05212742  0.01168774  0.04014416\n",
            "   0.01082199  0.09231476  0.04162312  0.00343185  0.06055648  0.00305173\n",
            "   0.00672218 -0.0230357  -0.01005336 -0.04964427 -0.00624704 -0.08779892\n",
            "   0.02269466 -0.01986086 -0.03166255  0.10211601  0.00584803 -0.00597702\n",
            "  -0.0124891   0.08748411 -0.11989164 -0.05147605  0.01704542  0.11535691\n",
            "  -0.12029714 -0.01616221 -0.00840385 -0.00204336  0.00766966 -0.06943195\n",
            "   0.03271862 -0.02383798 -0.04293666 -0.02441201  0.01228855 -0.01739355\n",
            "  -0.01209018 -0.02541564 -0.03639491  0.07044888 -0.02475885 -0.02928664\n",
            "   0.05444172 -0.05425714 -0.02043535 -0.01319748  0.06661765  0.05347427\n",
            "  -0.09618685 -0.02674181 -0.04417663 -0.00233151  0.05197495 -0.00246374\n",
            "   0.03920247 -0.03887731 -0.01981025  0.08268224 -0.03181053  0.0347897\n",
            "   0.00144342  0.12141164 -0.03809056 -0.04327637  0.03007976  0.03276202\n",
            "   0.00055121  0.09750252 -0.04127291  0.0518975  -0.0556558   0.04453229\n",
            "   0.04628271  0.0847323  -0.03718948 -0.04530519 -0.01329694 -0.00261796\n",
            "  -0.02726872 -0.0269759   0.01413843  0.02730742 -0.05753611 -0.00078991\n",
            "  -0.00082544 -0.04809897 -0.03775408  0.03539844 -0.00170585 -0.06302596\n",
            "   0.04630575 -0.00597172  0.03743004  0.04739925  0.07550807  0.00290832\n",
            "  -0.07462507 -0.06621484  0.04423173 -0.0223781  -0.03205376 -0.0209596\n",
            "  -0.01803666  0.07223942  0.08665627  0.00479074  0.00345164  0.09907062\n",
            "   0.03449368  0.03700384  0.00624727  0.08986368 -0.07235248  0.02267053\n",
            "   0.04239256  0.01489543  0.01959518 -0.12649865  0.04261532  0.03064751\n",
            "   0.02208935 -0.05937073  0.06342675  0.07713547 -0.04070998  0.06820692\n",
            "   0.00573201  0.0175568   0.09629013 -0.01011412  0.07628157  0.05022701\n",
            "  -0.08268765  0.03001594  0.04048569  0.06868049 -0.07731421  0.00573674\n",
            "  -0.07442296 -0.03039717  0.01341355 -0.05832373 -0.04426879 -0.13440186\n",
            "   0.03197228  0.05664244  0.0112049  -0.06431955  0.04746277  0.01820328\n",
            "   0.0221656  -0.01649263 -0.00450569 -0.04214508 -0.0029247   0.00301263\n",
            "  -0.07276659 -0.00542948 -0.05031947  0.02973322  0.00732272  0.06099837\n",
            "   0.02979377  0.03533069 -0.03654095 -0.03916936 -0.06244883  0.01716547\n",
            "   0.03667686 -0.08552069  0.0230604   0.06844994 -0.0534683  -0.03091913\n",
            "  -0.12359201 -0.02212266 -0.04089827 -0.03293459 -0.02062082  0.00686391\n",
            "  -0.00815322  0.07133055  0.03808169  0.0696273   0.01537071  0.00492195\n",
            "  -0.00929866  0.03660371 -0.0148367   0.04769626 -0.04447717  0.00118999\n",
            "   0.0381701  -0.09118799 -0.09804861  0.04398601 -0.03889664 -0.00424321\n",
            "  -0.02350388  0.02928447 -0.04114068 -0.04317096  0.00327376  0.11072141\n",
            "   0.09032789 -0.11994494 -0.04075622 -0.082316    0.02766167 -0.04399611\n",
            "  -0.00391188 -0.06306255  0.06988871  0.02727986  0.02782468 -0.00507703\n",
            "  -0.05372515  0.0191335  -0.04612295  0.07091387 -0.01876419 -0.02896954\n",
            "   0.04173574  0.00170486 -0.11839841  0.02923225  0.00467645 -0.09683246\n",
            "  -0.01479829  0.03892336 -0.06957161 -0.06785826  0.00863106  0.0669266\n",
            "   0.03398065  0.00717162 -0.02540854  0.00490805 -0.05485689 -0.00137258\n",
            "   0.0471313  -0.02629554  0.0177067   0.07278109  0.04286513 -0.01269109\n",
            "   0.01031506  0.04816271  0.0046379  -0.0055776   0.06668914  0.09128202\n",
            "   0.03386425 -0.06809226  0.08398189 -0.02048289  0.03803098  0.04648911\n",
            "   0.08561003  0.01486772 -0.07360598  0.03672931  0.0219544   0.0160733\n",
            "   0.06867345  0.04086287 -0.00205325 -0.00616299  0.10075079  0.0303914\n",
            "   0.1578428  -0.04407366  0.11412713 -0.05660661 -0.03391095  0.02341666\n",
            "   0.04977112  0.04014796  0.02967162  0.14756535 -0.05463142 -0.04896656\n",
            "  -0.05579387  0.05950087  0.01593055 -0.01317394 -0.0814339   0.05970146\n",
            "   0.03768517  0.0015579   0.06251656 -0.02470671  0.03997667 -0.13583535\n",
            "   0.02861029  0.06052559  0.05326139  0.0535941   0.04107684  0.03160147\n",
            "  -0.08192023 -0.08989378  0.02611959  0.06674983 -0.03201571 -0.11282104\n",
            "  -0.01944266  0.05494812]]\n",
            "positional encoding\n",
            "[[-5.44021130e-01 -8.39071512e-01  1.18776485e-01 -9.92920995e-01\n",
            "   6.92634165e-01 -7.21289039e-01  9.79174793e-01 -2.03019097e-01\n",
            "   9.37632740e-01  3.47627431e-01  6.40478015e-01  7.67976522e-01\n",
            "   2.09077001e-01  9.77899194e-01 -2.37917677e-01  9.71285343e-01\n",
            "  -6.12936735e-01  7.90131986e-01 -8.67519796e-01  4.97402608e-01\n",
            "  -9.87655997e-01  1.56638563e-01 -9.83699203e-01 -1.79821849e-01\n",
            "  -8.79767239e-01 -4.75404680e-01 -7.05123365e-01 -7.09084630e-01\n",
            "  -4.88306940e-01 -8.72671962e-01 -2.53808498e-01 -9.67254460e-01\n",
            "  -2.06835307e-02 -9.99786079e-01  1.97557300e-01 -9.80291367e-01\n",
            "   3.92338932e-01 -9.19820726e-01  5.59096694e-01 -8.29102457e-01\n",
            "   6.96292400e-01 -7.17758238e-01  8.04515123e-01 -5.93932211e-01\n",
            "   8.85731578e-01 -4.64197785e-01  9.42702413e-01 -3.33634764e-01\n",
            "   9.78552520e-01 -2.05997616e-01  9.96472359e-01 -8.39219540e-02\n",
            "   9.99523580e-01  3.08648981e-02  9.90522802e-01  1.37348220e-01\n",
            "   9.71982121e-01  2.35054746e-01  9.46088135e-01  3.23909223e-01\n",
            "   9.14706886e-01  4.04117972e-01  8.79403532e-01  4.76077169e-01\n",
            "   8.41470957e-01  5.40302277e-01  8.01961780e-01  5.97375333e-01\n",
            "   7.61720419e-01  6.47905886e-01  7.21414089e-01  6.92503929e-01\n",
            "   6.81561351e-01  7.31760979e-01  6.42556906e-01  7.66237974e-01\n",
            "   6.04694009e-01  7.96457887e-01  5.68183243e-01  8.22902083e-01\n",
            "   5.33168435e-01  8.46009135e-01  4.99740452e-01  8.66175175e-01\n",
            "   4.67948079e-01  8.83755982e-01  4.37807292e-01  8.99068832e-01\n",
            "   4.09308910e-01  9.12395835e-01  3.82424623e-01  9.23986673e-01\n",
            "   3.57111931e-01  9.34061587e-01  3.33318174e-01  9.42814410e-01\n",
            "   3.10983598e-01  9.50415254e-01  2.90043920e-01  9.57013369e-01\n",
            "   2.70432234e-01  9.62738991e-01  2.52080590e-01  9.67706263e-01\n",
            "   2.34921083e-01  9.72014427e-01  2.18886748e-01  9.75750268e-01\n",
            "   2.03912273e-01  9.78989184e-01  1.89934373e-01  9.81796801e-01\n",
            "   1.76892191e-01  9.84230220e-01  1.64727479e-01  9.86339092e-01\n",
            "   1.53384745e-01  9.88166571e-01  1.42811313e-01  9.89749908e-01\n",
            "   1.32957265e-01  9.91121769e-01  1.23775527e-01  9.92310226e-01\n",
            "   1.15221716e-01  9.93339777e-01  1.07254080e-01  9.94231641e-01\n",
            "   9.98334140e-02  9.95004177e-01  9.29229558e-02  9.95673299e-01\n",
            "   8.64882395e-02  9.96252894e-01  8.04970339e-02  9.96754825e-01\n",
            "   7.49191567e-02  9.97189581e-01  6.97264373e-02  9.97566164e-01\n",
            "   6.48925304e-02  9.97892261e-01  6.03928678e-02  9.98174667e-01\n",
            "   5.62044978e-02  9.98419285e-01  5.23060299e-02  9.98631120e-01\n",
            "   4.86775078e-02  9.98814523e-01  4.53003272e-02  9.98973429e-01\n",
            "   4.21571545e-02  9.99110997e-01  3.92318256e-02  9.99230146e-01\n",
            "   3.65092978e-02  9.99333322e-01  3.39755416e-02  9.99422669e-01\n",
            "   3.16175073e-02  9.99500036e-01  2.94230245e-02  9.99567032e-01\n",
            "   2.73807738e-02  9.99625087e-01  2.54802089e-02  9.99675333e-01\n",
            "   2.37115137e-02  9.99718845e-01  2.20655501e-02  9.99756515e-01\n",
            "   2.05338076e-02  9.99789178e-01  1.91083662e-02  9.99817431e-01\n",
            "   1.77818574e-02  9.99841869e-01  1.65474154e-02  9.99863088e-01\n",
            "   1.53986569e-02  9.99881446e-01  1.43296355e-02  9.99897301e-01\n",
            "   1.33348191e-02  9.99911070e-01  1.24090593e-02  9.99922991e-01\n",
            "   1.15475636e-02  9.99933302e-01  1.07458718e-02  9.99942243e-01\n",
            "   9.99983307e-03  9.99949992e-01  9.30558611e-03  9.99956727e-01\n",
            "   8.65953509e-03  9.99962509e-01  8.05833470e-03  9.99967515e-01\n",
            "   7.49887200e-03  9.99971867e-01  6.97824918e-03  9.99975681e-01\n",
            "   6.49377052e-03  9.99978900e-01  6.04292704e-03  9.99981761e-01\n",
            "   5.62338345e-03  9.99984205e-01  5.23296744e-03  9.99986291e-01\n",
            "   4.86965617e-03  9.99988139e-01  4.53156792e-03  9.99989748e-01\n",
            "   4.21695272e-03  9.99991119e-01  3.92417982e-03  9.99992311e-01\n",
            "   3.65173304e-03  9.99993324e-01  3.39820189e-03  9.99994218e-01\n",
            "   3.16227227e-03  9.99994993e-01  2.94272299e-03  9.99995649e-01\n",
            "   2.73841619e-03  9.99996245e-01  2.54829391e-03  9.99996781e-01\n",
            "   2.37137149e-03  9.99997199e-01  2.20673229e-03  9.99997556e-01\n",
            "   2.05352367e-03  9.99997914e-01  1.91095180e-03  9.99998152e-01\n",
            "   1.77827850e-03  9.99998391e-01  1.65481633e-03  9.99998629e-01\n",
            "   1.53992593e-03  9.99998808e-01  1.43301208e-03  9.99998987e-01\n",
            "   1.33352098e-03  9.99999106e-01  1.24093739e-03  9.99999225e-01\n",
            "   1.15478178e-03  9.99999344e-01  1.07460760e-03  9.99999404e-01\n",
            "   9.99999815e-04  9.99999523e-01  9.30571929e-04  9.99999583e-01\n",
            "   8.65964219e-04  9.99999642e-01  8.05842108e-04  9.99999702e-01\n",
            "   7.49894127e-04  9.99999702e-01  6.97830517e-04  9.99999762e-01\n",
            "   6.49381604e-04  9.99999762e-01  6.04296336e-04  9.99999821e-01\n",
            "   5.62341302e-04  9.99999821e-01  5.23299095e-04  9.99999881e-01\n",
            "   4.86967503e-04  9.99999881e-01  4.53158340e-04  9.99999881e-01\n",
            "   4.21696488e-04  9.99999940e-01  3.92418966e-04  9.99999940e-01\n",
            "   3.65174114e-04  9.99999940e-01  3.39820836e-04  9.99999940e-01\n",
            "   3.16227757e-04  9.99999940e-01  2.94272701e-04  9.99999940e-01\n",
            "   2.73841957e-04  9.99999940e-01  2.54829676e-04  9.99999940e-01\n",
            "   2.37137370e-04  1.00000000e+00  2.20673406e-04  1.00000000e+00\n",
            "   2.05352495e-04  1.00000000e+00  1.91095300e-04  1.00000000e+00\n",
            "   1.77827940e-04  1.00000000e+00  1.65481702e-04  1.00000000e+00\n",
            "   1.53992645e-04  1.00000000e+00  1.43301251e-04  1.00000000e+00\n",
            "   1.33352136e-04  1.00000000e+00  1.24093771e-04  1.00000000e+00\n",
            "   1.15478200e-04  1.00000000e+00  1.07460786e-04  1.00000000e+00\n",
            "   9.99999975e-05  1.00000000e+00  9.30572060e-05  1.00000000e+00\n",
            "   8.65964321e-05  1.00000000e+00  8.05842210e-05  1.00000000e+00\n",
            "   7.49894243e-05  1.00000000e+00  6.97830619e-05  1.00000000e+00\n",
            "   6.49381618e-05  1.00000000e+00  6.04296401e-05  1.00000000e+00\n",
            "   5.62341338e-05  1.00000000e+00  5.23299132e-05  1.00000000e+00\n",
            "   4.86967510e-05  1.00000000e+00  4.53158355e-05  1.00000000e+00\n",
            "   4.21696495e-05  1.00000000e+00  3.92418988e-05  1.00000000e+00\n",
            "   3.65174128e-05  1.00000000e+00  3.39820836e-05  1.00000000e+00\n",
            "   3.16227779e-05  1.00000000e+00  2.94272722e-05  1.00000000e+00\n",
            "   2.73841961e-05  1.00000000e+00  2.54829683e-05  1.00000000e+00\n",
            "   2.37137374e-05  1.00000000e+00  2.20673410e-05  1.00000000e+00\n",
            "   2.05352499e-05  1.00000000e+00  1.91095296e-05  1.00000000e+00\n",
            "   1.77827933e-05  1.00000000e+00  1.65481706e-05  1.00000000e+00\n",
            "   1.53992660e-05  1.00000000e+00  1.43301259e-05  1.00000000e+00\n",
            "   1.33352141e-05  1.00000000e+00  1.24093776e-05  1.00000000e+00\n",
            "   1.15478197e-05  1.00000000e+00  1.07460783e-05  1.00000000e+00\n",
            "   9.99999975e-06  1.00000000e+00  9.30572060e-06  1.00000000e+00\n",
            "   8.65964284e-06  1.00000000e+00  8.05842228e-06  1.00000000e+00\n",
            "   7.49894207e-06  1.00000000e+00  6.97830592e-06  1.00000000e+00\n",
            "   6.49381627e-06  1.00000000e+00  6.04296383e-06  1.00000000e+00\n",
            "   5.62341347e-06  1.00000000e+00  5.23299104e-06  1.00000000e+00\n",
            "   4.86967519e-06  1.00000000e+00  4.53158373e-06  1.00000000e+00\n",
            "   4.21696495e-06  1.00000000e+00  3.92418997e-06  1.00000000e+00\n",
            "   3.65174128e-06  1.00000000e+00  3.39820826e-06  1.00000000e+00\n",
            "   3.16227761e-06  1.00000000e+00  2.94272718e-06  1.00000000e+00\n",
            "   2.73841965e-06  1.00000000e+00  2.54829683e-06  1.00000000e+00\n",
            "   2.37137374e-06  1.00000000e+00  2.20673405e-06  1.00000000e+00\n",
            "   2.05352512e-06  1.00000000e+00  1.91095296e-06  1.00000000e+00\n",
            "   1.77827940e-06  1.00000000e+00  1.65481708e-06  1.00000000e+00\n",
            "   1.53992653e-06  1.00000000e+00  1.43301259e-06  1.00000000e+00\n",
            "   1.33352148e-06  1.00000000e+00  1.24093776e-06  1.00000000e+00\n",
            "   1.15478201e-06  1.00000000e+00  1.07460778e-06  1.00000000e+00\n",
            "   9.99999997e-07  1.00000000e+00  9.30572014e-07  1.00000000e+00\n",
            "   8.65964296e-07  1.00000000e+00  8.05842205e-07  1.00000000e+00\n",
            "   7.49894184e-07  1.00000000e+00  6.97830558e-07  1.00000000e+00\n",
            "   6.49381604e-07  1.00000000e+00  6.04296417e-07  1.00000000e+00\n",
            "   5.62341313e-07  1.00000000e+00  5.23299093e-07  1.00000000e+00\n",
            "   4.86967508e-07  1.00000000e+00  4.53158350e-07  1.00000000e+00\n",
            "   4.21696512e-07  1.00000000e+00  3.92418968e-07  1.00000000e+00\n",
            "   3.65174117e-07  1.00000000e+00  3.39820843e-07  1.00000000e+00\n",
            "   3.16227755e-07  1.00000000e+00  2.94272724e-07  1.00000000e+00\n",
            "   2.73841977e-07  1.00000000e+00  2.54829672e-07  1.00000000e+00\n",
            "   2.37137371e-07  1.00000000e+00  2.20673414e-07  1.00000000e+00\n",
            "   2.05352507e-07  1.00000000e+00  1.91095296e-07  1.00000000e+00\n",
            "   1.77827943e-07  1.00000000e+00  1.65481708e-07  1.00000000e+00\n",
            "   1.53992659e-07  1.00000000e+00  1.43301250e-07  1.00000000e+00\n",
            "   1.33352145e-07  1.00000000e+00  1.24093773e-07  1.00000000e+00\n",
            "   1.15478201e-07  1.00000000e+00  1.07460785e-07  1.00000000e+00]]\n",
            "encoded embedding\n",
            "[[ 6.09359384e-01 -3.53546786e+00 -1.88655540e-01  1.40528381e-01\n",
            "   7.12703407e-01  3.63541730e-02  1.86120474e+00  5.13495445e-01\n",
            "   1.09045386e+00 -1.01986504e+00  2.38057330e-01 -5.70555151e-01\n",
            "   7.88692832e-01  4.59305458e-02 -8.29055250e-01  1.93352127e+00\n",
            "   5.32031775e-01 -1.47003472e+00 -3.50026369e-01  1.25470936e+00\n",
            "  -3.21635365e+00 -9.84352648e-01 -2.03512096e+00  4.61768210e-01\n",
            "  -2.59097385e+00  1.99353158e+00 -8.93799365e-01  4.02551383e-01\n",
            "  -6.45812213e-01 -5.16036570e-01  4.19126712e-02 -1.89054859e+00\n",
            "   2.04838276e+00  5.64663252e-03 -5.04749656e-01 -1.47712612e+00\n",
            "  -6.73640370e-01 -3.29202127e+00  1.45495045e+00 -2.22150946e+00\n",
            "   3.33638400e-01 -1.25630546e+00  7.70072162e-01 -1.62250543e+00\n",
            "   2.31843638e+00 -3.68219107e-01  2.14527798e+00 -1.77628145e-01\n",
            "   3.80795741e+00 -3.55419159e-01 -1.01261282e+00 -4.06404972e-01\n",
            "  -8.53443742e-01  1.28604233e+00  1.56972408e+00  2.17086837e-01\n",
            "   1.93890893e+00  1.23900330e+00  2.21803260e+00  1.08747149e+00\n",
            "   3.73351693e+00  3.44411325e+00 -3.13230902e-01  6.88924730e-01\n",
            "   9.57929850e-01  2.83355981e-01  1.46031666e+00 -1.08046472e+00\n",
            "   3.52148771e+00 -2.61896173e-03  3.34654525e-02  2.64398742e+00\n",
            "   2.03036761e+00 -2.45048791e-01 -7.80590326e-02 -2.55825043e-01\n",
            "   1.51913476e+00  1.20752990e+00 -1.96867734e-02  1.35003448e+00\n",
            "  -1.77906305e-01  3.88866305e+00  5.66435754e-01 -1.24242544e+00\n",
            "   1.34888440e-01  1.84241676e+00  2.54748416e+00 -1.24779604e-01\n",
            "   1.74236500e+00  2.88714099e+00  3.29540014e-01  1.15073931e+00\n",
            "   9.20761824e-01 -5.91740787e-01  1.09996986e+00  1.86467886e-01\n",
            "  -4.12767380e-01 -1.45148623e+00 -3.52461576e-01  8.73091221e-01\n",
            "  -5.93745291e-01  2.17462254e+00  2.93188304e-01  1.30238986e+00\n",
            "   5.25576293e-01 -3.94621491e-01 -1.52746332e+00  8.09297562e-01\n",
            "   9.54909325e-01 -8.77267420e-01 -1.28479648e+00  1.13199079e+00\n",
            "   3.49865150e+00  9.70217943e-01  5.97671807e-01  1.85625291e+00\n",
            "   6.46006227e-01  1.54572082e+00  9.48680639e-01 -1.21979225e+00\n",
            "  -6.27047598e-01  9.56890583e-01  9.05974448e-01  2.68016362e+00\n",
            "   4.60746139e-01  1.75548160e+00  6.00249112e-01  8.09038579e-01\n",
            "  -5.20646214e-01 -3.11773598e-01  8.56595486e-02  5.58211744e-01\n",
            "  -1.36622798e+00 -1.56385911e+00 -7.86707759e-01  2.79876924e+00\n",
            "  -1.19901128e-01  1.14962041e+00  4.67401117e-01  8.46200407e-01\n",
            "  -4.53230768e-01 -6.14510119e-01  2.67659521e+00  2.71239495e+00\n",
            "   1.85812354e-01 -2.51235276e-01  3.35945249e-01  3.31028074e-01\n",
            "   8.89709890e-01  5.61981976e-01  7.49938667e-01  6.51398361e-01\n",
            "  -2.23324037e+00  3.95009965e-01  7.77071476e-01  1.98007977e+00\n",
            "   4.30396706e-01  1.26739895e+00  8.24021518e-01 -3.73485833e-02\n",
            "  -5.73256373e-01  1.02125311e+00  3.89694065e-01  1.03082812e+00\n",
            "   1.27253950e+00  1.26865613e+00  6.61343634e-01  4.90115248e-02\n",
            "   2.62099952e-01  1.47900081e+00 -8.92835796e-01 -1.84493351e+00\n",
            "  -8.04678798e-01  1.10984588e+00 -3.30722451e-01  4.28831220e-01\n",
            "  -1.45030582e+00  8.06568623e-01 -2.82082111e-01  2.28857565e+00\n",
            "  -7.30514348e-01  1.47986901e+00 -7.91626751e-01  1.28548849e+00\n",
            "   1.84847917e-02  9.47498500e-01  9.16166186e-01 -2.09897324e-01\n",
            "  -3.26898307e-01  1.23971653e+00 -6.65481947e-03  1.25171745e+00\n",
            "   6.57219291e-01  3.75020206e-01  2.32920289e+00  2.57334471e-01\n",
            "   3.81411791e-01  1.47238898e+00 -1.12079775e+00  1.90730345e+00\n",
            "   8.15779984e-01 -1.79537028e-01  2.71441549e-01  1.90833437e+00\n",
            "   2.51367390e-01  3.08882356e+00  9.47866678e-01  1.07763565e+00\n",
            "   1.37586021e+00  1.06903696e+00  1.57338575e-01  4.78747904e-01\n",
            "  -2.22611830e-01 -1.23333521e-01 -1.36822864e-01 -9.86673117e-01\n",
            "   5.17738521e-01  5.50591171e-01 -7.12517440e-01  3.31061387e+00\n",
            "   1.35977492e-01  8.64748836e-01 -2.79197901e-01  2.97953367e+00\n",
            "  -2.70967603e+00 -1.64774969e-01  3.88636529e-01  3.61022449e+00\n",
            "  -2.71927524e+00  6.34287238e-01 -1.87609121e-01  9.53760803e-01\n",
            "   1.75916076e-01 -5.71068406e-01  7.42544711e-01  4.60605741e-01\n",
            "  -9.69492257e-01  4.47617233e-01  2.79969066e-01  6.06427073e-01\n",
            "  -2.71791279e-01  4.24908191e-01 -8.21867883e-01  2.59407496e+00\n",
            "  -5.58688879e-01  3.37317884e-01  1.23330855e+00 -2.27699935e-01\n",
            "  -4.61065680e-01  7.01374292e-01  1.50862634e+00  2.20998383e+00\n",
            "  -2.17530513e+00  3.94901335e-01 -9.98528540e-01  9.47243273e-01\n",
            "   1.17705882e+00  9.44251418e-01  8.87981296e-01  1.20306432e-01\n",
            "  -4.47388858e-01  2.87088513e+00 -7.18984246e-01  1.78720081e+00\n",
            "   3.34106684e-02  3.74723148e+00 -8.61193180e-01  2.07673851e-02\n",
            "   6.81276619e-01  1.74131978e+00  1.30767198e-02  3.20623016e+00\n",
            "  -9.33336973e-01  2.17430615e+00 -1.25882363e+00  2.00765061e+00\n",
            "   1.04774523e+00  2.91727304e+00 -8.41048777e-01 -2.51394324e-02\n",
            "  -3.00453663e-01  9.40762162e-01 -6.16628230e-01  3.89604926e-01\n",
            "   3.20281357e-01  1.61789644e+00 -1.30155361e+00  9.82126355e-01\n",
            "  -1.83613095e-02 -8.83556008e-02 -8.53983045e-01  1.80097520e+00\n",
            "  -3.83251123e-02 -4.26114708e-01  1.04803431e+00  8.64875257e-01\n",
            "   8.47182333e-01  2.07252264e+00  1.70877337e+00  1.06580770e+00\n",
            "  -1.68836713e+00 -4.98270899e-01  1.00104082e+00  4.93641496e-01\n",
            "  -7.25116014e-01  5.25738478e-01 -4.07957554e-01  2.63459158e+00\n",
            "   1.96096158e+00  1.10840213e+00  7.82449171e-02  3.24171233e+00\n",
            "   7.80636370e-01  1.83730137e+00  1.41483739e-01  3.03338289e+00\n",
            "  -1.63703418e+00  1.51297545e+00  9.59341466e-01  1.33704519e+00\n",
            "   4.43488210e-01 -1.86233783e+00  9.64367628e-01  1.69347405e+00\n",
            "   4.99911636e-01 -3.43406349e-01  1.43526411e+00  2.74537635e+00\n",
            "  -9.21086788e-01  2.54334641e+00  1.29770383e-01  1.39726508e+00\n",
            "   2.17886186e+00  7.71143496e-01  1.72611535e+00  2.13650751e+00\n",
            "  -1.87095165e+00  1.67918313e+00  9.16138947e-01  2.55406213e+00\n",
            "  -1.74937224e+00  1.12980759e+00 -1.68395412e+00  3.12190533e-01\n",
            "   3.03556204e-01 -3.19715261e-01 -1.00164926e+00 -2.04116678e+00\n",
            "   7.23486602e-01  2.28167200e+00  2.53571868e-01 -4.55385298e-01\n",
            "   1.07399142e+00  1.41189313e+00  5.01579642e-01  6.26814485e-01\n",
            "  -1.01924822e-01  4.63657640e-02 -6.61529005e-02  1.06816816e+00\n",
            "  -1.64649618e+00  8.77144933e-01 -1.13857770e+00  1.67278600e+00\n",
            "   1.65714815e-01  2.38023543e+00  6.74175143e-01  1.79944217e+00\n",
            "  -8.26809466e-01  1.13698557e-01 -1.41303921e+00  1.38841033e+00\n",
            "   8.29918027e-01 -9.35112357e-01  5.21811724e-01  2.54884553e+00\n",
            "  -1.20983624e+00  3.00379843e-01 -2.79655552e+00  4.99421239e-01\n",
            "  -9.25410569e-01  2.54775196e-01 -4.66585249e-01  1.15531266e+00\n",
            "  -1.84476361e-01  2.61402607e+00  8.61699522e-01  2.57548594e+00\n",
            "   3.47808123e-01  1.11137104e+00 -2.10396528e-01  1.82824743e+00\n",
            "  -3.35708797e-01  2.07924318e+00 -1.00639653e+00  1.02692652e+00\n",
            "   8.63697171e-01 -1.06334865e+00 -2.21858072e+00  1.99528968e+00\n",
            "  -8.80124748e-01  9.03987229e-01 -5.31826794e-01  1.66263199e+00\n",
            "  -9.30902541e-01  2.31527146e-02  7.40811750e-02  3.50533938e+00\n",
            "   2.04389095e+00 -1.71404409e+00 -9.22204077e-01 -8.62598538e-01\n",
            "   6.25915766e-01  4.48166020e-03 -8.85123834e-02 -4.26942587e-01\n",
            "   1.58140421e+00  1.61727285e+00  6.29603624e-01  8.85119915e-01\n",
            "  -1.21565855e+00  1.43294179e+00 -1.04364073e+00  2.60459757e+00\n",
            "  -4.24582690e-01  3.44494075e-01  9.44374144e-01  1.03857660e+00\n",
            "  -2.67904830e+00  1.66145027e+00  1.05817899e-01 -1.19106853e+00\n",
            "  -3.34845275e-01  1.88073516e+00 -1.57422411e+00 -5.35457253e-01\n",
            "   1.95300043e-01  2.51437616e+00  7.68895745e-01  1.16227531e+00\n",
            "  -5.74928403e-01  1.11105645e+00 -1.24126852e+00  9.68942046e-01\n",
            "   1.06646085e+00  4.04999971e-01  4.00657922e-01  2.64684820e+00\n",
            "   9.69928265e-01  7.12833464e-01  2.33404011e-01  2.08979774e+00\n",
            "   1.04944676e-01  8.73793364e-01  1.50900376e+00  3.06547642e+00\n",
            "   7.66261220e-01 -5.40752053e-01  1.90029383e+00  5.36525130e-01\n",
            "   8.60543430e-01  2.05192852e+00  1.93713450e+00  1.33641803e+00\n",
            "  -1.66551280e+00  1.83108950e+00  4.96771991e-01  1.36369729e+00\n",
            "   1.55390334e+00  1.92462111e+00 -4.64593098e-02  8.60547364e-01\n",
            "   2.27973056e+00  1.68767881e+00  3.57157516e+00  2.72700260e-03\n",
            "   2.58240247e+00 -2.80861259e-01 -7.67316937e-01  1.52985847e+00\n",
            "   1.12619221e+00  1.90844452e+00  6.71392381e-01  4.33902264e+00\n",
            "  -1.23616767e+00 -1.07986785e-01 -1.26247096e+00  2.34635091e+00\n",
            "   3.60467494e-01  7.01907873e-01 -1.84263861e+00  2.35088968e+00\n",
            "   8.52718294e-01  1.03525126e+00  1.41458833e+00  4.40951049e-01\n",
            "   9.04568970e-01 -2.07360315e+00  6.47377133e-01  2.36953783e+00\n",
            "   1.20516789e+00  2.21269608e+00  9.29462910e-01  1.71505964e+00\n",
            "  -1.85364306e+00 -1.03406405e+00  5.91019034e-01  2.51037621e+00\n",
            "  -7.24432707e-01 -1.55284882e+00 -4.39937085e-01  2.24333405e+00]]\n"
          ],
          "name": "stdout"
        }
      ]
    },
    {
      "cell_type": "markdown",
      "metadata": {
        "id": "634lIkTZq8kl"
      },
      "source": [
        "### Sub-layer 1 : Multi-head attention\n"
      ]
    },
    {
      "cell_type": "markdown",
      "metadata": {
        "id": "pX4NA48yHQl7"
      },
      "source": [
        "##### Step 1: Represent the input"
      ]
    },
    {
      "cell_type": "code",
      "metadata": {
        "id": "J3aRhbHMrLub"
      },
      "source": [
        "import numpy as np\n",
        "from scipy.special import softmax"
      ],
      "execution_count": null,
      "outputs": []
    },
    {
      "cell_type": "code",
      "metadata": {
        "id": "C2zA-8mEEWBy",
        "colab": {
          "base_uri": "https://localhost:8080/"
        },
        "outputId": "d1edb0d1-3b2c-4e36-f296-e316cf552907"
      },
      "source": [
        "print(\"Step 1: Input : 3 inputs, d_model=4\")\n",
        "x =np.array([[1.0, 0.0, 1.0, 0.0],   # Input 1\n",
        "             [0.0, 2.0, 0.0, 2.0],   # Input 2\n",
        "             [1.0, 1.0, 1.0, 1.0]])  # Input 3\n",
        "print(x)"
      ],
      "execution_count": null,
      "outputs": [
        {
          "output_type": "stream",
          "text": [
            "Step 1: Input : 3 inputs, d_model=4\n",
            "[[1. 0. 1. 0.]\n",
            " [0. 2. 0. 2.]\n",
            " [1. 1. 1. 1.]]\n"
          ],
          "name": "stdout"
        }
      ]
    },
    {
      "cell_type": "markdown",
      "metadata": {
        "id": "7nxgn8g4HV0R"
      },
      "source": [
        "##### Step 2: Initializing the weight matrices"
      ]
    },
    {
      "cell_type": "code",
      "metadata": {
        "id": "nJzIo-GuFgUm",
        "colab": {
          "base_uri": "https://localhost:8080/"
        },
        "outputId": "368e4e97-4d03-4d60-d8f5-200e13bcdb30"
      },
      "source": [
        "print(\"Step 2: weights 3 dimensions x d_model=4\")\n",
        "print(\"w_query\")\n",
        "w_query =np.array([[1, 0, 1],\n",
        "                   [1, 0, 0],\n",
        "                   [0, 0, 1],\n",
        "                   [0, 1, 1]])\n",
        "print(w_query)"
      ],
      "execution_count": null,
      "outputs": [
        {
          "output_type": "stream",
          "text": [
            "Step 2: weights 3 dimensions x d_model=4\n",
            "w_query\n",
            "[[1 0 1]\n",
            " [1 0 0]\n",
            " [0 0 1]\n",
            " [0 1 1]]\n"
          ],
          "name": "stdout"
        }
      ]
    },
    {
      "cell_type": "code",
      "metadata": {
        "id": "FeKnvIWBFvbO",
        "colab": {
          "base_uri": "https://localhost:8080/"
        },
        "outputId": "acaddc00-91d3-4bf7-e34a-a894c2341290"
      },
      "source": [
        "print(\"w_key\")\n",
        "w_key =np.array([[0, 0, 1],\n",
        "                 [1, 1, 0],\n",
        "                 [0, 1, 0],\n",
        "                 [1, 1, 0]])\n",
        "print(w_key)"
      ],
      "execution_count": null,
      "outputs": [
        {
          "output_type": "stream",
          "text": [
            "w_key\n",
            "[[0 0 1]\n",
            " [1 1 0]\n",
            " [0 1 0]\n",
            " [1 1 0]]\n"
          ],
          "name": "stdout"
        }
      ]
    },
    {
      "cell_type": "code",
      "metadata": {
        "id": "N1i7CnriF5YQ",
        "colab": {
          "base_uri": "https://localhost:8080/"
        },
        "outputId": "4d5a9e88-b930-4671-bb6d-aacd1721d12f"
      },
      "source": [
        "print(\"w_value\")\n",
        "w_value = np.array([[0, 2, 0],\n",
        "                    [0, 3, 0],\n",
        "                    [1, 0, 3],\n",
        "                    [1, 1, 0]])\n",
        "print(w_value)"
      ],
      "execution_count": null,
      "outputs": [
        {
          "output_type": "stream",
          "text": [
            "w_value\n",
            "[[0 2 0]\n",
            " [0 3 0]\n",
            " [1 0 3]\n",
            " [1 1 0]]\n"
          ],
          "name": "stdout"
        }
      ]
    },
    {
      "cell_type": "markdown",
      "metadata": {
        "id": "aXtyL3CLHbWR"
      },
      "source": [
        "##### Step 3: Matrix multiplication to obtain Q, K, V"
      ]
    },
    {
      "cell_type": "code",
      "metadata": {
        "id": "rcPLI1GTGE8i",
        "colab": {
          "base_uri": "https://localhost:8080/"
        },
        "outputId": "c33ab3cb-8e1f-468c-f469-d72d3fe71370"
      },
      "source": [
        "print(\"Step 3: Matrix multiplication to obtain Q,K,V\")\n",
        "print(\"Query: x * w_query\")\n",
        "Q=np.matmul(x,w_query)\n",
        "print(Q)"
      ],
      "execution_count": null,
      "outputs": [
        {
          "output_type": "stream",
          "text": [
            "Step 3: Matrix multiplication to obtain Q,K,V\n",
            "Query: x * w_query\n",
            "[[1. 0. 2.]\n",
            " [2. 2. 2.]\n",
            " [2. 1. 3.]]\n"
          ],
          "name": "stdout"
        }
      ]
    },
    {
      "cell_type": "code",
      "metadata": {
        "id": "tDKnlqxYGL6x",
        "colab": {
          "base_uri": "https://localhost:8080/"
        },
        "outputId": "b9abf6e9-b9d9-4384-92f5-f88dc64ab86c"
      },
      "source": [
        "print(\"Key: x * w_key\")\n",
        "K=np.matmul(x,w_key)\n",
        "print(K)"
      ],
      "execution_count": null,
      "outputs": [
        {
          "output_type": "stream",
          "text": [
            "Key: x * w_key\n",
            "[[0. 1. 1.]\n",
            " [4. 4. 0.]\n",
            " [2. 3. 1.]]\n"
          ],
          "name": "stdout"
        }
      ]
    },
    {
      "cell_type": "code",
      "metadata": {
        "id": "soW0n_WGGOrK",
        "colab": {
          "base_uri": "https://localhost:8080/"
        },
        "outputId": "dfc47d5c-e749-4c85-8d57-d63442fff283"
      },
      "source": [
        "print(\"Value: x * w_value\")\n",
        "V=np.matmul(x,w_value)\n",
        "print(V)"
      ],
      "execution_count": null,
      "outputs": [
        {
          "output_type": "stream",
          "text": [
            "Value: x * w_value\n",
            "[[1. 2. 3.]\n",
            " [2. 8. 0.]\n",
            " [2. 6. 3.]]\n"
          ],
          "name": "stdout"
        }
      ]
    },
    {
      "cell_type": "markdown",
      "metadata": {
        "id": "BLSPjlflHgHr"
      },
      "source": [
        "##### Step 4: Scaled attention scores"
      ]
    },
    {
      "cell_type": "code",
      "metadata": {
        "id": "zapZIXd_IGFz",
        "colab": {
          "base_uri": "https://localhost:8080/"
        },
        "outputId": "c76c92d9-ec32-4c44-f2be-3e720da4dd6e"
      },
      "source": [
        "print(\"Step 4: Scaled Attention Scores\")\n",
        "k_d = 1 #square root of k_d=3 rounded down to 1 for this example \n",
        "attention_scores = (Q @ K.transpose())/k_d \n",
        "print(attention_scores)"
      ],
      "execution_count": null,
      "outputs": [
        {
          "output_type": "stream",
          "text": [
            "Step 4: Scaled Attention Scores\n",
            "[[ 2.  4.  4.]\n",
            " [ 4. 16. 12.]\n",
            " [ 4. 12. 10.]]\n"
          ],
          "name": "stdout"
        }
      ]
    },
    {
      "cell_type": "markdown",
      "metadata": {
        "id": "IL9dBPZPHi3w"
      },
      "source": [
        "##### Step 5: Scaled softmax attention scores for each vector"
      ]
    },
    {
      "cell_type": "code",
      "metadata": {
        "id": "82joxilaIh_0",
        "colab": {
          "base_uri": "https://localhost:8080/"
        },
        "outputId": "5eae7b24-b49c-45d1-9298-f5cb1378bcb4"
      },
      "source": [
        "print(\"Step 5: Scaled softmax attention_scores for each vector\")\n",
        "attention_scores[0]=softmax(attention_scores[0])\n",
        "attention_scores[1]=softmax(attention_scores[1])\n",
        "attention_scores[2]=softmax(attention_scores[2])\n",
        "print(attention_scores[0])\n",
        "print(attention_scores[1])\n",
        "print(attention_scores[2])"
      ],
      "execution_count": null,
      "outputs": [
        {
          "output_type": "stream",
          "text": [
            "Step 5: Scaled softmax attention_scores for each vector\n",
            "[0.06337894 0.46831053 0.46831053]\n",
            "[6.03366485e-06 9.82007865e-01 1.79861014e-02]\n",
            "[2.95387223e-04 8.80536902e-01 1.19167711e-01]\n"
          ],
          "name": "stdout"
        }
      ]
    },
    {
      "cell_type": "markdown",
      "metadata": {
        "id": "NJbGg9M1Hmeu"
      },
      "source": [
        "##### Step 6: The final attention representations"
      ]
    },
    {
      "cell_type": "code",
      "metadata": {
        "id": "r3aQy5RXJAaT",
        "colab": {
          "base_uri": "https://localhost:8080/"
        },
        "outputId": "81c1e5b7-da25-4b01-974d-38097aea7654"
      },
      "source": [
        "print(\"Step 6: attention value obtained by score1/k_d * V\")\n",
        "print(V[0])\n",
        "print(V[1])\n",
        "print(V[2])"
      ],
      "execution_count": null,
      "outputs": [
        {
          "output_type": "stream",
          "text": [
            "Step 6: attention value obtained by score1/k_d * V\n",
            "[1. 2. 3.]\n",
            "[2. 8. 0.]\n",
            "[2. 6. 3.]\n"
          ],
          "name": "stdout"
        }
      ]
    },
    {
      "cell_type": "code",
      "metadata": {
        "id": "0EUZkBP5JKoI",
        "colab": {
          "base_uri": "https://localhost:8080/"
        },
        "outputId": "9e917b2d-438d-47c1-8aa4-31102674dd39"
      },
      "source": [
        "print(\"Attention 1\")\n",
        "attention1=attention_scores[0].reshape(-1,1)\n",
        "attention1=attention_scores[0][0]*V[0]\n",
        "print(attention1)"
      ],
      "execution_count": null,
      "outputs": [
        {
          "output_type": "stream",
          "text": [
            "Attention 1\n",
            "[0.06337894 0.12675788 0.19013681]\n"
          ],
          "name": "stdout"
        }
      ]
    },
    {
      "cell_type": "code",
      "metadata": {
        "id": "xH8qmFDRJMq4",
        "colab": {
          "base_uri": "https://localhost:8080/"
        },
        "outputId": "575155a9-fc84-4690-86dc-b32c939be9fa"
      },
      "source": [
        "print(\"Attention 2\")\n",
        "attention2=attention_scores[0][1]*V[1]\n",
        "print(attention2)"
      ],
      "execution_count": null,
      "outputs": [
        {
          "output_type": "stream",
          "text": [
            "Attention 2\n",
            "[0.93662106 3.74648425 0.        ]\n"
          ],
          "name": "stdout"
        }
      ]
    },
    {
      "cell_type": "code",
      "metadata": {
        "id": "G3g9_aMjJOZp",
        "colab": {
          "base_uri": "https://localhost:8080/"
        },
        "outputId": "3b3e1940-d05d-4a25-898d-474e77203781"
      },
      "source": [
        "print(\"Attention 3\")\n",
        "attention3=attention_scores[0][2]*V[2]\n",
        "print(attention3)"
      ],
      "execution_count": null,
      "outputs": [
        {
          "output_type": "stream",
          "text": [
            "Attention 3\n",
            "[0.93662106 2.80986319 1.40493159]\n"
          ],
          "name": "stdout"
        }
      ]
    },
    {
      "cell_type": "markdown",
      "metadata": {
        "id": "IvwHlCiBHpwV"
      },
      "source": [
        "##### Step 7: Summing up the results"
      ]
    },
    {
      "cell_type": "code",
      "metadata": {
        "id": "WSaQONo1K3P7",
        "colab": {
          "base_uri": "https://localhost:8080/"
        },
        "outputId": "d5cb02cc-78e6-423f-c2e4-a7e6bf25d84c"
      },
      "source": [
        "print(\"Step7: summed the results to create the first line of the output matrix\")\n",
        "attention_input1=attention1+attention2+attention3\n",
        "print(attention_input1)"
      ],
      "execution_count": null,
      "outputs": [
        {
          "output_type": "stream",
          "text": [
            "Step7: summed the results to create the first line of the output matrix\n",
            "[1.93662106 6.68310531 1.59506841]\n"
          ],
          "name": "stdout"
        }
      ]
    },
    {
      "cell_type": "markdown",
      "metadata": {
        "id": "BRd8cRddHtIL"
      },
      "source": [
        "##### Step 8: Steps 1 to 7 for all the inputs"
      ]
    },
    {
      "cell_type": "code",
      "metadata": {
        "id": "D6XEZgwKLXxY",
        "colab": {
          "base_uri": "https://localhost:8080/"
        },
        "outputId": "2f4cd9a8-1a8b-429d-cf52-623f153cdc46"
      },
      "source": [
        "print(\"Step 8: Step 1 to 7 for inputs 1 to 3\")\n",
        "#We assume we have 3 results with learned weights (they were not trained in this example)\n",
        "#We assume we are implementing the original Transformer paper.We will have 3 results of 64 dimensions each \n",
        "attention_head1=np.random.random((3, 64))\n",
        "print(attention_head1)"
      ],
      "execution_count": null,
      "outputs": [
        {
          "output_type": "stream",
          "text": [
            "Step 8: Step 1 to 7 for inputs 1 to 3\n",
            "[[0.98550421 0.69239609 0.41630611 0.77804287 0.24200857 0.67972555\n",
            "  0.53339776 0.89381814 0.68144074 0.32319275 0.05732555 0.53927535\n",
            "  0.00385359 0.78189817 0.29055389 0.0443541  0.85531549 0.91210496\n",
            "  0.83753919 0.80081719 0.33810596 0.83194161 0.49140682 0.42388299\n",
            "  0.72766921 0.77616781 0.47770755 0.28895931 0.36764413 0.64254159\n",
            "  0.33070623 0.39721833 0.79803024 0.72290943 0.1831662  0.30067515\n",
            "  0.46350314 0.28110154 0.49200543 0.28043443 0.63799939 0.97766918\n",
            "  0.79009447 0.80628712 0.21188533 0.04959939 0.7192935  0.72066895\n",
            "  0.16076112 0.40831617 0.07500193 0.88284874 0.42545103 0.84235532\n",
            "  0.72652677 0.63126199 0.29851319 0.56029458 0.30546748 0.14275568\n",
            "  0.4424857  0.67414772 0.8411103  0.73755977]\n",
            " [0.06845164 0.7830146  0.30075872 0.92254343 0.84102332 0.53608184\n",
            "  0.48808664 0.31126187 0.41049226 0.88877125 0.55029036 0.61472428\n",
            "  0.44580105 0.5125898  0.87953088 0.79155344 0.81651916 0.22353947\n",
            "  0.34829946 0.40479455 0.33525392 0.71435281 0.87974034 0.99554031\n",
            "  0.93865244 0.91939758 0.52019452 0.19296171 0.1832466  0.3937204\n",
            "  0.65774136 0.03710975 0.61411539 0.25865952 0.69355496 0.86212314\n",
            "  0.54749141 0.0288207  0.77127529 0.87261084 0.66620279 0.42627785\n",
            "  0.63056631 0.15086872 0.52327223 0.6655226  0.36421879 0.95525011\n",
            "  0.47484076 0.48317064 0.16060007 0.86350372 0.897828   0.59582404\n",
            "  0.55468456 0.48040076 0.82003336 0.04061667 0.66912098 0.07990848\n",
            "  0.08330956 0.26507102 0.1479082  0.02852574]\n",
            " [0.73595668 0.05865884 0.74111144 0.77295475 0.327126   0.87104399\n",
            "  0.62001711 0.22969214 0.71342419 0.94153211 0.46938151 0.10523638\n",
            "  0.67754874 0.76697646 0.18882867 0.1228308  0.76920171 0.05708333\n",
            "  0.26602709 0.02886086 0.99683453 0.24403562 0.05298225 0.68614541\n",
            "  0.71571325 0.99797143 0.662439   0.95045013 0.17167178 0.56144105\n",
            "  0.55347225 0.15586855 0.00965393 0.54146959 0.54061725 0.80612296\n",
            "  0.64758764 0.15640504 0.7873197  0.05001556 0.28449401 0.91004483\n",
            "  0.52008419 0.17898731 0.09654239 0.59689433 0.53354221 0.92236658\n",
            "  0.25336998 0.05370342 0.50310527 0.01770098 0.47154633 0.51299543\n",
            "  0.51227906 0.91520727 0.61761007 0.372283   0.07383513 0.15739718\n",
            "  0.72718608 0.27253315 0.60638473 0.3061744 ]]\n"
          ],
          "name": "stdout"
        }
      ]
    },
    {
      "cell_type": "markdown",
      "metadata": {
        "id": "8j6NzI_GL-1-"
      },
      "source": [
        "##### Step 9: The output of the heads of the attention sub-layer"
      ]
    },
    {
      "cell_type": "code",
      "metadata": {
        "id": "gh8H-9qsMESH",
        "colab": {
          "base_uri": "https://localhost:8080/"
        },
        "outputId": "e3fdd397-5bc1-4ae7-8d11-b1d5a25a3a60"
      },
      "source": [
        "print(\"Step 9: We assume we have trained the 8 heads of the attention sub-layer\")\n",
        "z0h1=np.random.random((3, 64))\n",
        "z1h2=np.random.random((3, 64))\n",
        "z2h3=np.random.random((3, 64))\n",
        "z3h4=np.random.random((3, 64))\n",
        "z4h5=np.random.random((3, 64))\n",
        "z5h6=np.random.random((3, 64))\n",
        "z6h7=np.random.random((3, 64))\n",
        "z7h8=np.random.random((3, 64))\n",
        "print(\"shape of one head\",z0h1.shape,\"dimension of 8 heads\",64*8)"
      ],
      "execution_count": null,
      "outputs": [
        {
          "output_type": "stream",
          "text": [
            "Step 9: We assume we have trained the 8 heads of the attention sub-layer\n",
            "shape of one head (3, 64) dimension of 8 heads 512\n"
          ],
          "name": "stdout"
        }
      ]
    },
    {
      "cell_type": "markdown",
      "metadata": {
        "id": "nUtRo3omME4r"
      },
      "source": [
        "##### Step 10: Concatenation of the output of the heads"
      ]
    },
    {
      "cell_type": "code",
      "metadata": {
        "id": "zBSDPZdZNulH",
        "colab": {
          "base_uri": "https://localhost:8080/"
        },
        "outputId": "5ba4893c-03f0-42b5-a1fc-6b3c9e551e8c"
      },
      "source": [
        "print(\"Step 10: Concantenation of heads 1 to 8 to obtain the original 8x64=512 ouput dimension of the model\")\n",
        "output_attention=np.hstack((z0h1,z1h2,z2h3,z3h4,z4h5,z5h6,z6h7,z7h8))\n",
        "print(output_attention)"
      ],
      "execution_count": null,
      "outputs": [
        {
          "output_type": "stream",
          "text": [
            "Step 10: Concantenation of heads 1 to 8 to obtain the original 8x64=512 ouput dimension of the model\n",
            "[[0.41873839 0.18751283 0.40838379 ... 0.16434145 0.60697705 0.52614693]\n",
            " [0.59202435 0.44543335 0.32357525 ... 0.80058391 0.58525933 0.78519285]\n",
            " [0.48441961 0.3221019  0.49370963 ... 0.00242846 0.94489259 0.22310239]]\n"
          ],
          "name": "stdout"
        }
      ]
    },
    {
      "cell_type": "markdown",
      "metadata": {
        "id": "e7WWnFmdq9ou"
      },
      "source": [
        "### Sub-layer 2 : Feedforward network\n"
      ]
    },
    {
      "cell_type": "code",
      "metadata": {
        "id": "rNtcfwK9rMLs"
      },
      "source": [
        ""
      ],
      "execution_count": null,
      "outputs": []
    },
    {
      "cell_type": "code",
      "metadata": {
        "id": "qBiId7Z9HuPN"
      },
      "source": [
        ""
      ],
      "execution_count": null,
      "outputs": []
    },
    {
      "cell_type": "markdown",
      "metadata": {
        "id": "MJ74C6f8quu_"
      },
      "source": [
        "## The decoder stack\n",
        "* Output embedding and position encoding\n",
        "* The attention layers\n",
        "* The FFN sub-layer, the Post-LN, and the linear layer\n"
      ]
    },
    {
      "cell_type": "code",
      "metadata": {
        "id": "lcS3r3eBrNPF"
      },
      "source": [
        ""
      ],
      "execution_count": null,
      "outputs": []
    },
    {
      "cell_type": "markdown",
      "metadata": {
        "id": "TVeNyRlxq_1R"
      },
      "source": [
        "### Output embedding and position encoding\n"
      ]
    },
    {
      "cell_type": "code",
      "metadata": {
        "id": "dQ-IL6QbrOts"
      },
      "source": [
        ""
      ],
      "execution_count": null,
      "outputs": []
    },
    {
      "cell_type": "markdown",
      "metadata": {
        "id": "q-dhpxwBrFaU"
      },
      "source": [
        "### The attention layers\n"
      ]
    },
    {
      "cell_type": "code",
      "metadata": {
        "id": "9iVWzZztrPJ2"
      },
      "source": [
        ""
      ],
      "execution_count": null,
      "outputs": []
    },
    {
      "cell_type": "markdown",
      "metadata": {
        "id": "CYbsmkTzrGag"
      },
      "source": [
        "### The FFN sub-layer, the Post-LN, and the linear layer\n"
      ]
    },
    {
      "cell_type": "code",
      "metadata": {
        "id": "tgLWM04srPq5"
      },
      "source": [
        ""
      ],
      "execution_count": null,
      "outputs": []
    },
    {
      "cell_type": "markdown",
      "metadata": {
        "id": "icoqdONCqw1v"
      },
      "source": [
        "# Training and performance\n",
        "* Before we end the chapter\n"
      ]
    },
    {
      "cell_type": "markdown",
      "metadata": {
        "id": "mlmqxjD1qyo4"
      },
      "source": [
        "# Summary"
      ]
    }
  ]
}