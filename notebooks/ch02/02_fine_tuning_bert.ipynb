{
  "nbformat": 4,
  "nbformat_minor": 0,
  "metadata": {
    "colab": {
      "name": "02_fine-tuning_bert.ipynb",
      "provenance": [],
      "authorship_tag": "ABX9TyOMJN2ZcrNGdqyiXv6tqXYI",
      "include_colab_link": true
    },
    "kernelspec": {
      "name": "python3",
      "display_name": "Python 3"
    },
    "language_info": {
      "name": "python"
    },
    "accelerator": "GPU"
  },
  "cells": [
    {
      "cell_type": "markdown",
      "metadata": {
        "id": "view-in-github",
        "colab_type": "text"
      },
      "source": [
        "<a href=\"https://colab.research.google.com/github/psygrammer/psypy_lm/blob/main/notebooks/ch02/02_fine_tuning_bert.ipynb\" target=\"_parent\"><img src=\"https://colab.research.google.com/assets/colab-badge.svg\" alt=\"Open In Colab\"/></a>"
      ]
    },
    {
      "cell_type": "markdown",
      "metadata": {
        "id": "mlTmXgWKW9xo"
      },
      "source": [
        "# 2. Fine-Tuning BERT Models"
      ]
    },
    {
      "cell_type": "markdown",
      "metadata": {
        "id": "WoX3nPsVXNvw"
      },
      "source": [
        "* 싸이그래머 / 싸이파이 [1]\n",
        "* 김무성"
      ]
    },
    {
      "cell_type": "markdown",
      "metadata": {
        "id": "3FUl3TMAXR-U"
      },
      "source": [
        "------------"
      ]
    },
    {
      "cell_type": "code",
      "metadata": {
        "colab": {
          "base_uri": "https://localhost:8080/"
        },
        "id": "RrEjM1oVW3rw",
        "outputId": "771506e3-f9d7-4891-bc10-db20923a97b0"
      },
      "source": [
        "!git clone https://github.com/psygrammer/psypy_lm.git"
      ],
      "execution_count": 1,
      "outputs": [
        {
          "output_type": "stream",
          "text": [
            "Cloning into 'psypy_lm'...\n",
            "remote: Enumerating objects: 42, done.\u001b[K\n",
            "remote: Counting objects: 100% (42/42), done.\u001b[K\n",
            "remote: Compressing objects: 100% (33/33), done.\u001b[K\n",
            "remote: Total 42 (delta 11), reused 8 (delta 1), pack-reused 0\u001b[K\n",
            "Unpacking objects: 100% (42/42), done.\n"
          ],
          "name": "stdout"
        }
      ]
    },
    {
      "cell_type": "code",
      "metadata": {
        "colab": {
          "base_uri": "https://localhost:8080/"
        },
        "id": "2O9nMQaBXh82",
        "outputId": "ba09effe-eea3-4b67-c2f3-6efe71a3abdb"
      },
      "source": [
        "!ls"
      ],
      "execution_count": 2,
      "outputs": [
        {
          "output_type": "stream",
          "text": [
            "psypy_lm  sample_data\n"
          ],
          "name": "stdout"
        }
      ]
    },
    {
      "cell_type": "code",
      "metadata": {
        "colab": {
          "base_uri": "https://localhost:8080/"
        },
        "id": "5xVjv7RGXlDA",
        "outputId": "e476f4ef-154b-4a3f-f9b3-cc92efdc0dc2"
      },
      "source": [
        "# change work_dir\n",
        "%cd /content/psypy_lm/notebooks/ch02"
      ],
      "execution_count": 5,
      "outputs": [
        {
          "output_type": "stream",
          "text": [
            "/content/psypy_lm/notebooks/ch02\n"
          ],
          "name": "stdout"
        }
      ]
    },
    {
      "cell_type": "code",
      "metadata": {
        "colab": {
          "base_uri": "https://localhost:8080/"
        },
        "id": "vttMJrL5XyBP",
        "outputId": "927f49a4-c510-484a-9d05-243e15b07c96"
      },
      "source": [
        "ls"
      ],
      "execution_count": 6,
      "outputs": [
        {
          "output_type": "stream",
          "text": [
            "02_fine_tuning_bert.ipynb\n"
          ],
          "name": "stdout"
        }
      ]
    },
    {
      "cell_type": "code",
      "metadata": {
        "id": "AP-6DF5KXp54",
        "outputId": "ef1433f6-8ed1-4579-8325-58b0777b8bce",
        "colab": {
          "base_uri": "https://localhost:8080/"
        }
      },
      "source": [
        "#@title Activating the GPU\n",
        "# Main menu->Runtime->Change Runtime Type\n",
        "import tensorflow as tf\n",
        "device_name = tf.test.gpu_device_name()\n",
        "if device_name != '/device:GPU:0':\n",
        "  raise SystemError('GPU device not found')\n",
        "print('Found GPU at: {}'.format(device_name))\n"
      ],
      "execution_count": 7,
      "outputs": [
        {
          "output_type": "stream",
          "text": [
            "Found GPU at: /device:GPU:0\n"
          ],
          "name": "stdout"
        }
      ]
    },
    {
      "cell_type": "code",
      "metadata": {
        "id": "cVuUmpnhchRj",
        "outputId": "a460f33c-06ea-4747-b139-dc9f3583001a",
        "colab": {
          "base_uri": "https://localhost:8080/"
        }
      },
      "source": [
        " #@title Installing the Hugging Face PyTorch Interface for Bert\n",
        "!pip install -q transformers"
      ],
      "execution_count": 8,
      "outputs": [
        {
          "output_type": "stream",
          "text": [
            "\u001b[K     |████████████████████████████████| 2.0MB 21.1MB/s \n",
            "\u001b[K     |████████████████████████████████| 890kB 51.8MB/s \n",
            "\u001b[K     |████████████████████████████████| 3.2MB 54.6MB/s \n",
            "\u001b[?25h  Building wheel for sacremoses (setup.py) ... \u001b[?25l\u001b[?25hdone\n"
          ],
          "name": "stdout"
        }
      ]
    },
    {
      "cell_type": "code",
      "metadata": {
        "id": "zvV7seQochzO"
      },
      "source": [
        "#@title Importing the modules\n",
        "import torch\n",
        "from torch.utils.data import TensorDataset, DataLoader, RandomSampler,SequentialSampler\n",
        "from keras.preprocessing.sequence import pad_sequences\n",
        "from sklearn.model_selection import train_test_split\n",
        "from transformers import BertTokenizer, BertConfig\n",
        "from transformers import AdamW, BertForSequenceClassification, get_linear_schedule_with_warmup"
      ],
      "execution_count": 11,
      "outputs": []
    },
    {
      "cell_type": "code",
      "metadata": {
        "id": "RouH3gQecpay"
      },
      "source": [
        "from tqdm import tqdm, trange"
      ],
      "execution_count": 12,
      "outputs": []
    },
    {
      "cell_type": "code",
      "metadata": {
        "id": "eV9xIyEIc41x"
      },
      "source": [
        "import pandas as pd\n",
        "import io\n",
        "import numpy as np\n",
        "import matplotlib.pyplot as plt"
      ],
      "execution_count": 13,
      "outputs": []
    },
    {
      "cell_type": "code",
      "metadata": {
        "id": "lBP_csEBc7j5",
        "outputId": "27e35cdc-ff7a-4a95-c8e8-b6b85017d600",
        "colab": {
          "base_uri": "https://localhost:8080/",
          "height": 35
        }
      },
      "source": [
        "#@title Specify CUDA as device for Torch\n",
        "device = torch.device(\"cuda\" if torch.cuda.is_available() else \"cpu\")\n",
        "n_gpu = torch.cuda.device_count()\n",
        "torch.cuda.get_device_name(0)"
      ],
      "execution_count": 14,
      "outputs": [
        {
          "output_type": "execute_result",
          "data": {
            "application/vnd.google.colaboratory.intrinsic+json": {
              "type": "string"
            },
            "text/plain": [
              "'Tesla T4'"
            ]
          },
          "metadata": {
            "tags": []
          },
          "execution_count": 14
        }
      ]
    },
    {
      "cell_type": "code",
      "metadata": {
        "id": "zL1nh-TkdTYN"
      },
      "source": [
        ""
      ],
      "execution_count": null,
      "outputs": []
    }
  ]
}